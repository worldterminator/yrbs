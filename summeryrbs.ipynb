{
  "nbformat": 4,
  "nbformat_minor": 0,
  "metadata": {
    "colab": {
      "provenance": [],
      "toc_visible": true,
      "authorship_tag": "ABX9TyNrReC5Wud47p8t/hPe840s",
      "include_colab_link": true
    },
    "kernelspec": {
      "name": "python3",
      "display_name": "Python 3"
    },
    "language_info": {
      "name": "python"
    }
  },
  "cells": [
    {
      "cell_type": "markdown",
      "metadata": {
        "id": "view-in-github",
        "colab_type": "text"
      },
      "source": [
        "<a href=\"https://colab.research.google.com/github/worldterminator/yrbs/blob/main/summeryrbs.ipynb\" target=\"_parent\"><img src=\"https://colab.research.google.com/assets/colab-badge.svg\" alt=\"Open In Colab\"/></a>"
      ]
    },
    {
      "cell_type": "markdown",
      "source": [
        "*Hi Dr.Chiu,*\n",
        "\n",
        "in this notebook you'd see a few base models illustrating possible directions we'd go about substance use. Both codes and outputs are included. You may find mistakes, and I (Lucy) apologize in advance. started with alcohol. The relationships I wished to test include concurrent substance uses, alcohol use and access to alchohol, plus suicidal attempts predicted by alchol use and source. We're also looking at initiation patterns across years through age and grade. I chose sexual identity as a moderator to test in multiple models as it might contain unique impacts experienced by a minority group, impacts that can be real yet sometimes overlooked when subjects are taken as a whole.\n",
        "\n",
        "It has been noted [1] before that there are higher substance misuse and disorders for sexual minorities. By targeting a smaller group of people we might be able to reveal unique associations and charactertize their unique health hazards and elevated risks based on data (in the case of adolescent sexual minority, compared to their heterosexual peers). Below you'd see outputs from main base models and also notes of what I did to prepare the data. I and Britney would appreciate your opinion on whether something like this is compatible with the mission of this research group and which specific direction you think may be worth pursuing. We'd like to know the next step.\n",
        "\n",
        "Britney was keen to raise the concern that findings like this perhaps don't immediately give insights about the 'to do' part—the practical implications, especially when it's diffcult to unravel the causal path with de-identified survey data. Besides, as interpetation of results would be key to a topic like this, what I was also concerned about is data quality. For example, results appear to suggest that sexual minorities resort to specific source of getting alchohol more so than their counterparts, and that souce couldn connect them to more suicial/mental health harzards, but that one source option was rather ambigious (take from home or store). The many frenquancy estimation questions and many available options might've created cognitive burden too, which, although common to surveys, need me to be extra caustious with drawing claims.\n",
        "\n",
        "I intended to test for year effects or combine some trend analysis, yet below I only put in two years of data as I want to hear what you think first.\n",
        "\n",
        "1. National Institute on Drug Abuse. (N.A.). National Institute on Drug Abuse. LGBTQI+ People and Substance Use.\n",
        "\n",
        "**~Lucy & Britney**"
      ],
      "metadata": {
        "id": "GbfSjQkaYhEK"
      }
    },
    {
      "cell_type": "markdown",
      "source": [
        "# data upload from local"
      ],
      "metadata": {
        "id": "CRN8_fzdWi7T"
      }
    },
    {
      "cell_type": "code",
      "source": [
        "import pandas as pd\n",
        "file_path = '/yrbs2019.csv' #data uploaded to the disk on the right/collab environment\n",
        "data2019 = pd.read_csv(file_path)"
      ],
      "metadata": {
        "id": "b88nPeaQZvUZ"
      },
      "execution_count": null,
      "outputs": []
    },
    {
      "cell_type": "code",
      "source": [
        "file_path = '/yrbs2021.csv'\n",
        "data2021 = pd.read_csv(file_path)"
      ],
      "metadata": {
        "id": "2cQIQaj8Z_cb"
      },
      "execution_count": null,
      "outputs": []
    },
    {
      "cell_type": "code",
      "source": [
        "summary = data2021['Q65'].value_counts()\n",
        "print(summary)"
      ],
      "metadata": {
        "colab": {
          "base_uri": "https://localhost:8080/"
        },
        "id": "fWNZymQRe8Eu",
        "outputId": "70cda6ce-a575-410e-e75c-526371e7b28d"
      },
      "execution_count": null,
      "outputs": [
        {
          "output_type": "stream",
          "name": "stdout",
          "text": [
            "Q65\n",
            "1.0    12421\n",
            "3.0     1848\n",
            "5.0      823\n",
            "4.0      659\n",
            "2.0      520\n",
            "6.0      330\n",
            "Name: count, dtype: int64\n"
          ]
        }
      ]
    },
    {
      "cell_type": "markdown",
      "source": [
        "# subset 1 (2019) and 2 (2021)"
      ],
      "metadata": {
        "id": "d4q-4GIHWrxy"
      }
    },
    {
      "cell_type": "code",
      "source": [
        "subset1=data2019[['Q28','Q29','Q44','Q66','Q62','Q41','Q42','Q38','Q47','Q48','Q49','Q50','Q51','Q52','Q53', 'Q54','Q55','Q56','Q57']]\n",
        "subset1['year'] = 2019"
      ],
      "metadata": {
        "colab": {
          "base_uri": "https://localhost:8080/"
        },
        "id": "kuQ3vCUegmKo",
        "outputId": "e6d96f13-9815-42e8-abe7-3395092ebde0"
      },
      "execution_count": null,
      "outputs": [
        {
          "output_type": "stream",
          "name": "stderr",
          "text": [
            "<ipython-input-52-46f5fe840de3>:2: SettingWithCopyWarning: \n",
            "A value is trying to be set on a copy of a slice from a DataFrame.\n",
            "Try using .loc[row_indexer,col_indexer] = value instead\n",
            "\n",
            "See the caveats in the documentation: https://pandas.pydata.org/pandas-docs/stable/user_guide/indexing.html#returning-a-view-versus-a-copy\n",
            "  subset1['year'] = 2019\n"
          ]
        }
      ]
    },
    {
      "cell_type": "code",
      "source": [
        "subset1= subset1.dropna()\n",
        "subset1['Q47_binary'] = subset1['Q47'].apply(lambda x: 0 if x == 1 else 1)\n",
        "\n",
        "subset1.head()"
      ],
      "metadata": {
        "colab": {
          "base_uri": "https://localhost:8080/",
          "height": 233
        },
        "id": "coAu1o3YkJ9W",
        "outputId": "8c7f85d5-5c34-4c08-b563-11f37499bc05"
      },
      "execution_count": null,
      "outputs": [
        {
          "output_type": "execute_result",
          "data": {
            "text/plain": [
              "   Q28  Q29  Q44  Q66  Q62  Q41  Q42  Q38  Q47  Q48  ...  Q50  Q51  Q52  Q53  \\\n",
              "0  1.0  1.0  1.0  1.0  1.0  1.0  1.0  1.0  1.0  1.0  ...  1.0  1.0  1.0  1.0   \n",
              "1  1.0  1.0  1.0  1.0  1.0  1.0  1.0  1.0  1.0  1.0  ...  1.0  1.0  1.0  1.0   \n",
              "2  1.0  1.0  1.0  1.0  1.0  1.0  1.0  1.0  1.0  1.0  ...  1.0  1.0  1.0  1.0   \n",
              "4  1.0  1.0  1.0  1.0  1.0  1.0  1.0  1.0  1.0  1.0  ...  1.0  1.0  1.0  1.0   \n",
              "5  1.0  1.0  6.0  3.0  1.0  2.0  1.0  1.0  1.0  1.0  ...  1.0  3.0  1.0  1.0   \n",
              "\n",
              "   Q54  Q55  Q56  Q57  year  Q47_binary  \n",
              "0  1.0  1.0  1.0  1.0  2019           0  \n",
              "1  1.0  1.0  1.0  2.0  2019           0  \n",
              "2  1.0  1.0  1.0  2.0  2019           0  \n",
              "4  1.0  1.0  1.0  2.0  2019           0  \n",
              "5  1.0  1.0  1.0  1.0  2019           0  \n",
              "\n",
              "[5 rows x 21 columns]"
            ],
            "text/html": [
              "\n",
              "  <div id=\"df-789ffe42-d59e-40b5-aec1-f6156a9540f9\" class=\"colab-df-container\">\n",
              "    <div>\n",
              "<style scoped>\n",
              "    .dataframe tbody tr th:only-of-type {\n",
              "        vertical-align: middle;\n",
              "    }\n",
              "\n",
              "    .dataframe tbody tr th {\n",
              "        vertical-align: top;\n",
              "    }\n",
              "\n",
              "    .dataframe thead th {\n",
              "        text-align: right;\n",
              "    }\n",
              "</style>\n",
              "<table border=\"1\" class=\"dataframe\">\n",
              "  <thead>\n",
              "    <tr style=\"text-align: right;\">\n",
              "      <th></th>\n",
              "      <th>Q28</th>\n",
              "      <th>Q29</th>\n",
              "      <th>Q44</th>\n",
              "      <th>Q66</th>\n",
              "      <th>Q62</th>\n",
              "      <th>Q41</th>\n",
              "      <th>Q42</th>\n",
              "      <th>Q38</th>\n",
              "      <th>Q47</th>\n",
              "      <th>Q48</th>\n",
              "      <th>...</th>\n",
              "      <th>Q50</th>\n",
              "      <th>Q51</th>\n",
              "      <th>Q52</th>\n",
              "      <th>Q53</th>\n",
              "      <th>Q54</th>\n",
              "      <th>Q55</th>\n",
              "      <th>Q56</th>\n",
              "      <th>Q57</th>\n",
              "      <th>year</th>\n",
              "      <th>Q47_binary</th>\n",
              "    </tr>\n",
              "  </thead>\n",
              "  <tbody>\n",
              "    <tr>\n",
              "      <th>0</th>\n",
              "      <td>1.0</td>\n",
              "      <td>1.0</td>\n",
              "      <td>1.0</td>\n",
              "      <td>1.0</td>\n",
              "      <td>1.0</td>\n",
              "      <td>1.0</td>\n",
              "      <td>1.0</td>\n",
              "      <td>1.0</td>\n",
              "      <td>1.0</td>\n",
              "      <td>1.0</td>\n",
              "      <td>...</td>\n",
              "      <td>1.0</td>\n",
              "      <td>1.0</td>\n",
              "      <td>1.0</td>\n",
              "      <td>1.0</td>\n",
              "      <td>1.0</td>\n",
              "      <td>1.0</td>\n",
              "      <td>1.0</td>\n",
              "      <td>1.0</td>\n",
              "      <td>2019</td>\n",
              "      <td>0</td>\n",
              "    </tr>\n",
              "    <tr>\n",
              "      <th>1</th>\n",
              "      <td>1.0</td>\n",
              "      <td>1.0</td>\n",
              "      <td>1.0</td>\n",
              "      <td>1.0</td>\n",
              "      <td>1.0</td>\n",
              "      <td>1.0</td>\n",
              "      <td>1.0</td>\n",
              "      <td>1.0</td>\n",
              "      <td>1.0</td>\n",
              "      <td>1.0</td>\n",
              "      <td>...</td>\n",
              "      <td>1.0</td>\n",
              "      <td>1.0</td>\n",
              "      <td>1.0</td>\n",
              "      <td>1.0</td>\n",
              "      <td>1.0</td>\n",
              "      <td>1.0</td>\n",
              "      <td>1.0</td>\n",
              "      <td>2.0</td>\n",
              "      <td>2019</td>\n",
              "      <td>0</td>\n",
              "    </tr>\n",
              "    <tr>\n",
              "      <th>2</th>\n",
              "      <td>1.0</td>\n",
              "      <td>1.0</td>\n",
              "      <td>1.0</td>\n",
              "      <td>1.0</td>\n",
              "      <td>1.0</td>\n",
              "      <td>1.0</td>\n",
              "      <td>1.0</td>\n",
              "      <td>1.0</td>\n",
              "      <td>1.0</td>\n",
              "      <td>1.0</td>\n",
              "      <td>...</td>\n",
              "      <td>1.0</td>\n",
              "      <td>1.0</td>\n",
              "      <td>1.0</td>\n",
              "      <td>1.0</td>\n",
              "      <td>1.0</td>\n",
              "      <td>1.0</td>\n",
              "      <td>1.0</td>\n",
              "      <td>2.0</td>\n",
              "      <td>2019</td>\n",
              "      <td>0</td>\n",
              "    </tr>\n",
              "    <tr>\n",
              "      <th>4</th>\n",
              "      <td>1.0</td>\n",
              "      <td>1.0</td>\n",
              "      <td>1.0</td>\n",
              "      <td>1.0</td>\n",
              "      <td>1.0</td>\n",
              "      <td>1.0</td>\n",
              "      <td>1.0</td>\n",
              "      <td>1.0</td>\n",
              "      <td>1.0</td>\n",
              "      <td>1.0</td>\n",
              "      <td>...</td>\n",
              "      <td>1.0</td>\n",
              "      <td>1.0</td>\n",
              "      <td>1.0</td>\n",
              "      <td>1.0</td>\n",
              "      <td>1.0</td>\n",
              "      <td>1.0</td>\n",
              "      <td>1.0</td>\n",
              "      <td>2.0</td>\n",
              "      <td>2019</td>\n",
              "      <td>0</td>\n",
              "    </tr>\n",
              "    <tr>\n",
              "      <th>5</th>\n",
              "      <td>1.0</td>\n",
              "      <td>1.0</td>\n",
              "      <td>6.0</td>\n",
              "      <td>3.0</td>\n",
              "      <td>1.0</td>\n",
              "      <td>2.0</td>\n",
              "      <td>1.0</td>\n",
              "      <td>1.0</td>\n",
              "      <td>1.0</td>\n",
              "      <td>1.0</td>\n",
              "      <td>...</td>\n",
              "      <td>1.0</td>\n",
              "      <td>3.0</td>\n",
              "      <td>1.0</td>\n",
              "      <td>1.0</td>\n",
              "      <td>1.0</td>\n",
              "      <td>1.0</td>\n",
              "      <td>1.0</td>\n",
              "      <td>1.0</td>\n",
              "      <td>2019</td>\n",
              "      <td>0</td>\n",
              "    </tr>\n",
              "  </tbody>\n",
              "</table>\n",
              "<p>5 rows × 21 columns</p>\n",
              "</div>\n",
              "    <div class=\"colab-df-buttons\">\n",
              "\n",
              "  <div class=\"colab-df-container\">\n",
              "    <button class=\"colab-df-convert\" onclick=\"convertToInteractive('df-789ffe42-d59e-40b5-aec1-f6156a9540f9')\"\n",
              "            title=\"Convert this dataframe to an interactive table.\"\n",
              "            style=\"display:none;\">\n",
              "\n",
              "  <svg xmlns=\"http://www.w3.org/2000/svg\" height=\"24px\" viewBox=\"0 -960 960 960\">\n",
              "    <path d=\"M120-120v-720h720v720H120Zm60-500h600v-160H180v160Zm220 220h160v-160H400v160Zm0 220h160v-160H400v160ZM180-400h160v-160H180v160Zm440 0h160v-160H620v160ZM180-180h160v-160H180v160Zm440 0h160v-160H620v160Z\"/>\n",
              "  </svg>\n",
              "    </button>\n",
              "\n",
              "  <style>\n",
              "    .colab-df-container {\n",
              "      display:flex;\n",
              "      gap: 12px;\n",
              "    }\n",
              "\n",
              "    .colab-df-convert {\n",
              "      background-color: #E8F0FE;\n",
              "      border: none;\n",
              "      border-radius: 50%;\n",
              "      cursor: pointer;\n",
              "      display: none;\n",
              "      fill: #1967D2;\n",
              "      height: 32px;\n",
              "      padding: 0 0 0 0;\n",
              "      width: 32px;\n",
              "    }\n",
              "\n",
              "    .colab-df-convert:hover {\n",
              "      background-color: #E2EBFA;\n",
              "      box-shadow: 0px 1px 2px rgba(60, 64, 67, 0.3), 0px 1px 3px 1px rgba(60, 64, 67, 0.15);\n",
              "      fill: #174EA6;\n",
              "    }\n",
              "\n",
              "    .colab-df-buttons div {\n",
              "      margin-bottom: 4px;\n",
              "    }\n",
              "\n",
              "    [theme=dark] .colab-df-convert {\n",
              "      background-color: #3B4455;\n",
              "      fill: #D2E3FC;\n",
              "    }\n",
              "\n",
              "    [theme=dark] .colab-df-convert:hover {\n",
              "      background-color: #434B5C;\n",
              "      box-shadow: 0px 1px 3px 1px rgba(0, 0, 0, 0.15);\n",
              "      filter: drop-shadow(0px 1px 2px rgba(0, 0, 0, 0.3));\n",
              "      fill: #FFFFFF;\n",
              "    }\n",
              "  </style>\n",
              "\n",
              "    <script>\n",
              "      const buttonEl =\n",
              "        document.querySelector('#df-789ffe42-d59e-40b5-aec1-f6156a9540f9 button.colab-df-convert');\n",
              "      buttonEl.style.display =\n",
              "        google.colab.kernel.accessAllowed ? 'block' : 'none';\n",
              "\n",
              "      async function convertToInteractive(key) {\n",
              "        const element = document.querySelector('#df-789ffe42-d59e-40b5-aec1-f6156a9540f9');\n",
              "        const dataTable =\n",
              "          await google.colab.kernel.invokeFunction('convertToInteractive',\n",
              "                                                    [key], {});\n",
              "        if (!dataTable) return;\n",
              "\n",
              "        const docLinkHtml = 'Like what you see? Visit the ' +\n",
              "          '<a target=\"_blank\" href=https://colab.research.google.com/notebooks/data_table.ipynb>data table notebook</a>'\n",
              "          + ' to learn more about interactive tables.';\n",
              "        element.innerHTML = '';\n",
              "        dataTable['output_type'] = 'display_data';\n",
              "        await google.colab.output.renderOutput(dataTable, element);\n",
              "        const docLink = document.createElement('div');\n",
              "        docLink.innerHTML = docLinkHtml;\n",
              "        element.appendChild(docLink);\n",
              "      }\n",
              "    </script>\n",
              "  </div>\n",
              "\n",
              "\n",
              "<div id=\"df-3fac3fba-2d34-4ed1-b6a3-d763d3e08769\">\n",
              "  <button class=\"colab-df-quickchart\" onclick=\"quickchart('df-3fac3fba-2d34-4ed1-b6a3-d763d3e08769')\"\n",
              "            title=\"Suggest charts\"\n",
              "            style=\"display:none;\">\n",
              "\n",
              "<svg xmlns=\"http://www.w3.org/2000/svg\" height=\"24px\"viewBox=\"0 0 24 24\"\n",
              "     width=\"24px\">\n",
              "    <g>\n",
              "        <path d=\"M19 3H5c-1.1 0-2 .9-2 2v14c0 1.1.9 2 2 2h14c1.1 0 2-.9 2-2V5c0-1.1-.9-2-2-2zM9 17H7v-7h2v7zm4 0h-2V7h2v10zm4 0h-2v-4h2v4z\"/>\n",
              "    </g>\n",
              "</svg>\n",
              "  </button>\n",
              "\n",
              "<style>\n",
              "  .colab-df-quickchart {\n",
              "      --bg-color: #E8F0FE;\n",
              "      --fill-color: #1967D2;\n",
              "      --hover-bg-color: #E2EBFA;\n",
              "      --hover-fill-color: #174EA6;\n",
              "      --disabled-fill-color: #AAA;\n",
              "      --disabled-bg-color: #DDD;\n",
              "  }\n",
              "\n",
              "  [theme=dark] .colab-df-quickchart {\n",
              "      --bg-color: #3B4455;\n",
              "      --fill-color: #D2E3FC;\n",
              "      --hover-bg-color: #434B5C;\n",
              "      --hover-fill-color: #FFFFFF;\n",
              "      --disabled-bg-color: #3B4455;\n",
              "      --disabled-fill-color: #666;\n",
              "  }\n",
              "\n",
              "  .colab-df-quickchart {\n",
              "    background-color: var(--bg-color);\n",
              "    border: none;\n",
              "    border-radius: 50%;\n",
              "    cursor: pointer;\n",
              "    display: none;\n",
              "    fill: var(--fill-color);\n",
              "    height: 32px;\n",
              "    padding: 0;\n",
              "    width: 32px;\n",
              "  }\n",
              "\n",
              "  .colab-df-quickchart:hover {\n",
              "    background-color: var(--hover-bg-color);\n",
              "    box-shadow: 0 1px 2px rgba(60, 64, 67, 0.3), 0 1px 3px 1px rgba(60, 64, 67, 0.15);\n",
              "    fill: var(--button-hover-fill-color);\n",
              "  }\n",
              "\n",
              "  .colab-df-quickchart-complete:disabled,\n",
              "  .colab-df-quickchart-complete:disabled:hover {\n",
              "    background-color: var(--disabled-bg-color);\n",
              "    fill: var(--disabled-fill-color);\n",
              "    box-shadow: none;\n",
              "  }\n",
              "\n",
              "  .colab-df-spinner {\n",
              "    border: 2px solid var(--fill-color);\n",
              "    border-color: transparent;\n",
              "    border-bottom-color: var(--fill-color);\n",
              "    animation:\n",
              "      spin 1s steps(1) infinite;\n",
              "  }\n",
              "\n",
              "  @keyframes spin {\n",
              "    0% {\n",
              "      border-color: transparent;\n",
              "      border-bottom-color: var(--fill-color);\n",
              "      border-left-color: var(--fill-color);\n",
              "    }\n",
              "    20% {\n",
              "      border-color: transparent;\n",
              "      border-left-color: var(--fill-color);\n",
              "      border-top-color: var(--fill-color);\n",
              "    }\n",
              "    30% {\n",
              "      border-color: transparent;\n",
              "      border-left-color: var(--fill-color);\n",
              "      border-top-color: var(--fill-color);\n",
              "      border-right-color: var(--fill-color);\n",
              "    }\n",
              "    40% {\n",
              "      border-color: transparent;\n",
              "      border-right-color: var(--fill-color);\n",
              "      border-top-color: var(--fill-color);\n",
              "    }\n",
              "    60% {\n",
              "      border-color: transparent;\n",
              "      border-right-color: var(--fill-color);\n",
              "    }\n",
              "    80% {\n",
              "      border-color: transparent;\n",
              "      border-right-color: var(--fill-color);\n",
              "      border-bottom-color: var(--fill-color);\n",
              "    }\n",
              "    90% {\n",
              "      border-color: transparent;\n",
              "      border-bottom-color: var(--fill-color);\n",
              "    }\n",
              "  }\n",
              "</style>\n",
              "\n",
              "  <script>\n",
              "    async function quickchart(key) {\n",
              "      const quickchartButtonEl =\n",
              "        document.querySelector('#' + key + ' button');\n",
              "      quickchartButtonEl.disabled = true;  // To prevent multiple clicks.\n",
              "      quickchartButtonEl.classList.add('colab-df-spinner');\n",
              "      try {\n",
              "        const charts = await google.colab.kernel.invokeFunction(\n",
              "            'suggestCharts', [key], {});\n",
              "      } catch (error) {\n",
              "        console.error('Error during call to suggestCharts:', error);\n",
              "      }\n",
              "      quickchartButtonEl.classList.remove('colab-df-spinner');\n",
              "      quickchartButtonEl.classList.add('colab-df-quickchart-complete');\n",
              "    }\n",
              "    (() => {\n",
              "      let quickchartButtonEl =\n",
              "        document.querySelector('#df-3fac3fba-2d34-4ed1-b6a3-d763d3e08769 button');\n",
              "      quickchartButtonEl.style.display =\n",
              "        google.colab.kernel.accessAllowed ? 'block' : 'none';\n",
              "    })();\n",
              "  </script>\n",
              "</div>\n",
              "\n",
              "    </div>\n",
              "  </div>\n"
            ],
            "application/vnd.google.colaboratory.intrinsic+json": {
              "type": "dataframe",
              "variable_name": "subset1"
            }
          },
          "metadata": {},
          "execution_count": 53
        }
      ]
    },
    {
      "cell_type": "code",
      "source": [
        "import statsmodels.api as sm\n",
        "import statsmodels.formula.api as smf"
      ],
      "metadata": {
        "id": "guuPWWnk8B9j"
      },
      "execution_count": null,
      "outputs": []
    },
    {
      "cell_type": "code",
      "source": [
        "formula = 'Q47_binary ~ Q66 * Q41' #main effects contained\n",
        "\n",
        "model = smf.logit(formula=formula, data=subset1)\n",
        "result = model.fit()\n",
        "\n",
        "print(result.summary().as_text())"
      ],
      "metadata": {
        "colab": {
          "base_uri": "https://localhost:8080/"
        },
        "id": "nEgbj2AOiPUH",
        "outputId": "fbe3b1ec-5ed4-4f1b-baeb-98fb46a76b66"
      },
      "execution_count": null,
      "outputs": [
        {
          "output_type": "stream",
          "name": "stdout",
          "text": [
            "Optimization terminated successfully.\n",
            "         Current function value: 0.416522\n",
            "         Iterations 6\n",
            "                           Logit Regression Results                           \n",
            "==============================================================================\n",
            "Dep. Variable:             Q47_binary   No. Observations:                 6107\n",
            "Model:                          Logit   Df Residuals:                     6103\n",
            "Method:                           MLE   Df Model:                            3\n",
            "Date:                Wed, 26 Jun 2024   Pseudo R-squ.:                  0.1445\n",
            "Time:                        03:36:33   Log-Likelihood:                -2543.7\n",
            "converged:                       True   LL-Null:                       -2973.2\n",
            "Covariance Type:            nonrobust   LLR p-value:                6.700e-186\n",
            "==============================================================================\n",
            "                 coef    std err          z      P>|z|      [0.025      0.975]\n",
            "------------------------------------------------------------------------------\n",
            "Intercept     -2.9838      0.138    -21.699      0.000      -3.253      -2.714\n",
            "Q66            0.0123      0.090      0.136      0.892      -0.165       0.190\n",
            "Q41            0.7718      0.074     10.456      0.000       0.627       0.916\n",
            "Q66:Q41        0.1200      0.052      2.301      0.021       0.018       0.222\n",
            "==============================================================================\n"
          ]
        }
      ]
    },
    {
      "cell_type": "code",
      "source": [
        "subset2=data2021[['Q28','Q29','Q44','Q65','Q61','Q41','Q42','Q38','Q47','Q48','Q49','Q50','Q51','Q52','Q53', 'Q54','Q55','Q56']]\n",
        "subset2['year'] = 2021"
      ],
      "metadata": {
        "colab": {
          "base_uri": "https://localhost:8080/"
        },
        "id": "urc_vYFGl76F",
        "outputId": "ed0dad1c-5df9-4752-a186-6e9c38b9b040"
      },
      "execution_count": null,
      "outputs": [
        {
          "output_type": "stream",
          "name": "stderr",
          "text": [
            "<ipython-input-56-fd8fc63a382f>:2: SettingWithCopyWarning: \n",
            "A value is trying to be set on a copy of a slice from a DataFrame.\n",
            "Try using .loc[row_indexer,col_indexer] = value instead\n",
            "\n",
            "See the caveats in the documentation: https://pandas.pydata.org/pandas-docs/stable/user_guide/indexing.html#returning-a-view-versus-a-copy\n",
            "  subset2['year'] = 2021\n"
          ]
        }
      ]
    },
    {
      "cell_type": "code",
      "source": [
        "subset2= subset2.dropna()\n",
        "subset2['Q47_binary'] = subset2['Q47'].apply(lambda x: 0 if x == 1 else 1)"
      ],
      "metadata": {
        "id": "C3JuHv6Yoq8N"
      },
      "execution_count": null,
      "outputs": []
    },
    {
      "cell_type": "code",
      "source": [
        "formula = 'Q47_binary ~ Q65 * Q41'\n",
        "\n",
        "model = smf.logit(formula=formula, data=subset2)\n",
        "result = model.fit()\n",
        "\n",
        "print(result.summary().as_text())"
      ],
      "metadata": {
        "colab": {
          "base_uri": "https://localhost:8080/"
        },
        "id": "DCuURxapofOb",
        "outputId": "78a1b596-465a-4409-fb94-00d20e82ba35"
      },
      "execution_count": null,
      "outputs": [
        {
          "output_type": "stream",
          "name": "stdout",
          "text": [
            "Optimization terminated successfully.\n",
            "         Current function value: 0.360846\n",
            "         Iterations 6\n",
            "                           Logit Regression Results                           \n",
            "==============================================================================\n",
            "Dep. Variable:             Q47_binary   No. Observations:                 6795\n",
            "Model:                          Logit   Df Residuals:                     6791\n",
            "Method:                           MLE   Df Model:                            3\n",
            "Date:                Wed, 26 Jun 2024   Pseudo R-squ.:                  0.1549\n",
            "Time:                        03:36:33   Log-Likelihood:                -2452.0\n",
            "converged:                       True   LL-Null:                       -2901.2\n",
            "Covariance Type:            nonrobust   LLR p-value:                1.870e-194\n",
            "==============================================================================\n",
            "                 coef    std err          z      P>|z|      [0.025      0.975]\n",
            "------------------------------------------------------------------------------\n",
            "Intercept     -3.2355      0.118    -27.372      0.000      -3.467      -3.004\n",
            "Q65           -0.0095      0.058     -0.164      0.870      -0.123       0.104\n",
            "Q41            0.8052      0.063     12.848      0.000       0.682       0.928\n",
            "Q65:Q41        0.1005      0.034      2.948      0.003       0.034       0.167\n",
            "==============================================================================\n"
          ]
        }
      ]
    },
    {
      "cell_type": "code",
      "source": [
        "mapping2019 = {\n",
        "    'Q66': 'student_sexual_identity',\n",
        "    'Q44': 'source_of_alcohol',\n",
        "    'Q28': 'attempted_suicide',\n",
        "    'Q29': 'injurious_suicide_attempt',\n",
        "    'Q62': 'sex_with_alcohol_drug',\n",
        "    'Q47': 'current_marijuanna_use',\n",
        "    'Q41': 'current_alcohol_use',\n",
        "    'Q42': 'current_binge_drinking',\n",
        "    'Q38': 'current_cigar_use',\n",
        "    'Q48': 'ever_synthetic_marijuana_use',\n",
        "    'Q49': 'ever_pain_meds_misuse',\n",
        "    'Q50': 'ever_cocaine_use',\n",
        "    'Q51': 'ever_inhalant_use',\n",
        "    'Q52': 'ever_heroin_use',\n",
        "    'Q53': 'ever_meth_use',\n",
        "    'Q54': 'ever_ecstasy_use',\n",
        "    'Q55': 'ever_steroid_use',\n",
        "    'Q56': 'ever_injected_illegal_drug',\n",
        "    'Q57': 'ever_illegal_drug_at_school',\n",
        "    'Q47_binary' : 'current_marijuanna_use_binary'\n",
        "}\n",
        "\n",
        "\n",
        "mapping2021 = {\n",
        "    'Q65': 'student_sexual_identity',\n",
        "    'Q28': 'attempted_suicide',\n",
        "    'Q29': 'injurious_suicide_attempt',\n",
        "    'Q44': 'source_of_alcohol',\n",
        "    'Q61': 'sex_with_alcohol_drug',\n",
        "    'Q47': 'current_marijuanna_use',\n",
        "    'Q41': 'current_alcohol_use',\n",
        "    'Q42': 'current_binge_drinking',\n",
        "    'Q38': 'current_cigar_use',\n",
        "    'Q48': 'ever_synthetic_marijuana_use',\n",
        "    'Q49': 'ever_pain_meds_misuse',\n",
        "    'Q50': 'ever_cocaine_use',\n",
        "    'Q51': 'ever_inhalant_use',\n",
        "    'Q52': 'ever_heroin_use',\n",
        "    'Q53': 'ever_meth_use',\n",
        "    'Q54': 'ever_ecstasy_use',\n",
        "    'Q55': 'ever_injected_illegal_drug',\n",
        "    'Q56': 'ever_illegal_drug_at_school',\n",
        "    'Q47_binary' : 'current_marijuanna_use_binary'\n",
        "}"
      ],
      "metadata": {
        "id": "LTHhKGI8qeSs"
      },
      "execution_count": null,
      "outputs": []
    },
    {
      "cell_type": "code",
      "source": [
        "subset1.rename(columns=mapping2019, inplace=True)\n",
        "subset2.rename(columns=mapping2021, inplace=True)"
      ],
      "metadata": {
        "id": "DbI9a21etAgN"
      },
      "execution_count": null,
      "outputs": []
    },
    {
      "cell_type": "code",
      "source": [
        "subset1.head()"
      ],
      "metadata": {
        "colab": {
          "base_uri": "https://localhost:8080/",
          "height": 253
        },
        "id": "AusSDrAeblIp",
        "outputId": "11c7bed9-eaa7-461f-967d-5c68fd3d0f0f"
      },
      "execution_count": null,
      "outputs": [
        {
          "output_type": "execute_result",
          "data": {
            "text/plain": [
              "   attempted_suicide  injurious_suicide_attempt  source_of_alcohol  \\\n",
              "0                1.0                        1.0                1.0   \n",
              "1                1.0                        1.0                1.0   \n",
              "2                1.0                        1.0                1.0   \n",
              "4                1.0                        1.0                1.0   \n",
              "5                1.0                        1.0                6.0   \n",
              "\n",
              "   student_sexual_identity  sex_with_alcohol_drug  current_alcohol_use  \\\n",
              "0                      1.0                    1.0                  1.0   \n",
              "1                      1.0                    1.0                  1.0   \n",
              "2                      1.0                    1.0                  1.0   \n",
              "4                      1.0                    1.0                  1.0   \n",
              "5                      3.0                    1.0                  2.0   \n",
              "\n",
              "   current_binge_drinking  current_cigar_use  current_marijuanna_use  \\\n",
              "0                     1.0                1.0                     1.0   \n",
              "1                     1.0                1.0                     1.0   \n",
              "2                     1.0                1.0                     1.0   \n",
              "4                     1.0                1.0                     1.0   \n",
              "5                     1.0                1.0                     1.0   \n",
              "\n",
              "   ever_synthetic_marijuana_use  ...  ever_cocaine_use  ever_inhalant_use  \\\n",
              "0                           1.0  ...               1.0                1.0   \n",
              "1                           1.0  ...               1.0                1.0   \n",
              "2                           1.0  ...               1.0                1.0   \n",
              "4                           1.0  ...               1.0                1.0   \n",
              "5                           1.0  ...               1.0                3.0   \n",
              "\n",
              "   ever_heroin_use  ever_meth_use  ever_ecstasy_use  ever_steroid_use  \\\n",
              "0              1.0            1.0               1.0               1.0   \n",
              "1              1.0            1.0               1.0               1.0   \n",
              "2              1.0            1.0               1.0               1.0   \n",
              "4              1.0            1.0               1.0               1.0   \n",
              "5              1.0            1.0               1.0               1.0   \n",
              "\n",
              "   ever_injected_illegal_drug  ever_illegal_drug_at_school  year  \\\n",
              "0                         1.0                          1.0  2019   \n",
              "1                         1.0                          2.0  2019   \n",
              "2                         1.0                          2.0  2019   \n",
              "4                         1.0                          2.0  2019   \n",
              "5                         1.0                          1.0  2019   \n",
              "\n",
              "   current_marijuanna_use_binary  \n",
              "0                              0  \n",
              "1                              0  \n",
              "2                              0  \n",
              "4                              0  \n",
              "5                              0  \n",
              "\n",
              "[5 rows x 21 columns]"
            ],
            "text/html": [
              "\n",
              "  <div id=\"df-a90d3ab5-4146-4648-9e09-4ff524f5bb67\" class=\"colab-df-container\">\n",
              "    <div>\n",
              "<style scoped>\n",
              "    .dataframe tbody tr th:only-of-type {\n",
              "        vertical-align: middle;\n",
              "    }\n",
              "\n",
              "    .dataframe tbody tr th {\n",
              "        vertical-align: top;\n",
              "    }\n",
              "\n",
              "    .dataframe thead th {\n",
              "        text-align: right;\n",
              "    }\n",
              "</style>\n",
              "<table border=\"1\" class=\"dataframe\">\n",
              "  <thead>\n",
              "    <tr style=\"text-align: right;\">\n",
              "      <th></th>\n",
              "      <th>attempted_suicide</th>\n",
              "      <th>injurious_suicide_attempt</th>\n",
              "      <th>source_of_alcohol</th>\n",
              "      <th>student_sexual_identity</th>\n",
              "      <th>sex_with_alcohol_drug</th>\n",
              "      <th>current_alcohol_use</th>\n",
              "      <th>current_binge_drinking</th>\n",
              "      <th>current_cigar_use</th>\n",
              "      <th>current_marijuanna_use</th>\n",
              "      <th>ever_synthetic_marijuana_use</th>\n",
              "      <th>...</th>\n",
              "      <th>ever_cocaine_use</th>\n",
              "      <th>ever_inhalant_use</th>\n",
              "      <th>ever_heroin_use</th>\n",
              "      <th>ever_meth_use</th>\n",
              "      <th>ever_ecstasy_use</th>\n",
              "      <th>ever_steroid_use</th>\n",
              "      <th>ever_injected_illegal_drug</th>\n",
              "      <th>ever_illegal_drug_at_school</th>\n",
              "      <th>year</th>\n",
              "      <th>current_marijuanna_use_binary</th>\n",
              "    </tr>\n",
              "  </thead>\n",
              "  <tbody>\n",
              "    <tr>\n",
              "      <th>0</th>\n",
              "      <td>1.0</td>\n",
              "      <td>1.0</td>\n",
              "      <td>1.0</td>\n",
              "      <td>1.0</td>\n",
              "      <td>1.0</td>\n",
              "      <td>1.0</td>\n",
              "      <td>1.0</td>\n",
              "      <td>1.0</td>\n",
              "      <td>1.0</td>\n",
              "      <td>1.0</td>\n",
              "      <td>...</td>\n",
              "      <td>1.0</td>\n",
              "      <td>1.0</td>\n",
              "      <td>1.0</td>\n",
              "      <td>1.0</td>\n",
              "      <td>1.0</td>\n",
              "      <td>1.0</td>\n",
              "      <td>1.0</td>\n",
              "      <td>1.0</td>\n",
              "      <td>2019</td>\n",
              "      <td>0</td>\n",
              "    </tr>\n",
              "    <tr>\n",
              "      <th>1</th>\n",
              "      <td>1.0</td>\n",
              "      <td>1.0</td>\n",
              "      <td>1.0</td>\n",
              "      <td>1.0</td>\n",
              "      <td>1.0</td>\n",
              "      <td>1.0</td>\n",
              "      <td>1.0</td>\n",
              "      <td>1.0</td>\n",
              "      <td>1.0</td>\n",
              "      <td>1.0</td>\n",
              "      <td>...</td>\n",
              "      <td>1.0</td>\n",
              "      <td>1.0</td>\n",
              "      <td>1.0</td>\n",
              "      <td>1.0</td>\n",
              "      <td>1.0</td>\n",
              "      <td>1.0</td>\n",
              "      <td>1.0</td>\n",
              "      <td>2.0</td>\n",
              "      <td>2019</td>\n",
              "      <td>0</td>\n",
              "    </tr>\n",
              "    <tr>\n",
              "      <th>2</th>\n",
              "      <td>1.0</td>\n",
              "      <td>1.0</td>\n",
              "      <td>1.0</td>\n",
              "      <td>1.0</td>\n",
              "      <td>1.0</td>\n",
              "      <td>1.0</td>\n",
              "      <td>1.0</td>\n",
              "      <td>1.0</td>\n",
              "      <td>1.0</td>\n",
              "      <td>1.0</td>\n",
              "      <td>...</td>\n",
              "      <td>1.0</td>\n",
              "      <td>1.0</td>\n",
              "      <td>1.0</td>\n",
              "      <td>1.0</td>\n",
              "      <td>1.0</td>\n",
              "      <td>1.0</td>\n",
              "      <td>1.0</td>\n",
              "      <td>2.0</td>\n",
              "      <td>2019</td>\n",
              "      <td>0</td>\n",
              "    </tr>\n",
              "    <tr>\n",
              "      <th>4</th>\n",
              "      <td>1.0</td>\n",
              "      <td>1.0</td>\n",
              "      <td>1.0</td>\n",
              "      <td>1.0</td>\n",
              "      <td>1.0</td>\n",
              "      <td>1.0</td>\n",
              "      <td>1.0</td>\n",
              "      <td>1.0</td>\n",
              "      <td>1.0</td>\n",
              "      <td>1.0</td>\n",
              "      <td>...</td>\n",
              "      <td>1.0</td>\n",
              "      <td>1.0</td>\n",
              "      <td>1.0</td>\n",
              "      <td>1.0</td>\n",
              "      <td>1.0</td>\n",
              "      <td>1.0</td>\n",
              "      <td>1.0</td>\n",
              "      <td>2.0</td>\n",
              "      <td>2019</td>\n",
              "      <td>0</td>\n",
              "    </tr>\n",
              "    <tr>\n",
              "      <th>5</th>\n",
              "      <td>1.0</td>\n",
              "      <td>1.0</td>\n",
              "      <td>6.0</td>\n",
              "      <td>3.0</td>\n",
              "      <td>1.0</td>\n",
              "      <td>2.0</td>\n",
              "      <td>1.0</td>\n",
              "      <td>1.0</td>\n",
              "      <td>1.0</td>\n",
              "      <td>1.0</td>\n",
              "      <td>...</td>\n",
              "      <td>1.0</td>\n",
              "      <td>3.0</td>\n",
              "      <td>1.0</td>\n",
              "      <td>1.0</td>\n",
              "      <td>1.0</td>\n",
              "      <td>1.0</td>\n",
              "      <td>1.0</td>\n",
              "      <td>1.0</td>\n",
              "      <td>2019</td>\n",
              "      <td>0</td>\n",
              "    </tr>\n",
              "  </tbody>\n",
              "</table>\n",
              "<p>5 rows × 21 columns</p>\n",
              "</div>\n",
              "    <div class=\"colab-df-buttons\">\n",
              "\n",
              "  <div class=\"colab-df-container\">\n",
              "    <button class=\"colab-df-convert\" onclick=\"convertToInteractive('df-a90d3ab5-4146-4648-9e09-4ff524f5bb67')\"\n",
              "            title=\"Convert this dataframe to an interactive table.\"\n",
              "            style=\"display:none;\">\n",
              "\n",
              "  <svg xmlns=\"http://www.w3.org/2000/svg\" height=\"24px\" viewBox=\"0 -960 960 960\">\n",
              "    <path d=\"M120-120v-720h720v720H120Zm60-500h600v-160H180v160Zm220 220h160v-160H400v160Zm0 220h160v-160H400v160ZM180-400h160v-160H180v160Zm440 0h160v-160H620v160ZM180-180h160v-160H180v160Zm440 0h160v-160H620v160Z\"/>\n",
              "  </svg>\n",
              "    </button>\n",
              "\n",
              "  <style>\n",
              "    .colab-df-container {\n",
              "      display:flex;\n",
              "      gap: 12px;\n",
              "    }\n",
              "\n",
              "    .colab-df-convert {\n",
              "      background-color: #E8F0FE;\n",
              "      border: none;\n",
              "      border-radius: 50%;\n",
              "      cursor: pointer;\n",
              "      display: none;\n",
              "      fill: #1967D2;\n",
              "      height: 32px;\n",
              "      padding: 0 0 0 0;\n",
              "      width: 32px;\n",
              "    }\n",
              "\n",
              "    .colab-df-convert:hover {\n",
              "      background-color: #E2EBFA;\n",
              "      box-shadow: 0px 1px 2px rgba(60, 64, 67, 0.3), 0px 1px 3px 1px rgba(60, 64, 67, 0.15);\n",
              "      fill: #174EA6;\n",
              "    }\n",
              "\n",
              "    .colab-df-buttons div {\n",
              "      margin-bottom: 4px;\n",
              "    }\n",
              "\n",
              "    [theme=dark] .colab-df-convert {\n",
              "      background-color: #3B4455;\n",
              "      fill: #D2E3FC;\n",
              "    }\n",
              "\n",
              "    [theme=dark] .colab-df-convert:hover {\n",
              "      background-color: #434B5C;\n",
              "      box-shadow: 0px 1px 3px 1px rgba(0, 0, 0, 0.15);\n",
              "      filter: drop-shadow(0px 1px 2px rgba(0, 0, 0, 0.3));\n",
              "      fill: #FFFFFF;\n",
              "    }\n",
              "  </style>\n",
              "\n",
              "    <script>\n",
              "      const buttonEl =\n",
              "        document.querySelector('#df-a90d3ab5-4146-4648-9e09-4ff524f5bb67 button.colab-df-convert');\n",
              "      buttonEl.style.display =\n",
              "        google.colab.kernel.accessAllowed ? 'block' : 'none';\n",
              "\n",
              "      async function convertToInteractive(key) {\n",
              "        const element = document.querySelector('#df-a90d3ab5-4146-4648-9e09-4ff524f5bb67');\n",
              "        const dataTable =\n",
              "          await google.colab.kernel.invokeFunction('convertToInteractive',\n",
              "                                                    [key], {});\n",
              "        if (!dataTable) return;\n",
              "\n",
              "        const docLinkHtml = 'Like what you see? Visit the ' +\n",
              "          '<a target=\"_blank\" href=https://colab.research.google.com/notebooks/data_table.ipynb>data table notebook</a>'\n",
              "          + ' to learn more about interactive tables.';\n",
              "        element.innerHTML = '';\n",
              "        dataTable['output_type'] = 'display_data';\n",
              "        await google.colab.output.renderOutput(dataTable, element);\n",
              "        const docLink = document.createElement('div');\n",
              "        docLink.innerHTML = docLinkHtml;\n",
              "        element.appendChild(docLink);\n",
              "      }\n",
              "    </script>\n",
              "  </div>\n",
              "\n",
              "\n",
              "<div id=\"df-f2f849f5-050e-458a-8fa7-aaaaf0d2b969\">\n",
              "  <button class=\"colab-df-quickchart\" onclick=\"quickchart('df-f2f849f5-050e-458a-8fa7-aaaaf0d2b969')\"\n",
              "            title=\"Suggest charts\"\n",
              "            style=\"display:none;\">\n",
              "\n",
              "<svg xmlns=\"http://www.w3.org/2000/svg\" height=\"24px\"viewBox=\"0 0 24 24\"\n",
              "     width=\"24px\">\n",
              "    <g>\n",
              "        <path d=\"M19 3H5c-1.1 0-2 .9-2 2v14c0 1.1.9 2 2 2h14c1.1 0 2-.9 2-2V5c0-1.1-.9-2-2-2zM9 17H7v-7h2v7zm4 0h-2V7h2v10zm4 0h-2v-4h2v4z\"/>\n",
              "    </g>\n",
              "</svg>\n",
              "  </button>\n",
              "\n",
              "<style>\n",
              "  .colab-df-quickchart {\n",
              "      --bg-color: #E8F0FE;\n",
              "      --fill-color: #1967D2;\n",
              "      --hover-bg-color: #E2EBFA;\n",
              "      --hover-fill-color: #174EA6;\n",
              "      --disabled-fill-color: #AAA;\n",
              "      --disabled-bg-color: #DDD;\n",
              "  }\n",
              "\n",
              "  [theme=dark] .colab-df-quickchart {\n",
              "      --bg-color: #3B4455;\n",
              "      --fill-color: #D2E3FC;\n",
              "      --hover-bg-color: #434B5C;\n",
              "      --hover-fill-color: #FFFFFF;\n",
              "      --disabled-bg-color: #3B4455;\n",
              "      --disabled-fill-color: #666;\n",
              "  }\n",
              "\n",
              "  .colab-df-quickchart {\n",
              "    background-color: var(--bg-color);\n",
              "    border: none;\n",
              "    border-radius: 50%;\n",
              "    cursor: pointer;\n",
              "    display: none;\n",
              "    fill: var(--fill-color);\n",
              "    height: 32px;\n",
              "    padding: 0;\n",
              "    width: 32px;\n",
              "  }\n",
              "\n",
              "  .colab-df-quickchart:hover {\n",
              "    background-color: var(--hover-bg-color);\n",
              "    box-shadow: 0 1px 2px rgba(60, 64, 67, 0.3), 0 1px 3px 1px rgba(60, 64, 67, 0.15);\n",
              "    fill: var(--button-hover-fill-color);\n",
              "  }\n",
              "\n",
              "  .colab-df-quickchart-complete:disabled,\n",
              "  .colab-df-quickchart-complete:disabled:hover {\n",
              "    background-color: var(--disabled-bg-color);\n",
              "    fill: var(--disabled-fill-color);\n",
              "    box-shadow: none;\n",
              "  }\n",
              "\n",
              "  .colab-df-spinner {\n",
              "    border: 2px solid var(--fill-color);\n",
              "    border-color: transparent;\n",
              "    border-bottom-color: var(--fill-color);\n",
              "    animation:\n",
              "      spin 1s steps(1) infinite;\n",
              "  }\n",
              "\n",
              "  @keyframes spin {\n",
              "    0% {\n",
              "      border-color: transparent;\n",
              "      border-bottom-color: var(--fill-color);\n",
              "      border-left-color: var(--fill-color);\n",
              "    }\n",
              "    20% {\n",
              "      border-color: transparent;\n",
              "      border-left-color: var(--fill-color);\n",
              "      border-top-color: var(--fill-color);\n",
              "    }\n",
              "    30% {\n",
              "      border-color: transparent;\n",
              "      border-left-color: var(--fill-color);\n",
              "      border-top-color: var(--fill-color);\n",
              "      border-right-color: var(--fill-color);\n",
              "    }\n",
              "    40% {\n",
              "      border-color: transparent;\n",
              "      border-right-color: var(--fill-color);\n",
              "      border-top-color: var(--fill-color);\n",
              "    }\n",
              "    60% {\n",
              "      border-color: transparent;\n",
              "      border-right-color: var(--fill-color);\n",
              "    }\n",
              "    80% {\n",
              "      border-color: transparent;\n",
              "      border-right-color: var(--fill-color);\n",
              "      border-bottom-color: var(--fill-color);\n",
              "    }\n",
              "    90% {\n",
              "      border-color: transparent;\n",
              "      border-bottom-color: var(--fill-color);\n",
              "    }\n",
              "  }\n",
              "</style>\n",
              "\n",
              "  <script>\n",
              "    async function quickchart(key) {\n",
              "      const quickchartButtonEl =\n",
              "        document.querySelector('#' + key + ' button');\n",
              "      quickchartButtonEl.disabled = true;  // To prevent multiple clicks.\n",
              "      quickchartButtonEl.classList.add('colab-df-spinner');\n",
              "      try {\n",
              "        const charts = await google.colab.kernel.invokeFunction(\n",
              "            'suggestCharts', [key], {});\n",
              "      } catch (error) {\n",
              "        console.error('Error during call to suggestCharts:', error);\n",
              "      }\n",
              "      quickchartButtonEl.classList.remove('colab-df-spinner');\n",
              "      quickchartButtonEl.classList.add('colab-df-quickchart-complete');\n",
              "    }\n",
              "    (() => {\n",
              "      let quickchartButtonEl =\n",
              "        document.querySelector('#df-f2f849f5-050e-458a-8fa7-aaaaf0d2b969 button');\n",
              "      quickchartButtonEl.style.display =\n",
              "        google.colab.kernel.accessAllowed ? 'block' : 'none';\n",
              "    })();\n",
              "  </script>\n",
              "</div>\n",
              "\n",
              "    </div>\n",
              "  </div>\n"
            ],
            "application/vnd.google.colaboratory.intrinsic+json": {
              "type": "dataframe",
              "variable_name": "subset1"
            }
          },
          "metadata": {},
          "execution_count": 61
        }
      ]
    },
    {
      "cell_type": "code",
      "source": [
        "combined_subsets= pd.concat([subset1, subset2], ignore_index=True)\n",
        "combined_subsets['year'] = combined_subsets['year'].astype('category')\n",
        "#two years *concatenated*\n",
        "#in some models no. observations look strange, but the counts of responses are sensible\n",
        "#can do counts of each level (e.g. in last section where I looked at alcohol source counts)\n",
        "combined_subsets.head()"
      ],
      "metadata": {
        "colab": {
          "base_uri": "https://localhost:8080/",
          "height": 253
        },
        "id": "9t4coYgybkss",
        "outputId": "a4c0b458-8778-4086-abc1-4faaa664db5e"
      },
      "execution_count": null,
      "outputs": [
        {
          "output_type": "execute_result",
          "data": {
            "text/plain": [
              "   attempted_suicide  injurious_suicide_attempt  source_of_alcohol  \\\n",
              "0                1.0                        1.0                1.0   \n",
              "1                1.0                        1.0                1.0   \n",
              "2                1.0                        1.0                1.0   \n",
              "3                1.0                        1.0                1.0   \n",
              "4                1.0                        1.0                6.0   \n",
              "\n",
              "   student_sexual_identity  sex_with_alcohol_drug  current_alcohol_use  \\\n",
              "0                      1.0                    1.0                  1.0   \n",
              "1                      1.0                    1.0                  1.0   \n",
              "2                      1.0                    1.0                  1.0   \n",
              "3                      1.0                    1.0                  1.0   \n",
              "4                      3.0                    1.0                  2.0   \n",
              "\n",
              "   current_binge_drinking  current_cigar_use  current_marijuanna_use  \\\n",
              "0                     1.0                1.0                     1.0   \n",
              "1                     1.0                1.0                     1.0   \n",
              "2                     1.0                1.0                     1.0   \n",
              "3                     1.0                1.0                     1.0   \n",
              "4                     1.0                1.0                     1.0   \n",
              "\n",
              "   ever_synthetic_marijuana_use  ...  ever_cocaine_use  ever_inhalant_use  \\\n",
              "0                           1.0  ...               1.0                1.0   \n",
              "1                           1.0  ...               1.0                1.0   \n",
              "2                           1.0  ...               1.0                1.0   \n",
              "3                           1.0  ...               1.0                1.0   \n",
              "4                           1.0  ...               1.0                3.0   \n",
              "\n",
              "   ever_heroin_use  ever_meth_use  ever_ecstasy_use  ever_steroid_use  \\\n",
              "0              1.0            1.0               1.0               1.0   \n",
              "1              1.0            1.0               1.0               1.0   \n",
              "2              1.0            1.0               1.0               1.0   \n",
              "3              1.0            1.0               1.0               1.0   \n",
              "4              1.0            1.0               1.0               1.0   \n",
              "\n",
              "   ever_injected_illegal_drug  ever_illegal_drug_at_school  year  \\\n",
              "0                         1.0                          1.0  2019   \n",
              "1                         1.0                          2.0  2019   \n",
              "2                         1.0                          2.0  2019   \n",
              "3                         1.0                          2.0  2019   \n",
              "4                         1.0                          1.0  2019   \n",
              "\n",
              "  current_marijuanna_use_binary  \n",
              "0                             0  \n",
              "1                             0  \n",
              "2                             0  \n",
              "3                             0  \n",
              "4                             0  \n",
              "\n",
              "[5 rows x 21 columns]"
            ],
            "text/html": [
              "\n",
              "  <div id=\"df-8e1864ff-b298-4e3f-bb04-e33ad937a32e\" class=\"colab-df-container\">\n",
              "    <div>\n",
              "<style scoped>\n",
              "    .dataframe tbody tr th:only-of-type {\n",
              "        vertical-align: middle;\n",
              "    }\n",
              "\n",
              "    .dataframe tbody tr th {\n",
              "        vertical-align: top;\n",
              "    }\n",
              "\n",
              "    .dataframe thead th {\n",
              "        text-align: right;\n",
              "    }\n",
              "</style>\n",
              "<table border=\"1\" class=\"dataframe\">\n",
              "  <thead>\n",
              "    <tr style=\"text-align: right;\">\n",
              "      <th></th>\n",
              "      <th>attempted_suicide</th>\n",
              "      <th>injurious_suicide_attempt</th>\n",
              "      <th>source_of_alcohol</th>\n",
              "      <th>student_sexual_identity</th>\n",
              "      <th>sex_with_alcohol_drug</th>\n",
              "      <th>current_alcohol_use</th>\n",
              "      <th>current_binge_drinking</th>\n",
              "      <th>current_cigar_use</th>\n",
              "      <th>current_marijuanna_use</th>\n",
              "      <th>ever_synthetic_marijuana_use</th>\n",
              "      <th>...</th>\n",
              "      <th>ever_cocaine_use</th>\n",
              "      <th>ever_inhalant_use</th>\n",
              "      <th>ever_heroin_use</th>\n",
              "      <th>ever_meth_use</th>\n",
              "      <th>ever_ecstasy_use</th>\n",
              "      <th>ever_steroid_use</th>\n",
              "      <th>ever_injected_illegal_drug</th>\n",
              "      <th>ever_illegal_drug_at_school</th>\n",
              "      <th>year</th>\n",
              "      <th>current_marijuanna_use_binary</th>\n",
              "    </tr>\n",
              "  </thead>\n",
              "  <tbody>\n",
              "    <tr>\n",
              "      <th>0</th>\n",
              "      <td>1.0</td>\n",
              "      <td>1.0</td>\n",
              "      <td>1.0</td>\n",
              "      <td>1.0</td>\n",
              "      <td>1.0</td>\n",
              "      <td>1.0</td>\n",
              "      <td>1.0</td>\n",
              "      <td>1.0</td>\n",
              "      <td>1.0</td>\n",
              "      <td>1.0</td>\n",
              "      <td>...</td>\n",
              "      <td>1.0</td>\n",
              "      <td>1.0</td>\n",
              "      <td>1.0</td>\n",
              "      <td>1.0</td>\n",
              "      <td>1.0</td>\n",
              "      <td>1.0</td>\n",
              "      <td>1.0</td>\n",
              "      <td>1.0</td>\n",
              "      <td>2019</td>\n",
              "      <td>0</td>\n",
              "    </tr>\n",
              "    <tr>\n",
              "      <th>1</th>\n",
              "      <td>1.0</td>\n",
              "      <td>1.0</td>\n",
              "      <td>1.0</td>\n",
              "      <td>1.0</td>\n",
              "      <td>1.0</td>\n",
              "      <td>1.0</td>\n",
              "      <td>1.0</td>\n",
              "      <td>1.0</td>\n",
              "      <td>1.0</td>\n",
              "      <td>1.0</td>\n",
              "      <td>...</td>\n",
              "      <td>1.0</td>\n",
              "      <td>1.0</td>\n",
              "      <td>1.0</td>\n",
              "      <td>1.0</td>\n",
              "      <td>1.0</td>\n",
              "      <td>1.0</td>\n",
              "      <td>1.0</td>\n",
              "      <td>2.0</td>\n",
              "      <td>2019</td>\n",
              "      <td>0</td>\n",
              "    </tr>\n",
              "    <tr>\n",
              "      <th>2</th>\n",
              "      <td>1.0</td>\n",
              "      <td>1.0</td>\n",
              "      <td>1.0</td>\n",
              "      <td>1.0</td>\n",
              "      <td>1.0</td>\n",
              "      <td>1.0</td>\n",
              "      <td>1.0</td>\n",
              "      <td>1.0</td>\n",
              "      <td>1.0</td>\n",
              "      <td>1.0</td>\n",
              "      <td>...</td>\n",
              "      <td>1.0</td>\n",
              "      <td>1.0</td>\n",
              "      <td>1.0</td>\n",
              "      <td>1.0</td>\n",
              "      <td>1.0</td>\n",
              "      <td>1.0</td>\n",
              "      <td>1.0</td>\n",
              "      <td>2.0</td>\n",
              "      <td>2019</td>\n",
              "      <td>0</td>\n",
              "    </tr>\n",
              "    <tr>\n",
              "      <th>3</th>\n",
              "      <td>1.0</td>\n",
              "      <td>1.0</td>\n",
              "      <td>1.0</td>\n",
              "      <td>1.0</td>\n",
              "      <td>1.0</td>\n",
              "      <td>1.0</td>\n",
              "      <td>1.0</td>\n",
              "      <td>1.0</td>\n",
              "      <td>1.0</td>\n",
              "      <td>1.0</td>\n",
              "      <td>...</td>\n",
              "      <td>1.0</td>\n",
              "      <td>1.0</td>\n",
              "      <td>1.0</td>\n",
              "      <td>1.0</td>\n",
              "      <td>1.0</td>\n",
              "      <td>1.0</td>\n",
              "      <td>1.0</td>\n",
              "      <td>2.0</td>\n",
              "      <td>2019</td>\n",
              "      <td>0</td>\n",
              "    </tr>\n",
              "    <tr>\n",
              "      <th>4</th>\n",
              "      <td>1.0</td>\n",
              "      <td>1.0</td>\n",
              "      <td>6.0</td>\n",
              "      <td>3.0</td>\n",
              "      <td>1.0</td>\n",
              "      <td>2.0</td>\n",
              "      <td>1.0</td>\n",
              "      <td>1.0</td>\n",
              "      <td>1.0</td>\n",
              "      <td>1.0</td>\n",
              "      <td>...</td>\n",
              "      <td>1.0</td>\n",
              "      <td>3.0</td>\n",
              "      <td>1.0</td>\n",
              "      <td>1.0</td>\n",
              "      <td>1.0</td>\n",
              "      <td>1.0</td>\n",
              "      <td>1.0</td>\n",
              "      <td>1.0</td>\n",
              "      <td>2019</td>\n",
              "      <td>0</td>\n",
              "    </tr>\n",
              "  </tbody>\n",
              "</table>\n",
              "<p>5 rows × 21 columns</p>\n",
              "</div>\n",
              "    <div class=\"colab-df-buttons\">\n",
              "\n",
              "  <div class=\"colab-df-container\">\n",
              "    <button class=\"colab-df-convert\" onclick=\"convertToInteractive('df-8e1864ff-b298-4e3f-bb04-e33ad937a32e')\"\n",
              "            title=\"Convert this dataframe to an interactive table.\"\n",
              "            style=\"display:none;\">\n",
              "\n",
              "  <svg xmlns=\"http://www.w3.org/2000/svg\" height=\"24px\" viewBox=\"0 -960 960 960\">\n",
              "    <path d=\"M120-120v-720h720v720H120Zm60-500h600v-160H180v160Zm220 220h160v-160H400v160Zm0 220h160v-160H400v160ZM180-400h160v-160H180v160Zm440 0h160v-160H620v160ZM180-180h160v-160H180v160Zm440 0h160v-160H620v160Z\"/>\n",
              "  </svg>\n",
              "    </button>\n",
              "\n",
              "  <style>\n",
              "    .colab-df-container {\n",
              "      display:flex;\n",
              "      gap: 12px;\n",
              "    }\n",
              "\n",
              "    .colab-df-convert {\n",
              "      background-color: #E8F0FE;\n",
              "      border: none;\n",
              "      border-radius: 50%;\n",
              "      cursor: pointer;\n",
              "      display: none;\n",
              "      fill: #1967D2;\n",
              "      height: 32px;\n",
              "      padding: 0 0 0 0;\n",
              "      width: 32px;\n",
              "    }\n",
              "\n",
              "    .colab-df-convert:hover {\n",
              "      background-color: #E2EBFA;\n",
              "      box-shadow: 0px 1px 2px rgba(60, 64, 67, 0.3), 0px 1px 3px 1px rgba(60, 64, 67, 0.15);\n",
              "      fill: #174EA6;\n",
              "    }\n",
              "\n",
              "    .colab-df-buttons div {\n",
              "      margin-bottom: 4px;\n",
              "    }\n",
              "\n",
              "    [theme=dark] .colab-df-convert {\n",
              "      background-color: #3B4455;\n",
              "      fill: #D2E3FC;\n",
              "    }\n",
              "\n",
              "    [theme=dark] .colab-df-convert:hover {\n",
              "      background-color: #434B5C;\n",
              "      box-shadow: 0px 1px 3px 1px rgba(0, 0, 0, 0.15);\n",
              "      filter: drop-shadow(0px 1px 2px rgba(0, 0, 0, 0.3));\n",
              "      fill: #FFFFFF;\n",
              "    }\n",
              "  </style>\n",
              "\n",
              "    <script>\n",
              "      const buttonEl =\n",
              "        document.querySelector('#df-8e1864ff-b298-4e3f-bb04-e33ad937a32e button.colab-df-convert');\n",
              "      buttonEl.style.display =\n",
              "        google.colab.kernel.accessAllowed ? 'block' : 'none';\n",
              "\n",
              "      async function convertToInteractive(key) {\n",
              "        const element = document.querySelector('#df-8e1864ff-b298-4e3f-bb04-e33ad937a32e');\n",
              "        const dataTable =\n",
              "          await google.colab.kernel.invokeFunction('convertToInteractive',\n",
              "                                                    [key], {});\n",
              "        if (!dataTable) return;\n",
              "\n",
              "        const docLinkHtml = 'Like what you see? Visit the ' +\n",
              "          '<a target=\"_blank\" href=https://colab.research.google.com/notebooks/data_table.ipynb>data table notebook</a>'\n",
              "          + ' to learn more about interactive tables.';\n",
              "        element.innerHTML = '';\n",
              "        dataTable['output_type'] = 'display_data';\n",
              "        await google.colab.output.renderOutput(dataTable, element);\n",
              "        const docLink = document.createElement('div');\n",
              "        docLink.innerHTML = docLinkHtml;\n",
              "        element.appendChild(docLink);\n",
              "      }\n",
              "    </script>\n",
              "  </div>\n",
              "\n",
              "\n",
              "<div id=\"df-25c2f679-d90b-4914-adeb-3ef0cc254ae6\">\n",
              "  <button class=\"colab-df-quickchart\" onclick=\"quickchart('df-25c2f679-d90b-4914-adeb-3ef0cc254ae6')\"\n",
              "            title=\"Suggest charts\"\n",
              "            style=\"display:none;\">\n",
              "\n",
              "<svg xmlns=\"http://www.w3.org/2000/svg\" height=\"24px\"viewBox=\"0 0 24 24\"\n",
              "     width=\"24px\">\n",
              "    <g>\n",
              "        <path d=\"M19 3H5c-1.1 0-2 .9-2 2v14c0 1.1.9 2 2 2h14c1.1 0 2-.9 2-2V5c0-1.1-.9-2-2-2zM9 17H7v-7h2v7zm4 0h-2V7h2v10zm4 0h-2v-4h2v4z\"/>\n",
              "    </g>\n",
              "</svg>\n",
              "  </button>\n",
              "\n",
              "<style>\n",
              "  .colab-df-quickchart {\n",
              "      --bg-color: #E8F0FE;\n",
              "      --fill-color: #1967D2;\n",
              "      --hover-bg-color: #E2EBFA;\n",
              "      --hover-fill-color: #174EA6;\n",
              "      --disabled-fill-color: #AAA;\n",
              "      --disabled-bg-color: #DDD;\n",
              "  }\n",
              "\n",
              "  [theme=dark] .colab-df-quickchart {\n",
              "      --bg-color: #3B4455;\n",
              "      --fill-color: #D2E3FC;\n",
              "      --hover-bg-color: #434B5C;\n",
              "      --hover-fill-color: #FFFFFF;\n",
              "      --disabled-bg-color: #3B4455;\n",
              "      --disabled-fill-color: #666;\n",
              "  }\n",
              "\n",
              "  .colab-df-quickchart {\n",
              "    background-color: var(--bg-color);\n",
              "    border: none;\n",
              "    border-radius: 50%;\n",
              "    cursor: pointer;\n",
              "    display: none;\n",
              "    fill: var(--fill-color);\n",
              "    height: 32px;\n",
              "    padding: 0;\n",
              "    width: 32px;\n",
              "  }\n",
              "\n",
              "  .colab-df-quickchart:hover {\n",
              "    background-color: var(--hover-bg-color);\n",
              "    box-shadow: 0 1px 2px rgba(60, 64, 67, 0.3), 0 1px 3px 1px rgba(60, 64, 67, 0.15);\n",
              "    fill: var(--button-hover-fill-color);\n",
              "  }\n",
              "\n",
              "  .colab-df-quickchart-complete:disabled,\n",
              "  .colab-df-quickchart-complete:disabled:hover {\n",
              "    background-color: var(--disabled-bg-color);\n",
              "    fill: var(--disabled-fill-color);\n",
              "    box-shadow: none;\n",
              "  }\n",
              "\n",
              "  .colab-df-spinner {\n",
              "    border: 2px solid var(--fill-color);\n",
              "    border-color: transparent;\n",
              "    border-bottom-color: var(--fill-color);\n",
              "    animation:\n",
              "      spin 1s steps(1) infinite;\n",
              "  }\n",
              "\n",
              "  @keyframes spin {\n",
              "    0% {\n",
              "      border-color: transparent;\n",
              "      border-bottom-color: var(--fill-color);\n",
              "      border-left-color: var(--fill-color);\n",
              "    }\n",
              "    20% {\n",
              "      border-color: transparent;\n",
              "      border-left-color: var(--fill-color);\n",
              "      border-top-color: var(--fill-color);\n",
              "    }\n",
              "    30% {\n",
              "      border-color: transparent;\n",
              "      border-left-color: var(--fill-color);\n",
              "      border-top-color: var(--fill-color);\n",
              "      border-right-color: var(--fill-color);\n",
              "    }\n",
              "    40% {\n",
              "      border-color: transparent;\n",
              "      border-right-color: var(--fill-color);\n",
              "      border-top-color: var(--fill-color);\n",
              "    }\n",
              "    60% {\n",
              "      border-color: transparent;\n",
              "      border-right-color: var(--fill-color);\n",
              "    }\n",
              "    80% {\n",
              "      border-color: transparent;\n",
              "      border-right-color: var(--fill-color);\n",
              "      border-bottom-color: var(--fill-color);\n",
              "    }\n",
              "    90% {\n",
              "      border-color: transparent;\n",
              "      border-bottom-color: var(--fill-color);\n",
              "    }\n",
              "  }\n",
              "</style>\n",
              "\n",
              "  <script>\n",
              "    async function quickchart(key) {\n",
              "      const quickchartButtonEl =\n",
              "        document.querySelector('#' + key + ' button');\n",
              "      quickchartButtonEl.disabled = true;  // To prevent multiple clicks.\n",
              "      quickchartButtonEl.classList.add('colab-df-spinner');\n",
              "      try {\n",
              "        const charts = await google.colab.kernel.invokeFunction(\n",
              "            'suggestCharts', [key], {});\n",
              "      } catch (error) {\n",
              "        console.error('Error during call to suggestCharts:', error);\n",
              "      }\n",
              "      quickchartButtonEl.classList.remove('colab-df-spinner');\n",
              "      quickchartButtonEl.classList.add('colab-df-quickchart-complete');\n",
              "    }\n",
              "    (() => {\n",
              "      let quickchartButtonEl =\n",
              "        document.querySelector('#df-25c2f679-d90b-4914-adeb-3ef0cc254ae6 button');\n",
              "      quickchartButtonEl.style.display =\n",
              "        google.colab.kernel.accessAllowed ? 'block' : 'none';\n",
              "    })();\n",
              "  </script>\n",
              "</div>\n",
              "\n",
              "    </div>\n",
              "  </div>\n"
            ],
            "application/vnd.google.colaboratory.intrinsic+json": {
              "type": "dataframe",
              "variable_name": "combined_subsets"
            }
          },
          "metadata": {},
          "execution_count": 62
        }
      ]
    },
    {
      "cell_type": "code",
      "source": [
        "combined_subsets.columns"
      ],
      "metadata": {
        "colab": {
          "base_uri": "https://localhost:8080/"
        },
        "id": "3OaXHWdHZkTk",
        "outputId": "98fcf174-e25e-41b2-980e-98e773c0c2c8"
      },
      "execution_count": null,
      "outputs": [
        {
          "output_type": "execute_result",
          "data": {
            "text/plain": [
              "Index(['attempted_suicide', 'injurious_suicide_attempt', 'source_of_alcohol',\n",
              "       'student_sexual_identity', 'sex_with_alcohol_drug',\n",
              "       'current_alcohol_use', 'current_binge_drinking', 'current_cigar_use',\n",
              "       'current_marijuanna_use', 'ever_synthetic_marijuana_use',\n",
              "       'ever_pain_meds_misuse', 'ever_cocaine_use', 'ever_inhalant_use',\n",
              "       'ever_heroin_use', 'ever_meth_use', 'ever_ecstasy_use',\n",
              "       'ever_steroid_use', 'ever_injected_illegal_drug',\n",
              "       'ever_illegal_drug_at_school', 'year', 'current_marijuanna_use_binary'],\n",
              "      dtype='object')"
            ]
          },
          "metadata": {},
          "execution_count": 63
        }
      ]
    },
    {
      "cell_type": "code",
      "source": [
        "print([col for col in combined_subsets.columns])"
      ],
      "metadata": {
        "colab": {
          "base_uri": "https://localhost:8080/"
        },
        "id": "8-tUvpWYahwP",
        "outputId": "67f2c748-160d-4d84-a133-c88c05281b8a"
      },
      "execution_count": null,
      "outputs": [
        {
          "output_type": "stream",
          "name": "stdout",
          "text": [
            "['attempted_suicide', 'injurious_suicide_attempt', 'source_of_alcohol', 'student_sexual_identity', 'sex_with_alcohol_drug', 'current_alcohol_use', 'current_binge_drinking', 'current_cigar_use', 'current_marijuanna_use', 'ever_synthetic_marijuana_use', 'ever_pain_meds_misuse', 'ever_cocaine_use', 'ever_inhalant_use', 'ever_heroin_use', 'ever_meth_use', 'ever_ecstasy_use', 'ever_steroid_use', 'ever_injected_illegal_drug', 'ever_illegal_drug_at_school', 'year', 'current_marijuanna_use_binary']\n"
          ]
        }
      ]
    },
    {
      "cell_type": "code",
      "source": [
        "#combined_subsets['sexual identity_current alcohol use'] = combined_subsets['sexual identity'] * combined_subsets['current alcohol use']\n",
        "#X = combined_subsets[['sexual identity', 'current alcohol use','sexual identity_current alcohol use']]\n",
        "#y = combined_subsets['current marijuanna use']\n",
        "#X = sm.add_constant(X)\n",
        "\n",
        "#to avoid adding columns for interaction terms to this already big df... use smf.logit formula instead?"
      ],
      "metadata": {
        "id": "mxypEq2w3_w7"
      },
      "execution_count": null,
      "outputs": []
    },
    {
      "cell_type": "markdown",
      "source": [
        "## marijuanna (binary or ordinal) and alcohol use co-ocurrence, with sexual identity and 19/21 year effect"
      ],
      "metadata": {
        "id": "rHThTTspgIqU"
      }
    },
    {
      "cell_type": "code",
      "source": [
        "simple_formula = 'current_marijuanna_use_binary ~ current_alcohol_use + student_sexual_identity + C(year)'\n",
        "simple_model = smf.logit(formula=simple_formula, data=combined_subsets)\n",
        "simple_result = simple_model.fit()\n",
        "print(simple_result.summary())\n",
        "\n",
        "#coeffciencit is change as the covariates to the next level—not the best way to capture student sexual identity\n",
        "#as each level really is a different thing, can be hardly ordered\n",
        "#better ways to deal with it? take out just of some levels to compare each time?"
      ],
      "metadata": {
        "colab": {
          "base_uri": "https://localhost:8080/"
        },
        "id": "xqnEFEiKbBzT",
        "outputId": "92db6fa9-6cb8-49cd-b42e-27ef5ba4fd28"
      },
      "execution_count": null,
      "outputs": [
        {
          "output_type": "stream",
          "name": "stdout",
          "text": [
            "Optimization terminated successfully.\n",
            "         Current function value: 0.387860\n",
            "         Iterations 6\n",
            "                                 Logit Regression Results                                \n",
            "=========================================================================================\n",
            "Dep. Variable:     current_marijuanna_use_binary   No. Observations:                12902\n",
            "Model:                                     Logit   Df Residuals:                    12898\n",
            "Method:                                      MLE   Df Model:                            3\n",
            "Date:                           Wed, 26 Jun 2024   Pseudo R-squ.:                  0.1505\n",
            "Time:                                   03:36:34   Log-Likelihood:                -5004.2\n",
            "converged:                                  True   LL-Null:                       -5890.8\n",
            "Covariance Type:                       nonrobust   LLR p-value:                     0.000\n",
            "===========================================================================================\n",
            "                              coef    std err          z      P>|z|      [0.025      0.975]\n",
            "-------------------------------------------------------------------------------------------\n",
            "Intercept                  -3.1980      0.066    -48.587      0.000      -3.327      -3.069\n",
            "C(year)[T.2021]            -0.2755      0.053     -5.235      0.000      -0.379      -0.172\n",
            "current_alcohol_use         0.9424      0.025     36.959      0.000       0.892       0.992\n",
            "student_sexual_identity     0.1567      0.023      6.821      0.000       0.112       0.202\n",
            "===========================================================================================\n"
          ]
        }
      ]
    },
    {
      "cell_type": "code",
      "source": [
        "formula = 'current_marijuanna_use_binary ~ current_alcohol_use * student_sexual_identity + C(year)'\n",
        "\n",
        "model = smf.logit(formula=formula, data=combined_subsets)\n",
        "result = model.fit()\n",
        "\n",
        "print(result.summary())"
      ],
      "metadata": {
        "id": "ZJuUUiUX4B1h",
        "colab": {
          "base_uri": "https://localhost:8080/"
        },
        "outputId": "02ba6808-8c55-4b89-d00f-e41117b3ce5d"
      },
      "execution_count": null,
      "outputs": [
        {
          "output_type": "stream",
          "name": "stdout",
          "text": [
            "Optimization terminated successfully.\n",
            "         Current function value: 0.387243\n",
            "         Iterations 6\n",
            "                                 Logit Regression Results                                \n",
            "=========================================================================================\n",
            "Dep. Variable:     current_marijuanna_use_binary   No. Observations:                12902\n",
            "Model:                                     Logit   Df Residuals:                    12897\n",
            "Method:                                      MLE   Df Model:                            4\n",
            "Date:                           Wed, 26 Jun 2024   Pseudo R-squ.:                  0.1519\n",
            "Time:                                   03:36:34   Log-Likelihood:                -4996.2\n",
            "converged:                                  True   LL-Null:                       -5890.8\n",
            "Covariance Type:                       nonrobust   LLR p-value:                     0.000\n",
            "===============================================================================================================\n",
            "                                                  coef    std err          z      P>|z|      [0.025      0.975]\n",
            "---------------------------------------------------------------------------------------------------------------\n",
            "Intercept                                      -2.9636      0.089    -33.484      0.000      -3.137      -2.790\n",
            "C(year)[T.2021]                                -0.2751      0.053     -5.231      0.000      -0.378      -0.172\n",
            "current_alcohol_use                             0.7898      0.046     17.071      0.000       0.699       0.880\n",
            "student_sexual_identity                        -0.0055      0.048     -0.114      0.909      -0.100       0.089\n",
            "current_alcohol_use:student_sexual_identity     0.1083      0.028      3.824      0.000       0.053       0.164\n",
            "===============================================================================================================\n"
          ]
        }
      ]
    },
    {
      "cell_type": "code",
      "source": [
        "formula2 = formula = 'current_marijuanna_use_binary ~ current_alcohol_use * student_sexual_identity + C(year) * student_sexual_identity'\n",
        "\n",
        "model = smf.logit(formula=formula2, data=combined_subsets)\n",
        "result = model.fit()\n",
        "\n",
        "print(result.summary())"
      ],
      "metadata": {
        "colab": {
          "base_uri": "https://localhost:8080/"
        },
        "id": "UMAiEAYXc0-j",
        "outputId": "6747b8d4-763e-4569-e987-ac0a5cac9bd1"
      },
      "execution_count": null,
      "outputs": [
        {
          "output_type": "stream",
          "name": "stdout",
          "text": [
            "Optimization terminated successfully.\n",
            "         Current function value: 0.387204\n",
            "         Iterations 6\n",
            "                                 Logit Regression Results                                \n",
            "=========================================================================================\n",
            "Dep. Variable:     current_marijuanna_use_binary   No. Observations:                12902\n",
            "Model:                                     Logit   Df Residuals:                    12896\n",
            "Method:                                      MLE   Df Model:                            5\n",
            "Date:                           Wed, 26 Jun 2024   Pseudo R-squ.:                  0.1519\n",
            "Time:                                   03:36:34   Log-Likelihood:                -4995.7\n",
            "converged:                                  True   LL-Null:                       -5890.8\n",
            "Covariance Type:                       nonrobust   LLR p-value:                     0.000\n",
            "===============================================================================================================\n",
            "                                                  coef    std err          z      P>|z|      [0.025      0.975]\n",
            "---------------------------------------------------------------------------------------------------------------\n",
            "Intercept                                      -3.0156      0.103    -29.408      0.000      -3.217      -2.815\n",
            "C(year)[T.2021]                                -0.1984      0.093     -2.142      0.032      -0.380      -0.017\n",
            "current_alcohol_use                             0.7917      0.046     17.109      0.000       0.701       0.882\n",
            "student_sexual_identity                         0.0326      0.061      0.533      0.594      -0.087       0.152\n",
            "C(year)[T.2021]:student_sexual_identity        -0.0519      0.051     -1.007      0.314      -0.153       0.049\n",
            "current_alcohol_use:student_sexual_identity     0.1070      0.028      3.780      0.000       0.052       0.162\n",
            "===============================================================================================================\n"
          ]
        }
      ]
    },
    {
      "cell_type": "code",
      "source": [
        "formula3= 'current_marijuanna_use_binary ~ current_alcohol_use * student_sexual_identity + C(year) * student_sexual_identity + C(year) * current_alcohol_use'\n",
        "\n",
        "model = smf.logit(formula=formula3, data=combined_subsets)\n",
        "result = model.fit()\n",
        "\n",
        "print(result.summary())"
      ],
      "metadata": {
        "colab": {
          "base_uri": "https://localhost:8080/"
        },
        "id": "C1COIKHndgEh",
        "outputId": "24590012-3166-49ff-c904-5a8ba2a9c856"
      },
      "execution_count": null,
      "outputs": [
        {
          "output_type": "stream",
          "name": "stdout",
          "text": [
            "Optimization terminated successfully.\n",
            "         Current function value: 0.387203\n",
            "         Iterations 6\n",
            "                                 Logit Regression Results                                \n",
            "=========================================================================================\n",
            "Dep. Variable:     current_marijuanna_use_binary   No. Observations:                12902\n",
            "Model:                                     Logit   Df Residuals:                    12895\n",
            "Method:                                      MLE   Df Model:                            6\n",
            "Date:                           Wed, 26 Jun 2024   Pseudo R-squ.:                  0.1520\n",
            "Time:                                   03:36:35   Log-Likelihood:                -4995.7\n",
            "converged:                                  True   LL-Null:                       -5890.8\n",
            "Covariance Type:                       nonrobust   LLR p-value:                     0.000\n",
            "===============================================================================================================\n",
            "                                                  coef    std err          z      P>|z|      [0.025      0.975]\n",
            "---------------------------------------------------------------------------------------------------------------\n",
            "Intercept                                      -3.0101      0.109    -27.606      0.000      -3.224      -2.796\n",
            "C(year)[T.2021]                                -0.2120      0.130     -1.630      0.103      -0.467       0.043\n",
            "current_alcohol_use                             0.7887      0.050     15.644      0.000       0.690       0.888\n",
            "C(year)[T.2021]:current_alcohol_use             0.0077      0.052      0.149      0.882      -0.093       0.109\n",
            "student_sexual_identity                         0.0331      0.061      0.542      0.588      -0.087       0.153\n",
            "C(year)[T.2021]:student_sexual_identity        -0.0514      0.052     -0.996      0.319      -0.152       0.050\n",
            "current_alcohol_use:student_sexual_identity     0.1064      0.029      3.725      0.000       0.050       0.162\n",
            "===============================================================================================================\n"
          ]
        }
      ]
    },
    {
      "cell_type": "code",
      "source": [
        "# poisson regression\n",
        "formula = 'current_marijuanna_use ~ current_alcohol_use * student_sexual_identity + C(year) * student_sexual_identity'\n",
        "\n",
        "model = smf.poisson(formula=formula, data=combined_subsets)\n",
        "result = model.fit()\n",
        "\n",
        "print(result.summary())"
      ],
      "metadata": {
        "colab": {
          "base_uri": "https://localhost:8080/"
        },
        "id": "_QtjAYhMePrg",
        "outputId": "0f605d5d-8a94-4d32-9ec0-bfbdbdaaa9b3"
      },
      "execution_count": null,
      "outputs": [
        {
          "output_type": "stream",
          "name": "stdout",
          "text": [
            "Optimization terminated successfully.\n",
            "         Current function value: 1.334940\n",
            "         Iterations 7\n",
            "                            Poisson Regression Results                            \n",
            "==================================================================================\n",
            "Dep. Variable:     current_marijuanna_use   No. Observations:                12902\n",
            "Model:                            Poisson   Df Residuals:                    12896\n",
            "Method:                               MLE   Df Model:                            5\n",
            "Date:                    Wed, 26 Jun 2024   Pseudo R-squ.:                 0.04636\n",
            "Time:                            03:36:35   Log-Likelihood:                -17223.\n",
            "converged:                           True   LL-Null:                       -18061.\n",
            "Covariance Type:                nonrobust   LLR p-value:                     0.000\n",
            "===============================================================================================================\n",
            "                                                  coef    std err          z      P>|z|      [0.025      0.975]\n",
            "---------------------------------------------------------------------------------------------------------------\n",
            "Intercept                                      -0.0402      0.027     -1.503      0.133      -0.093       0.012\n",
            "C(year)[T.2021]                                -0.0082      0.026     -0.311      0.756      -0.060       0.044\n",
            "current_alcohol_use                             0.2337      0.010     24.054      0.000       0.215       0.253\n",
            "student_sexual_identity                         0.0146      0.016      0.927      0.354      -0.016       0.046\n",
            "C(year)[T.2021]:student_sexual_identity        -0.0078      0.015     -0.514      0.607      -0.038       0.022\n",
            "current_alcohol_use:student_sexual_identity     0.0128      0.005      2.619      0.009       0.003       0.022\n",
            "===============================================================================================================\n"
          ]
        }
      ]
    },
    {
      "cell_type": "code",
      "source": [
        "#check for overdispersion\n",
        "mean = combined_subsets['current_marijuanna_use'].mean()\n",
        "variance = combined_subsets['current_marijuanna_use'].var()\n",
        "print(f\"Mean: {mean}, Variance: {variance}\")\n",
        "\n",
        "if variance > mean:\n",
        "    print(\"Consider Negative Binomial Regression.\")\n",
        "else:\n",
        "    print(\"Poisson Regression should be fine.\")"
      ],
      "metadata": {
        "colab": {
          "base_uri": "https://localhost:8080/"
        },
        "id": "S43vUCOjfoDG",
        "outputId": "e07bd3f2-0d20-46c4-8182-f3ed50726cbc"
      },
      "execution_count": null,
      "outputs": [
        {
          "output_type": "stream",
          "name": "stdout",
          "text": [
            "Mean: 1.4410168966051775, Variance: 1.3335876178836168\n",
            "Poisson Regression should be fine.\n"
          ]
        }
      ]
    },
    {
      "cell_type": "markdown",
      "source": [
        "## alcohol use and access, with sexual identity and year effect"
      ],
      "metadata": {
        "id": "Z2XBQc9Dg7-T"
      }
    },
    {
      "cell_type": "code",
      "source": [
        "import numpy as np\n",
        "# create a new column for alcohol access of those who drank\n",
        "combined_subsets['source_of_alcohol_for_drinkers'] = combined_subsets['source_of_alcohol'].apply(lambda x: np.nan if x == 1 else x)\n",
        "\n",
        "combined_subsets['drinking_frequency'] = combined_subsets['current_alcohol_use'].apply(lambda x: np.nan if x == 1 else x)"
      ],
      "metadata": {
        "id": "2zJs1BfYn6N4"
      },
      "execution_count": null,
      "outputs": []
    },
    {
      "cell_type": "code",
      "source": [
        "missing_values = combined_subsets.isna().sum()\n",
        "print(missing_values)"
      ],
      "metadata": {
        "colab": {
          "base_uri": "https://localhost:8080/"
        },
        "id": "m6eL8ytTv0zO",
        "outputId": "1db79484-3adb-4c17-c5b4-2a65f64eebe9"
      },
      "execution_count": null,
      "outputs": [
        {
          "output_type": "stream",
          "name": "stdout",
          "text": [
            "attempted_suicide                    0\n",
            "injurious_suicide_attempt            0\n",
            "source_of_alcohol                    0\n",
            "student_sexual_identity              0\n",
            "sex_with_alcohol_drug                0\n",
            "current_alcohol_use                  0\n",
            "current_binge_drinking               0\n",
            "current_cigar_use                    0\n",
            "current_marijuanna_use               0\n",
            "ever_synthetic_marijuana_use         0\n",
            "ever_pain_meds_misuse                0\n",
            "ever_cocaine_use                     0\n",
            "ever_inhalant_use                    0\n",
            "ever_heroin_use                      0\n",
            "ever_meth_use                        0\n",
            "ever_ecstasy_use                     0\n",
            "ever_steroid_use                  6795\n",
            "ever_injected_illegal_drug           0\n",
            "ever_illegal_drug_at_school          0\n",
            "year                                 0\n",
            "current_marijuanna_use_binary        0\n",
            "source_of_alcohol_for_drinkers    9834\n",
            "drinking_frequency                9834\n",
            "dtype: int64\n"
          ]
        }
      ]
    },
    {
      "cell_type": "code",
      "source": [
        "combined_subsets = combined_subsets.drop(columns=['ever_steroid_use'])"
      ],
      "metadata": {
        "id": "QzG2Db8wwHz3"
      },
      "execution_count": null,
      "outputs": []
    },
    {
      "cell_type": "code",
      "source": [
        "combined_subsets_drinking = combined_subsets.dropna()"
      ],
      "metadata": {
        "id": "9_QDEEWLwbbB"
      },
      "execution_count": null,
      "outputs": []
    },
    {
      "cell_type": "code",
      "source": [
        "print(combined_subsets_drinking['source_of_alcohol_for_drinkers'].value_counts())"
      ],
      "metadata": {
        "colab": {
          "base_uri": "https://localhost:8080/"
        },
        "id": "oKpYY-1MrZgK",
        "outputId": "9c249db6-fe92-4611-945a-a586a5df0a35"
      },
      "execution_count": null,
      "outputs": [
        {
          "output_type": "stream",
          "name": "stdout",
          "text": [
            "source_of_alcohol_for_drinkers\n",
            "6.0    1315\n",
            "8.0     629\n",
            "5.0     460\n",
            "7.0     445\n",
            "2.0     179\n",
            "3.0      26\n",
            "4.0      14\n",
            "Name: count, dtype: int64\n"
          ]
        }
      ]
    },
    {
      "cell_type": "code",
      "source": [
        "print(combined_subsets_drinking['year'].value_counts())"
      ],
      "metadata": {
        "colab": {
          "base_uri": "https://localhost:8080/"
        },
        "id": "VZyGH-aQuFxj",
        "outputId": "e6418b7d-4e9f-4aec-bb5e-de93b1d4036f"
      },
      "execution_count": null,
      "outputs": [
        {
          "output_type": "stream",
          "name": "stdout",
          "text": [
            "year\n",
            "2019    1616\n",
            "2021    1452\n",
            "Name: count, dtype: int64\n"
          ]
        }
      ]
    },
    {
      "cell_type": "code",
      "source": [
        "combined_subsets_drinking['source_of_alcohol_for_drinkers'] = combined_subsets_drinking['source_of_alcohol_for_drinkers'].astype('category')"
      ],
      "metadata": {
        "colab": {
          "base_uri": "https://localhost:8080/"
        },
        "id": "RDFCTWcqrkpy",
        "outputId": "fb224f6e-a089-411a-f810-e39a1d2af51a"
      },
      "execution_count": null,
      "outputs": [
        {
          "output_type": "stream",
          "name": "stderr",
          "text": [
            "<ipython-input-78-535fe720c3d2>:1: SettingWithCopyWarning: \n",
            "A value is trying to be set on a copy of a slice from a DataFrame.\n",
            "Try using .loc[row_indexer,col_indexer] = value instead\n",
            "\n",
            "See the caveats in the documentation: https://pandas.pydata.org/pandas-docs/stable/user_guide/indexing.html#returning-a-view-versus-a-copy\n",
            "  combined_subsets_drinking['source_of_alcohol_for_drinkers'] = combined_subsets_drinking['source_of_alcohol_for_drinkers'].astype('category')\n"
          ]
        }
      ]
    },
    {
      "cell_type": "code",
      "source": [
        "formula_simple = 'drinking_frequency ~ source_of_alcohol_for_drinkers'\n",
        "model_simple = smf.poisson(formula=formula_simple, data=combined_subsets_drinking)\n",
        "result_simple = model_simple.fit()\n",
        "print(result_simple.summary())"
      ],
      "metadata": {
        "colab": {
          "base_uri": "https://localhost:8080/"
        },
        "id": "-MUeWuBcrqur",
        "outputId": "fa47e86b-aad6-4098-f6d9-5472e9af58e9"
      },
      "execution_count": null,
      "outputs": [
        {
          "output_type": "stream",
          "name": "stdout",
          "text": [
            "Optimization terminated successfully.\n",
            "         Current function value: 1.605371\n",
            "         Iterations 5\n",
            "                          Poisson Regression Results                          \n",
            "==============================================================================\n",
            "Dep. Variable:     drinking_frequency   No. Observations:                 3068\n",
            "Model:                        Poisson   Df Residuals:                     3061\n",
            "Method:                           MLE   Df Model:                            6\n",
            "Date:                Wed, 26 Jun 2024   Pseudo R-squ.:                 0.01032\n",
            "Time:                        03:36:35   Log-Likelihood:                -4925.3\n",
            "converged:                       True   LL-Null:                       -4976.6\n",
            "Covariance Type:            nonrobust   LLR p-value:                 6.782e-20\n",
            "=========================================================================================================\n",
            "                                            coef    std err          z      P>|z|      [0.025      0.975]\n",
            "---------------------------------------------------------------------------------------------------------\n",
            "Intercept                                 1.2957      0.039     33.136      0.000       1.219       1.372\n",
            "source_of_alcohol_for_drinkers[T.3.0]    -0.1350      0.117     -1.158      0.247      -0.363       0.093\n",
            "source_of_alcohol_for_drinkers[T.4.0]    -0.3513      0.171     -2.052      0.040      -0.687      -0.016\n",
            "source_of_alcohol_for_drinkers[T.5.0]    -0.1511      0.047     -3.206      0.001      -0.243      -0.059\n",
            "source_of_alcohol_for_drinkers[T.6.0]    -0.3750      0.043     -8.762      0.000      -0.459      -0.291\n",
            "source_of_alcohol_for_drinkers[T.7.0]    -0.2905      0.048     -5.990      0.000      -0.386      -0.195\n",
            "source_of_alcohol_for_drinkers[T.8.0]    -0.2702      0.046     -5.897      0.000      -0.360      -0.180\n",
            "=========================================================================================================\n"
          ]
        }
      ]
    },
    {
      "cell_type": "code",
      "source": [
        "print(combined_subsets_drinking['year'].unique())"
      ],
      "metadata": {
        "colab": {
          "base_uri": "https://localhost:8080/"
        },
        "id": "6rzMij6lt4dL",
        "outputId": "241cdc9b-8b37-4abd-8f14-9a85cdc8bdf5"
      },
      "execution_count": null,
      "outputs": [
        {
          "output_type": "stream",
          "name": "stdout",
          "text": [
            "[2019, 2021]\n",
            "Categories (2, int64): [2019, 2021]\n"
          ]
        }
      ]
    },
    {
      "cell_type": "code",
      "source": [
        "#singularity issue resolved. it was because 2021 had NA for steroid for all records in combined_subsets, and all 2021 got dropped\n",
        "#when I generated the _drinking subset with dropna\n",
        "combined_subsets_drinking['year'] = combined_subsets_drinking['year'].astype('category')"
      ],
      "metadata": {
        "colab": {
          "base_uri": "https://localhost:8080/"
        },
        "collapsed": true,
        "id": "BbTyt-H7ti0v",
        "outputId": "ca1d1557-b8b4-49df-a7ec-19fa1cb9d292"
      },
      "execution_count": null,
      "outputs": [
        {
          "output_type": "stream",
          "name": "stderr",
          "text": [
            "<ipython-input-81-4cc2e4c26083>:3: SettingWithCopyWarning: \n",
            "A value is trying to be set on a copy of a slice from a DataFrame.\n",
            "Try using .loc[row_indexer,col_indexer] = value instead\n",
            "\n",
            "See the caveats in the documentation: https://pandas.pydata.org/pandas-docs/stable/user_guide/indexing.html#returning-a-view-versus-a-copy\n",
            "  combined_subsets_drinking['year'] = combined_subsets_drinking['year'].astype('category')\n"
          ]
        }
      ]
    },
    {
      "cell_type": "code",
      "source": [
        "combined_subsets_drinking['year'].unique()"
      ],
      "metadata": {
        "colab": {
          "base_uri": "https://localhost:8080/"
        },
        "id": "qPfhKJR3xi5E",
        "outputId": "c9da787a-e5a8-484b-cf2f-2c23603931c1"
      },
      "execution_count": null,
      "outputs": [
        {
          "output_type": "execute_result",
          "data": {
            "text/plain": [
              "[2019, 2021]\n",
              "Categories (2, int64): [2019, 2021]"
            ]
          },
          "metadata": {},
          "execution_count": 82
        }
      ]
    },
    {
      "cell_type": "code",
      "source": [
        "combined_subsets_drinking['year'] = combined_subsets_drinking['year'].astype(str)\n",
        "\n",
        "#convert 'year' to a categorical variable and set categories\n",
        "combined_subsets_drinking['year'] = combined_subsets_drinking['year'].astype('category')\n",
        "combined_subsets_drinking['year'] = combined_subsets_drinking['year'].cat.set_categories(['2019', '2021'])\n",
        "\n",
        "#reorder and set the reference level\n",
        "combined_subsets_drinking['year'] = combined_subsets_drinking['year'].cat.reorder_categories(['2019', '2021'], ordered=True)\n",
        "\n",
        "print(combined_subsets_drinking['year'].unique())"
      ],
      "metadata": {
        "colab": {
          "base_uri": "https://localhost:8080/"
        },
        "id": "ClGnSY5-zCj0",
        "outputId": "04b19fba-6570-49e2-f440-1e1bc79fa9d4"
      },
      "execution_count": null,
      "outputs": [
        {
          "output_type": "stream",
          "name": "stdout",
          "text": [
            "['2019', '2021']\n",
            "Categories (2, object): ['2019' < '2021']\n"
          ]
        },
        {
          "output_type": "stream",
          "name": "stderr",
          "text": [
            "<ipython-input-83-05419b2230f7>:1: SettingWithCopyWarning: \n",
            "A value is trying to be set on a copy of a slice from a DataFrame.\n",
            "Try using .loc[row_indexer,col_indexer] = value instead\n",
            "\n",
            "See the caveats in the documentation: https://pandas.pydata.org/pandas-docs/stable/user_guide/indexing.html#returning-a-view-versus-a-copy\n",
            "  combined_subsets_drinking['year'] = combined_subsets_drinking['year'].astype(str)\n",
            "<ipython-input-83-05419b2230f7>:4: SettingWithCopyWarning: \n",
            "A value is trying to be set on a copy of a slice from a DataFrame.\n",
            "Try using .loc[row_indexer,col_indexer] = value instead\n",
            "\n",
            "See the caveats in the documentation: https://pandas.pydata.org/pandas-docs/stable/user_guide/indexing.html#returning-a-view-versus-a-copy\n",
            "  combined_subsets_drinking['year'] = combined_subsets_drinking['year'].astype('category')\n",
            "<ipython-input-83-05419b2230f7>:5: SettingWithCopyWarning: \n",
            "A value is trying to be set on a copy of a slice from a DataFrame.\n",
            "Try using .loc[row_indexer,col_indexer] = value instead\n",
            "\n",
            "See the caveats in the documentation: https://pandas.pydata.org/pandas-docs/stable/user_guide/indexing.html#returning-a-view-versus-a-copy\n",
            "  combined_subsets_drinking['year'] = combined_subsets_drinking['year'].cat.set_categories(['2019', '2021'])\n",
            "<ipython-input-83-05419b2230f7>:8: SettingWithCopyWarning: \n",
            "A value is trying to be set on a copy of a slice from a DataFrame.\n",
            "Try using .loc[row_indexer,col_indexer] = value instead\n",
            "\n",
            "See the caveats in the documentation: https://pandas.pydata.org/pandas-docs/stable/user_guide/indexing.html#returning-a-view-versus-a-copy\n",
            "  combined_subsets_drinking['year'] = combined_subsets_drinking['year'].cat.reorder_categories(['2019', '2021'], ordered=True)\n"
          ]
        }
      ]
    },
    {
      "cell_type": "code",
      "source": [
        "formula = 'drinking_frequency ~ source_of_alcohol_for_drinkers * C(year, Treatment(reference=\"2019\"))'\n",
        "model= smf.poisson(formula=formula, data=combined_subsets_drinking)\n",
        "result= model.fit()\n",
        "print(result.summary())"
      ],
      "metadata": {
        "colab": {
          "base_uri": "https://localhost:8080/"
        },
        "id": "rDODn151f5Xk",
        "outputId": "c85e811a-e9d2-423f-9695-51d812093e83"
      },
      "execution_count": null,
      "outputs": [
        {
          "output_type": "stream",
          "name": "stdout",
          "text": [
            "Optimization terminated successfully.\n",
            "         Current function value: 1.604966\n",
            "         Iterations 5\n",
            "                          Poisson Regression Results                          \n",
            "==============================================================================\n",
            "Dep. Variable:     drinking_frequency   No. Observations:                 3068\n",
            "Model:                        Poisson   Df Residuals:                     3054\n",
            "Method:                           MLE   Df Model:                           13\n",
            "Date:                Wed, 26 Jun 2024   Pseudo R-squ.:                 0.01057\n",
            "Time:                        03:36:36   Log-Likelihood:                -4924.0\n",
            "converged:                       True   LL-Null:                       -4976.6\n",
            "Covariance Type:            nonrobust   LLR p-value:                 1.611e-16\n",
            "======================================================================================================================================================\n",
            "                                                                                         coef    std err          z      P>|z|      [0.025      0.975]\n",
            "------------------------------------------------------------------------------------------------------------------------------------------------------\n",
            "Intercept                                                                              1.3298      0.054     24.664      0.000       1.224       1.435\n",
            "source_of_alcohol_for_drinkers[T.3.0]                                                 -0.2013      0.133     -1.517      0.129      -0.461       0.059\n",
            "source_of_alcohol_for_drinkers[T.4.0]                                                 -0.2883      0.248     -1.160      0.246      -0.775       0.199\n",
            "source_of_alcohol_for_drinkers[T.5.0]                                                 -0.1958      0.065     -3.023      0.002      -0.323      -0.069\n",
            "source_of_alcohol_for_drinkers[T.6.0]                                                 -0.4155      0.059     -7.046      0.000      -0.531      -0.300\n",
            "source_of_alcohol_for_drinkers[T.7.0]                                                 -0.3272      0.067     -4.887      0.000      -0.458      -0.196\n",
            "source_of_alcohol_for_drinkers[T.8.0]                                                 -0.3232      0.064     -5.058      0.000      -0.448      -0.198\n",
            "C(year, Treatment(reference=\"2019\"))[T.2021]                                          -0.0705      0.078     -0.901      0.368      -0.224       0.083\n",
            "source_of_alcohol_for_drinkers[T.3.0]:C(year, Treatment(reference=\"2019\"))[T.2021]     0.2638      0.296      0.892      0.372      -0.316       0.844\n",
            "source_of_alcohol_for_drinkers[T.4.0]:C(year, Treatment(reference=\"2019\"))[T.2021]    -0.1059      0.343     -0.309      0.757      -0.778       0.566\n",
            "source_of_alcohol_for_drinkers[T.5.0]:C(year, Treatment(reference=\"2019\"))[T.2021]     0.0937      0.094      0.993      0.321      -0.091       0.279\n",
            "source_of_alcohol_for_drinkers[T.6.0]:C(year, Treatment(reference=\"2019\"))[T.2021]     0.0842      0.086      0.983      0.326      -0.084       0.252\n",
            "source_of_alcohol_for_drinkers[T.7.0]:C(year, Treatment(reference=\"2019\"))[T.2021]     0.0761      0.097      0.784      0.433      -0.114       0.266\n",
            "source_of_alcohol_for_drinkers[T.8.0]:C(year, Treatment(reference=\"2019\"))[T.2021]     0.1076      0.092      1.173      0.241      -0.072       0.287\n",
            "======================================================================================================================================================\n"
          ]
        }
      ]
    },
    {
      "cell_type": "code",
      "source": [
        "combined_subsets_drinking['source_of_alcohol_for_drinkers'].unique()"
      ],
      "metadata": {
        "colab": {
          "base_uri": "https://localhost:8080/"
        },
        "id": "ryoikAz10erq",
        "outputId": "9d31d64e-18cf-48f1-b82e-da7ed1db10af"
      },
      "execution_count": null,
      "outputs": [
        {
          "output_type": "execute_result",
          "data": {
            "text/plain": [
              "[6.0, 8.0, 5.0, 2.0, 7.0, 3.0, 4.0]\n",
              "Categories (7, float64): [2.0, 3.0, 4.0, 5.0, 6.0, 7.0, 8.0]"
            ]
          },
          "metadata": {},
          "execution_count": 85
        }
      ]
    },
    {
      "cell_type": "code",
      "source": [
        "combined_subsets_drinking['student_sexual_identity'] = combined_subsets_drinking['student_sexual_identity'].astype(str)\n",
        "\n",
        "#convert 'year' to a categorical variable and set categories\n",
        "combined_subsets_drinking['student_sexual_identity'] = combined_subsets_drinking['student_sexual_identity'].astype('category')"
      ],
      "metadata": {
        "collapsed": true,
        "colab": {
          "base_uri": "https://localhost:8080/"
        },
        "id": "UFQmDc3MztuB",
        "outputId": "78c27b70-f3cf-49b1-fb93-f9117a49d812"
      },
      "execution_count": null,
      "outputs": [
        {
          "output_type": "stream",
          "name": "stderr",
          "text": [
            "<ipython-input-86-82b5db069d4d>:1: SettingWithCopyWarning: \n",
            "A value is trying to be set on a copy of a slice from a DataFrame.\n",
            "Try using .loc[row_indexer,col_indexer] = value instead\n",
            "\n",
            "See the caveats in the documentation: https://pandas.pydata.org/pandas-docs/stable/user_guide/indexing.html#returning-a-view-versus-a-copy\n",
            "  combined_subsets_drinking['student_sexual_identity'] = combined_subsets_drinking['student_sexual_identity'].astype(str)\n",
            "<ipython-input-86-82b5db069d4d>:4: SettingWithCopyWarning: \n",
            "A value is trying to be set on a copy of a slice from a DataFrame.\n",
            "Try using .loc[row_indexer,col_indexer] = value instead\n",
            "\n",
            "See the caveats in the documentation: https://pandas.pydata.org/pandas-docs/stable/user_guide/indexing.html#returning-a-view-versus-a-copy\n",
            "  combined_subsets_drinking['student_sexual_identity'] = combined_subsets_drinking['student_sexual_identity'].astype('category')\n"
          ]
        }
      ]
    },
    {
      "cell_type": "code",
      "source": [
        "formula2 = 'drinking_frequency ~ source_of_alcohol_for_drinkers * C(year) + C(student_sexual_identity)'\n",
        "model= smf.poisson(formula=formula2, data=combined_subsets_drinking)\n",
        "result= model.fit()\n",
        "print(result.summary())"
      ],
      "metadata": {
        "colab": {
          "base_uri": "https://localhost:8080/"
        },
        "id": "-RkYGLH5zZ9g",
        "outputId": "4eaa261f-1a43-460a-8370-8462f1788535"
      },
      "execution_count": null,
      "outputs": [
        {
          "output_type": "stream",
          "name": "stdout",
          "text": [
            "Optimization terminated successfully.\n",
            "         Current function value: 1.604719\n",
            "         Iterations 5\n",
            "                          Poisson Regression Results                          \n",
            "==============================================================================\n",
            "Dep. Variable:     drinking_frequency   No. Observations:                 3068\n",
            "Model:                        Poisson   Df Residuals:                     3049\n",
            "Method:                           MLE   Df Model:                           18\n",
            "Date:                Wed, 26 Jun 2024   Pseudo R-squ.:                 0.01072\n",
            "Time:                        03:36:36   Log-Likelihood:                -4923.3\n",
            "converged:                       True   LL-Null:                       -4976.6\n",
            "Covariance Type:            nonrobust   LLR p-value:                 1.277e-14\n",
            "=========================================================================================================================\n",
            "                                                            coef    std err          z      P>|z|      [0.025      0.975]\n",
            "-------------------------------------------------------------------------------------------------------------------------\n",
            "Intercept                                                 1.3293      0.054     24.637      0.000       1.224       1.435\n",
            "source_of_alcohol_for_drinkers[T.3.0]                    -0.2076      0.133     -1.562      0.118      -0.468       0.053\n",
            "source_of_alcohol_for_drinkers[T.4.0]                    -0.2900      0.249     -1.166      0.244      -0.777       0.197\n",
            "source_of_alcohol_for_drinkers[T.5.0]                    -0.1955      0.065     -3.017      0.003      -0.323      -0.068\n",
            "source_of_alcohol_for_drinkers[T.6.0]                    -0.4147      0.059     -7.019      0.000      -0.530      -0.299\n",
            "source_of_alcohol_for_drinkers[T.7.0]                    -0.3273      0.067     -4.879      0.000      -0.459      -0.196\n",
            "source_of_alcohol_for_drinkers[T.8.0]                    -0.3223      0.064     -5.044      0.000      -0.448      -0.197\n",
            "C(year)[T.2021]                                          -0.0716      0.078     -0.913      0.361      -0.225       0.082\n",
            "C(student_sexual_identity)[T.2.0]                         0.0414      0.063      0.662      0.508      -0.081       0.164\n",
            "C(student_sexual_identity)[T.3.0]                        -0.0204      0.034     -0.608      0.543      -0.086       0.045\n",
            "C(student_sexual_identity)[T.4.0]                         0.0327      0.060      0.548      0.583      -0.084       0.149\n",
            "C(student_sexual_identity)[T.5.0]                         0.0377      0.073      0.514      0.608      -0.106       0.182\n",
            "C(student_sexual_identity)[T.6.0]                         0.0559      0.244      0.229      0.819      -0.422       0.533\n",
            "source_of_alcohol_for_drinkers[T.3.0]:C(year)[T.2021]     0.2717      0.296      0.918      0.359      -0.308       0.852\n",
            "source_of_alcohol_for_drinkers[T.4.0]:C(year)[T.2021]    -0.1002      0.343     -0.292      0.770      -0.773       0.572\n",
            "source_of_alcohol_for_drinkers[T.5.0]:C(year)[T.2021]     0.0927      0.094      0.981      0.326      -0.092       0.278\n",
            "source_of_alcohol_for_drinkers[T.6.0]:C(year)[T.2021]     0.0836      0.086      0.975      0.329      -0.084       0.252\n",
            "source_of_alcohol_for_drinkers[T.7.0]:C(year)[T.2021]     0.0773      0.097      0.796      0.426      -0.113       0.268\n",
            "source_of_alcohol_for_drinkers[T.8.0]:C(year)[T.2021]     0.1059      0.092      1.154      0.248      -0.074       0.286\n",
            "=========================================================================================================================\n"
          ]
        }
      ]
    },
    {
      "cell_type": "code",
      "source": [
        "combined_subsets_drinking['year_num'] = combined_subsets_drinking['year'].cat.codes\n",
        "combined_subsets_drinking['student_sexual_identity_num'] = combined_subsets_drinking['student_sexual_identity'].cat.codes\n",
        "X = pd.get_dummies(combined_subsets_drinking[['year_num', 'student_sexual_identity_num']], drop_first=True)\n",
        "\n",
        "#add a constant term to design matrix\n",
        "X = sm.add_constant(X)\n",
        "print(\"Dependent variable (y) data type:\", combined_subsets_drinking['source_of_alcohol_for_drinkers'].dtype)\n",
        "print(\"Independent variables (X) data types:\\n\", X.dtypes)"
      ],
      "metadata": {
        "colab": {
          "base_uri": "https://localhost:8080/"
        },
        "collapsed": true,
        "id": "trOpQS0b2F77",
        "outputId": "e102062d-ed36-4e29-ea25-89ff104e8937"
      },
      "execution_count": null,
      "outputs": [
        {
          "output_type": "stream",
          "name": "stdout",
          "text": [
            "Dependent variable (y) data type: category\n",
            "Independent variables (X) data types:\n",
            " const                          float64\n",
            "year_num                          int8\n",
            "student_sexual_identity_num       int8\n",
            "dtype: object\n"
          ]
        },
        {
          "output_type": "stream",
          "name": "stderr",
          "text": [
            "<ipython-input-88-466187bd635f>:1: SettingWithCopyWarning: \n",
            "A value is trying to be set on a copy of a slice from a DataFrame.\n",
            "Try using .loc[row_indexer,col_indexer] = value instead\n",
            "\n",
            "See the caveats in the documentation: https://pandas.pydata.org/pandas-docs/stable/user_guide/indexing.html#returning-a-view-versus-a-copy\n",
            "  combined_subsets_drinking['year_num'] = combined_subsets_drinking['year'].cat.codes\n",
            "<ipython-input-88-466187bd635f>:2: SettingWithCopyWarning: \n",
            "A value is trying to be set on a copy of a slice from a DataFrame.\n",
            "Try using .loc[row_indexer,col_indexer] = value instead\n",
            "\n",
            "See the caveats in the documentation: https://pandas.pydata.org/pandas-docs/stable/user_guide/indexing.html#returning-a-view-versus-a-copy\n",
            "  combined_subsets_drinking['student_sexual_identity_num'] = combined_subsets_drinking['student_sexual_identity'].cat.codes\n"
          ]
        }
      ]
    },
    {
      "cell_type": "code",
      "source": [
        "model_mnlogit = sm.MNLogit(combined_subsets_drinking['source_of_alcohol_for_drinkers'], X)\n",
        "result_mnlogit = model_mnlogit.fit()\n",
        "print(result_mnlogit.summary().as_text())"
      ],
      "metadata": {
        "colab": {
          "base_uri": "https://localhost:8080/"
        },
        "id": "wwOiJ3H24Z6K",
        "outputId": "28af30a9-e45c-43e9-ae8e-efc45a961ad3"
      },
      "execution_count": null,
      "outputs": [
        {
          "output_type": "stream",
          "name": "stdout",
          "text": [
            "Optimization terminated successfully.\n",
            "         Current function value: 1.477295\n",
            "         Iterations 8\n",
            "                                MNLogit Regression Results                                \n",
            "==========================================================================================\n",
            "Dep. Variable:     source_of_alcohol_for_drinkers   No. Observations:                 3068\n",
            "Model:                                    MNLogit   Df Residuals:                     3050\n",
            "Method:                                       MLE   Df Model:                           12\n",
            "Date:                            Wed, 26 Jun 2024   Pseudo R-squ.:                0.004088\n",
            "Time:                                    03:36:37   Log-Likelihood:                -4532.3\n",
            "converged:                                   True   LL-Null:                       -4550.9\n",
            "Covariance Type:                        nonrobust   LLR p-value:                 0.0002070\n",
            "====================================================================================================\n",
            "source_of_alcohol_for_drinkers=3       coef    std err          z      P>|z|      [0.025      0.975]\n",
            "----------------------------------------------------------------------------------------------------\n",
            "const                               -1.4543      0.248     -5.865      0.000      -1.940      -0.968\n",
            "year_num                            -1.7024      0.568     -2.999      0.003      -2.815      -0.590\n",
            "student_sexual_identity_num          0.1469      0.272      0.541      0.589      -0.386       0.679\n",
            "----------------------------------------------------------------------------------------------------\n",
            "source_of_alcohol_for_drinkers=4       coef    std err          z      P>|z|      [0.025      0.975]\n",
            "----------------------------------------------------------------------------------------------------\n",
            "const                               -2.7807      0.430     -6.462      0.000      -3.624      -1.937\n",
            "year_num                             0.2638      0.567      0.465      0.642      -0.847       1.375\n",
            "student_sexual_identity_num          0.2394      0.281      0.851      0.395      -0.312       0.790\n",
            "----------------------------------------------------------------------------------------------------\n",
            "source_of_alcohol_for_drinkers=5       coef    std err          z      P>|z|      [0.025      0.975]\n",
            "----------------------------------------------------------------------------------------------------\n",
            "const                                0.9462      0.125      7.569      0.000       0.701       1.191\n",
            "year_num                            -0.2009      0.178     -1.129      0.259      -0.550       0.148\n",
            "student_sexual_identity_num          0.2479      0.108      2.297      0.022       0.036       0.459\n",
            "----------------------------------------------------------------------------------------------------\n",
            "source_of_alcohol_for_drinkers=6       coef    std err          z      P>|z|      [0.025      0.975]\n",
            "----------------------------------------------------------------------------------------------------\n",
            "const                                1.9730      0.114     17.371      0.000       1.750       2.196\n",
            "year_num                            -0.1724      0.161     -1.072      0.284      -0.487       0.143\n",
            "student_sexual_identity_num          0.2695      0.101      2.679      0.007       0.072       0.467\n",
            "----------------------------------------------------------------------------------------------------\n",
            "source_of_alcohol_for_drinkers=7       coef    std err          z      P>|z|      [0.025      0.975]\n",
            "----------------------------------------------------------------------------------------------------\n",
            "const                                0.8228      0.127      6.499      0.000       0.575       1.071\n",
            "year_num                            -0.1758      0.179     -0.980      0.327      -0.527       0.176\n",
            "student_sexual_identity_num          0.3907      0.106      3.693      0.000       0.183       0.598\n",
            "----------------------------------------------------------------------------------------------------\n",
            "source_of_alcohol_for_drinkers=8       coef    std err          z      P>|z|      [0.025      0.975]\n",
            "----------------------------------------------------------------------------------------------------\n",
            "const                                1.1837      0.121      9.746      0.000       0.946       1.422\n",
            "year_num                             0.0144      0.171      0.084      0.933      -0.320       0.349\n",
            "student_sexual_identity_num          0.1855      0.106      1.756      0.079      -0.022       0.393\n",
            "====================================================================================================\n"
          ]
        }
      ]
    },
    {
      "cell_type": "markdown",
      "source": [
        "##alcohol use/source and suicide attempts"
      ],
      "metadata": {
        "id": "4y8o79ObgzqH"
      }
    },
    {
      "cell_type": "code",
      "source": [
        "combined_subsets['attempted_suicide_binary'] = combined_subsets['attempted_suicide'].apply(lambda x: 0 if x == 1 else 1)\n",
        "#binary measurement created for logit model"
      ],
      "metadata": {
        "id": "hifulqr12FlM"
      },
      "execution_count": null,
      "outputs": []
    },
    {
      "cell_type": "code",
      "source": [
        "combined_subsets['current_alcohol_use'] = combined_subsets['current_alcohol_use'].astype('category')\n",
        "combined_subsets['year'] = combined_subsets['year'].astype('category')\n",
        "\n",
        "formula = 'attempted_suicide_binary ~ current_alcohol_use + year'\n",
        "\n",
        "model = smf.logit(formula, data = combined_subsets).fit()\n",
        "\n",
        "# Display the summary of the model\n",
        "print(model.summary().as_text())"
      ],
      "metadata": {
        "colab": {
          "base_uri": "https://localhost:8080/"
        },
        "id": "sapS6nmtilVn",
        "outputId": "e8e19a25-9584-47dd-b78e-c371051a9e94"
      },
      "execution_count": null,
      "outputs": [
        {
          "output_type": "stream",
          "name": "stdout",
          "text": [
            "Optimization terminated successfully.\n",
            "         Current function value: 0.283191\n",
            "         Iterations 7\n",
            "                              Logit Regression Results                              \n",
            "====================================================================================\n",
            "Dep. Variable:     attempted_suicide_binary   No. Observations:                12902\n",
            "Model:                                Logit   Df Residuals:                    12894\n",
            "Method:                                 MLE   Df Model:                            7\n",
            "Date:                      Wed, 26 Jun 2024   Pseudo R-squ.:                 0.03615\n",
            "Time:                              03:37:06   Log-Likelihood:                -3653.7\n",
            "converged:                             True   LL-Null:                       -3790.8\n",
            "Covariance Type:                  nonrobust   LLR p-value:                 2.076e-55\n",
            "==============================================================================================\n",
            "                                 coef    std err          z      P>|z|      [0.025      0.975]\n",
            "----------------------------------------------------------------------------------------------\n",
            "Intercept                     -2.8352      0.057    -50.085      0.000      -2.946      -2.724\n",
            "current_alcohol_use[T.2.0]     0.8517      0.081     10.513      0.000       0.693       1.010\n",
            "current_alcohol_use[T.3.0]     0.9977      0.112      8.921      0.000       0.779       1.217\n",
            "current_alcohol_use[T.4.0]     0.9826      0.152      6.444      0.000       0.684       1.281\n",
            "current_alcohol_use[T.5.0]     1.1452      0.200      5.740      0.000       0.754       1.536\n",
            "current_alcohol_use[T.6.0]     2.1539      0.353      6.100      0.000       1.462       2.846\n",
            "current_alcohol_use[T.7.0]     2.6006      0.287      9.067      0.000       2.038       3.163\n",
            "year[T.2021]                   0.2963      0.065      4.592      0.000       0.170       0.423\n",
            "==============================================================================================\n"
          ]
        }
      ]
    },
    {
      "cell_type": "code",
      "source": [
        "combined_subsets['source_of_alcohol_for_drinkers'] = combined_subsets['source_of_alcohol_for_drinkers'].astype('category')\n",
        "combined_subsets['year'] = combined_subsets['year'].astype('category')\n",
        "\n",
        "formula2 = 'attempted_suicide_binary ~ source_of_alcohol_for_drinkers + year'\n",
        "\n",
        "model2 = smf.logit(formula2, data = combined_subsets).fit()\n",
        "\n",
        "# Display the summary of the model\n",
        "print(model2.summary().as_text())"
      ],
      "metadata": {
        "colab": {
          "base_uri": "https://localhost:8080/"
        },
        "id": "8re-dWj7lArh",
        "outputId": "543e30f8-7a1f-44ef-9d42-9b19559c6917"
      },
      "execution_count": null,
      "outputs": [
        {
          "output_type": "stream",
          "name": "stdout",
          "text": [
            "Optimization terminated successfully.\n",
            "         Current function value: 0.419500\n",
            "         Iterations 29\n",
            "                              Logit Regression Results                              \n",
            "====================================================================================\n",
            "Dep. Variable:     attempted_suicide_binary   No. Observations:                 3068\n",
            "Model:                                Logit   Df Residuals:                     3060\n",
            "Method:                                 MLE   Df Model:                            7\n",
            "Date:                      Wed, 26 Jun 2024   Pseudo R-squ.:                 0.02414\n",
            "Time:                              03:39:00   Log-Likelihood:                -1287.0\n",
            "converged:                             True   LL-Null:                       -1318.9\n",
            "Covariance Type:                  nonrobust   LLR p-value:                 2.766e-11\n",
            "=========================================================================================================\n",
            "                                            coef    std err          z      P>|z|      [0.025      0.975]\n",
            "---------------------------------------------------------------------------------------------------------\n",
            "Intercept                                -2.2591      0.233     -9.695      0.000      -2.716      -1.802\n",
            "source_of_alcohol_for_drinkers[T.3.0]   -35.4827   2.89e+07  -1.23e-06      1.000   -5.66e+07    5.66e+07\n",
            "source_of_alcohol_for_drinkers[T.4.0]     0.9634      0.638      1.510      0.131      -0.287       2.214\n",
            "source_of_alcohol_for_drinkers[T.5.0]     0.2039      0.260      0.784      0.433      -0.306       0.714\n",
            "source_of_alcohol_for_drinkers[T.6.0]     0.1096      0.238      0.460      0.646      -0.358       0.577\n",
            "source_of_alcohol_for_drinkers[T.7.0]     0.6417      0.253      2.538      0.011       0.146       1.137\n",
            "source_of_alcohol_for_drinkers[T.8.0]     0.2185      0.250      0.873      0.383      -0.272       0.709\n",
            "year[T.2021]                              0.6272      0.103      6.119      0.000       0.426       0.828\n",
            "=========================================================================================================\n"
          ]
        }
      ]
    },
    {
      "cell_type": "code",
      "source": [
        "#perfect seperation? because level 3 has too few observations that behave similarly to the outcome?\n",
        "print(combined_subsets['source_of_alcohol_for_drinkers'].value_counts())"
      ],
      "metadata": {
        "colab": {
          "base_uri": "https://localhost:8080/"
        },
        "id": "PGis0oNEo9pw",
        "outputId": "8205cd89-4a9c-440f-998b-3ba50e09efd0"
      },
      "execution_count": null,
      "outputs": [
        {
          "output_type": "stream",
          "name": "stdout",
          "text": [
            "source_of_alcohol_for_drinkers\n",
            "6.0    1315\n",
            "8.0     629\n",
            "5.0     460\n",
            "7.0     445\n",
            "2.0     179\n",
            "3.0      26\n",
            "4.0      14\n",
            "Name: count, dtype: int64\n"
          ]
        }
      ]
    },
    {
      "cell_type": "code",
      "source": [
        "#let me tentatively try grouping level 3 (bought at restaurant) and 4 (at public event) together\n",
        "combined_subsets['source_of_alcohol_for_drinkers'] = combined_subsets['source_of_alcohol_for_drinkers'].replace({3: '3_4', 4: '3_4'})\n",
        "\n",
        "#rerun the logistic regression model\n",
        "formula3 = 'attempted_suicide_binary ~ C(source_of_alcohol_for_drinkers) + C(year)'\n",
        "model3 = smf.logit(formula3, data = combined_subsets).fit()\n",
        "\n",
        "# Display the summary of the model\n",
        "print(model3.summary())"
      ],
      "metadata": {
        "colab": {
          "base_uri": "https://localhost:8080/"
        },
        "id": "SUFLF_KIpKYa",
        "outputId": "a8279fa0-9ed7-4419-b1e7-f9ba8b391d77"
      },
      "execution_count": null,
      "outputs": [
        {
          "output_type": "stream",
          "name": "stdout",
          "text": [
            "Optimization terminated successfully.\n",
            "         Current function value: 0.420792\n",
            "         Iterations 6\n",
            "                              Logit Regression Results                              \n",
            "====================================================================================\n",
            "Dep. Variable:     attempted_suicide_binary   No. Observations:                 3068\n",
            "Model:                                Logit   Df Residuals:                     3061\n",
            "Method:                                 MLE   Df Model:                            6\n",
            "Date:                      Wed, 26 Jun 2024   Pseudo R-squ.:                 0.02114\n",
            "Time:                              03:45:20   Log-Likelihood:                -1291.0\n",
            "converged:                             True   LL-Null:                       -1318.9\n",
            "Covariance Type:                  nonrobust   LLR p-value:                 3.263e-10\n",
            "============================================================================================================\n",
            "                                               coef    std err          z      P>|z|      [0.025      0.975]\n",
            "------------------------------------------------------------------------------------------------------------\n",
            "Intercept                                   -2.2654      0.233     -9.719      0.000      -2.722      -1.809\n",
            "C(source_of_alcohol_for_drinkers)[T.3_4]    -0.1587      0.575     -0.276      0.783      -1.287       0.969\n",
            "C(source_of_alcohol_for_drinkers)[T.5.0]     0.2044      0.260      0.785      0.432      -0.306       0.714\n",
            "C(source_of_alcohol_for_drinkers)[T.6.0]     0.1099      0.238      0.461      0.645      -0.358       0.577\n",
            "C(source_of_alcohol_for_drinkers)[T.7.0]     0.6421      0.253      2.539      0.011       0.146       1.138\n",
            "C(source_of_alcohol_for_drinkers)[T.8.0]     0.2184      0.250      0.872      0.383      -0.272       0.709\n",
            "C(year)[T.2021]                              0.6376      0.102      6.223      0.000       0.437       0.838\n",
            "============================================================================================================\n"
          ]
        }
      ]
    },
    {
      "cell_type": "code",
      "source": [
        "#took it as family/store sig predicts 'actually attempted suicide' and the coefficient quite large too"
      ],
      "metadata": {
        "id": "zkxdV-thpqLg"
      },
      "execution_count": null,
      "outputs": []
    }
  ]
}