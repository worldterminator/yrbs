{
  "nbformat": 4,
  "nbformat_minor": 0,
  "metadata": {
    "colab": {
      "provenance": [],
      "toc_visible": true,
      "authorship_tag": "ABX9TyMg7hc86ajaglvYt6I3IyCj",
      "include_colab_link": true
    },
    "kernelspec": {
      "name": "python3",
      "display_name": "Python 3"
    },
    "language_info": {
      "name": "python"
    }
  },
  "cells": [
    {
      "cell_type": "markdown",
      "metadata": {
        "id": "view-in-github",
        "colab_type": "text"
      },
      "source": [
        "<a href=\"https://colab.research.google.com/github/worldterminator/yrbs/blob/main/summeryrbs.ipynb\" target=\"_parent\"><img src=\"https://colab.research.google.com/assets/colab-badge.svg\" alt=\"Open In Colab\"/></a>"
      ]
    },
    {
      "cell_type": "markdown",
      "source": [
        "# data upload from local"
      ],
      "metadata": {
        "id": "CRN8_fzdWi7T"
      }
    },
    {
      "cell_type": "code",
      "source": [
        "import pandas as pd\n",
        "file_path = '/yrbs2019.csv' #data uploaded to the disk on the right/collab environment\n",
        "data2019 = pd.read_csv(file_path)"
      ],
      "metadata": {
        "id": "b88nPeaQZvUZ"
      },
      "execution_count": 1,
      "outputs": []
    },
    {
      "cell_type": "code",
      "source": [
        "file_path = '/yrbs2021.csv'\n",
        "data2021 = pd.read_csv(file_path)"
      ],
      "metadata": {
        "id": "2cQIQaj8Z_cb"
      },
      "execution_count": 2,
      "outputs": []
    },
    {
      "cell_type": "code",
      "source": [
        "summary = data2021['Q65'].value_counts()\n",
        "print(summary)"
      ],
      "metadata": {
        "colab": {
          "base_uri": "https://localhost:8080/"
        },
        "id": "fWNZymQRe8Eu",
        "outputId": "d83ba1aa-10c2-46db-9813-90610b95633b"
      },
      "execution_count": 3,
      "outputs": [
        {
          "output_type": "stream",
          "name": "stdout",
          "text": [
            "Q65\n",
            "1.0    12421\n",
            "3.0     1848\n",
            "5.0      823\n",
            "4.0      659\n",
            "2.0      520\n",
            "6.0      330\n",
            "Name: count, dtype: int64\n"
          ]
        }
      ]
    },
    {
      "cell_type": "markdown",
      "source": [
        "# subset 1 (2019) and 2 (2021)"
      ],
      "metadata": {
        "id": "d4q-4GIHWrxy"
      }
    },
    {
      "cell_type": "code",
      "source": [
        "subset1=data2019[['Q44','Q66','Q62','Q41','Q42','Q38','Q47','Q48','Q49','Q50','Q51','Q52','Q53', 'Q54','Q55','Q56','Q57']]\n",
        "subset1['year'] = 2019"
      ],
      "metadata": {
        "colab": {
          "base_uri": "https://localhost:8080/"
        },
        "id": "kuQ3vCUegmKo",
        "outputId": "57ed5605-70e4-42d1-c3b6-2654487a018a"
      },
      "execution_count": 198,
      "outputs": [
        {
          "output_type": "stream",
          "name": "stderr",
          "text": [
            "<ipython-input-198-7f4d5c0048f2>:2: SettingWithCopyWarning: \n",
            "A value is trying to be set on a copy of a slice from a DataFrame.\n",
            "Try using .loc[row_indexer,col_indexer] = value instead\n",
            "\n",
            "See the caveats in the documentation: https://pandas.pydata.org/pandas-docs/stable/user_guide/indexing.html#returning-a-view-versus-a-copy\n",
            "  subset1['year'] = 2019\n"
          ]
        }
      ]
    },
    {
      "cell_type": "code",
      "source": [
        "subset1= subset1.dropna()\n",
        "subset1['Q47_binary'] = subset1['Q47'].apply(lambda x: 0 if x == 1 else 1)\n",
        "\n",
        "subset1.head()"
      ],
      "metadata": {
        "colab": {
          "base_uri": "https://localhost:8080/",
          "height": 326
        },
        "id": "coAu1o3YkJ9W",
        "outputId": "7ee6bf5f-b399-4c52-eb1d-656271ece25d"
      },
      "execution_count": 199,
      "outputs": [
        {
          "output_type": "stream",
          "name": "stderr",
          "text": [
            "<ipython-input-199-debc90604c88>:2: SettingWithCopyWarning: \n",
            "A value is trying to be set on a copy of a slice from a DataFrame.\n",
            "Try using .loc[row_indexer,col_indexer] = value instead\n",
            "\n",
            "See the caveats in the documentation: https://pandas.pydata.org/pandas-docs/stable/user_guide/indexing.html#returning-a-view-versus-a-copy\n",
            "  subset1['Q47_binary'] = subset1['Q47'].apply(lambda x: 0 if x == 1 else 1)\n"
          ]
        },
        {
          "output_type": "execute_result",
          "data": {
            "text/plain": [
              "   Q44  Q66  Q62  Q41  Q42  Q38  Q47  Q48  Q49  Q50  Q51  Q52  Q53  Q54  Q55  \\\n",
              "0  1.0  1.0  1.0  1.0  1.0  1.0  1.0  1.0  1.0  1.0  1.0  1.0  1.0  1.0  1.0   \n",
              "1  1.0  1.0  1.0  1.0  1.0  1.0  1.0  1.0  1.0  1.0  1.0  1.0  1.0  1.0  1.0   \n",
              "2  1.0  1.0  1.0  1.0  1.0  1.0  1.0  1.0  1.0  1.0  1.0  1.0  1.0  1.0  1.0   \n",
              "4  1.0  1.0  1.0  1.0  1.0  1.0  1.0  1.0  1.0  1.0  1.0  1.0  1.0  1.0  1.0   \n",
              "5  6.0  3.0  1.0  2.0  1.0  1.0  1.0  1.0  3.0  1.0  3.0  1.0  1.0  1.0  1.0   \n",
              "\n",
              "   Q56  Q57  year  Q47_binary  \n",
              "0  1.0  1.0  2019           0  \n",
              "1  1.0  2.0  2019           0  \n",
              "2  1.0  2.0  2019           0  \n",
              "4  1.0  2.0  2019           0  \n",
              "5  1.0  1.0  2019           0  "
            ],
            "text/html": [
              "\n",
              "  <div id=\"df-5dd65671-e8db-4a48-9aa7-5cf3cc6bd88f\" class=\"colab-df-container\">\n",
              "    <div>\n",
              "<style scoped>\n",
              "    .dataframe tbody tr th:only-of-type {\n",
              "        vertical-align: middle;\n",
              "    }\n",
              "\n",
              "    .dataframe tbody tr th {\n",
              "        vertical-align: top;\n",
              "    }\n",
              "\n",
              "    .dataframe thead th {\n",
              "        text-align: right;\n",
              "    }\n",
              "</style>\n",
              "<table border=\"1\" class=\"dataframe\">\n",
              "  <thead>\n",
              "    <tr style=\"text-align: right;\">\n",
              "      <th></th>\n",
              "      <th>Q44</th>\n",
              "      <th>Q66</th>\n",
              "      <th>Q62</th>\n",
              "      <th>Q41</th>\n",
              "      <th>Q42</th>\n",
              "      <th>Q38</th>\n",
              "      <th>Q47</th>\n",
              "      <th>Q48</th>\n",
              "      <th>Q49</th>\n",
              "      <th>Q50</th>\n",
              "      <th>Q51</th>\n",
              "      <th>Q52</th>\n",
              "      <th>Q53</th>\n",
              "      <th>Q54</th>\n",
              "      <th>Q55</th>\n",
              "      <th>Q56</th>\n",
              "      <th>Q57</th>\n",
              "      <th>year</th>\n",
              "      <th>Q47_binary</th>\n",
              "    </tr>\n",
              "  </thead>\n",
              "  <tbody>\n",
              "    <tr>\n",
              "      <th>0</th>\n",
              "      <td>1.0</td>\n",
              "      <td>1.0</td>\n",
              "      <td>1.0</td>\n",
              "      <td>1.0</td>\n",
              "      <td>1.0</td>\n",
              "      <td>1.0</td>\n",
              "      <td>1.0</td>\n",
              "      <td>1.0</td>\n",
              "      <td>1.0</td>\n",
              "      <td>1.0</td>\n",
              "      <td>1.0</td>\n",
              "      <td>1.0</td>\n",
              "      <td>1.0</td>\n",
              "      <td>1.0</td>\n",
              "      <td>1.0</td>\n",
              "      <td>1.0</td>\n",
              "      <td>1.0</td>\n",
              "      <td>2019</td>\n",
              "      <td>0</td>\n",
              "    </tr>\n",
              "    <tr>\n",
              "      <th>1</th>\n",
              "      <td>1.0</td>\n",
              "      <td>1.0</td>\n",
              "      <td>1.0</td>\n",
              "      <td>1.0</td>\n",
              "      <td>1.0</td>\n",
              "      <td>1.0</td>\n",
              "      <td>1.0</td>\n",
              "      <td>1.0</td>\n",
              "      <td>1.0</td>\n",
              "      <td>1.0</td>\n",
              "      <td>1.0</td>\n",
              "      <td>1.0</td>\n",
              "      <td>1.0</td>\n",
              "      <td>1.0</td>\n",
              "      <td>1.0</td>\n",
              "      <td>1.0</td>\n",
              "      <td>2.0</td>\n",
              "      <td>2019</td>\n",
              "      <td>0</td>\n",
              "    </tr>\n",
              "    <tr>\n",
              "      <th>2</th>\n",
              "      <td>1.0</td>\n",
              "      <td>1.0</td>\n",
              "      <td>1.0</td>\n",
              "      <td>1.0</td>\n",
              "      <td>1.0</td>\n",
              "      <td>1.0</td>\n",
              "      <td>1.0</td>\n",
              "      <td>1.0</td>\n",
              "      <td>1.0</td>\n",
              "      <td>1.0</td>\n",
              "      <td>1.0</td>\n",
              "      <td>1.0</td>\n",
              "      <td>1.0</td>\n",
              "      <td>1.0</td>\n",
              "      <td>1.0</td>\n",
              "      <td>1.0</td>\n",
              "      <td>2.0</td>\n",
              "      <td>2019</td>\n",
              "      <td>0</td>\n",
              "    </tr>\n",
              "    <tr>\n",
              "      <th>4</th>\n",
              "      <td>1.0</td>\n",
              "      <td>1.0</td>\n",
              "      <td>1.0</td>\n",
              "      <td>1.0</td>\n",
              "      <td>1.0</td>\n",
              "      <td>1.0</td>\n",
              "      <td>1.0</td>\n",
              "      <td>1.0</td>\n",
              "      <td>1.0</td>\n",
              "      <td>1.0</td>\n",
              "      <td>1.0</td>\n",
              "      <td>1.0</td>\n",
              "      <td>1.0</td>\n",
              "      <td>1.0</td>\n",
              "      <td>1.0</td>\n",
              "      <td>1.0</td>\n",
              "      <td>2.0</td>\n",
              "      <td>2019</td>\n",
              "      <td>0</td>\n",
              "    </tr>\n",
              "    <tr>\n",
              "      <th>5</th>\n",
              "      <td>6.0</td>\n",
              "      <td>3.0</td>\n",
              "      <td>1.0</td>\n",
              "      <td>2.0</td>\n",
              "      <td>1.0</td>\n",
              "      <td>1.0</td>\n",
              "      <td>1.0</td>\n",
              "      <td>1.0</td>\n",
              "      <td>3.0</td>\n",
              "      <td>1.0</td>\n",
              "      <td>3.0</td>\n",
              "      <td>1.0</td>\n",
              "      <td>1.0</td>\n",
              "      <td>1.0</td>\n",
              "      <td>1.0</td>\n",
              "      <td>1.0</td>\n",
              "      <td>1.0</td>\n",
              "      <td>2019</td>\n",
              "      <td>0</td>\n",
              "    </tr>\n",
              "  </tbody>\n",
              "</table>\n",
              "</div>\n",
              "    <div class=\"colab-df-buttons\">\n",
              "\n",
              "  <div class=\"colab-df-container\">\n",
              "    <button class=\"colab-df-convert\" onclick=\"convertToInteractive('df-5dd65671-e8db-4a48-9aa7-5cf3cc6bd88f')\"\n",
              "            title=\"Convert this dataframe to an interactive table.\"\n",
              "            style=\"display:none;\">\n",
              "\n",
              "  <svg xmlns=\"http://www.w3.org/2000/svg\" height=\"24px\" viewBox=\"0 -960 960 960\">\n",
              "    <path d=\"M120-120v-720h720v720H120Zm60-500h600v-160H180v160Zm220 220h160v-160H400v160Zm0 220h160v-160H400v160ZM180-400h160v-160H180v160Zm440 0h160v-160H620v160ZM180-180h160v-160H180v160Zm440 0h160v-160H620v160Z\"/>\n",
              "  </svg>\n",
              "    </button>\n",
              "\n",
              "  <style>\n",
              "    .colab-df-container {\n",
              "      display:flex;\n",
              "      gap: 12px;\n",
              "    }\n",
              "\n",
              "    .colab-df-convert {\n",
              "      background-color: #E8F0FE;\n",
              "      border: none;\n",
              "      border-radius: 50%;\n",
              "      cursor: pointer;\n",
              "      display: none;\n",
              "      fill: #1967D2;\n",
              "      height: 32px;\n",
              "      padding: 0 0 0 0;\n",
              "      width: 32px;\n",
              "    }\n",
              "\n",
              "    .colab-df-convert:hover {\n",
              "      background-color: #E2EBFA;\n",
              "      box-shadow: 0px 1px 2px rgba(60, 64, 67, 0.3), 0px 1px 3px 1px rgba(60, 64, 67, 0.15);\n",
              "      fill: #174EA6;\n",
              "    }\n",
              "\n",
              "    .colab-df-buttons div {\n",
              "      margin-bottom: 4px;\n",
              "    }\n",
              "\n",
              "    [theme=dark] .colab-df-convert {\n",
              "      background-color: #3B4455;\n",
              "      fill: #D2E3FC;\n",
              "    }\n",
              "\n",
              "    [theme=dark] .colab-df-convert:hover {\n",
              "      background-color: #434B5C;\n",
              "      box-shadow: 0px 1px 3px 1px rgba(0, 0, 0, 0.15);\n",
              "      filter: drop-shadow(0px 1px 2px rgba(0, 0, 0, 0.3));\n",
              "      fill: #FFFFFF;\n",
              "    }\n",
              "  </style>\n",
              "\n",
              "    <script>\n",
              "      const buttonEl =\n",
              "        document.querySelector('#df-5dd65671-e8db-4a48-9aa7-5cf3cc6bd88f button.colab-df-convert');\n",
              "      buttonEl.style.display =\n",
              "        google.colab.kernel.accessAllowed ? 'block' : 'none';\n",
              "\n",
              "      async function convertToInteractive(key) {\n",
              "        const element = document.querySelector('#df-5dd65671-e8db-4a48-9aa7-5cf3cc6bd88f');\n",
              "        const dataTable =\n",
              "          await google.colab.kernel.invokeFunction('convertToInteractive',\n",
              "                                                    [key], {});\n",
              "        if (!dataTable) return;\n",
              "\n",
              "        const docLinkHtml = 'Like what you see? Visit the ' +\n",
              "          '<a target=\"_blank\" href=https://colab.research.google.com/notebooks/data_table.ipynb>data table notebook</a>'\n",
              "          + ' to learn more about interactive tables.';\n",
              "        element.innerHTML = '';\n",
              "        dataTable['output_type'] = 'display_data';\n",
              "        await google.colab.output.renderOutput(dataTable, element);\n",
              "        const docLink = document.createElement('div');\n",
              "        docLink.innerHTML = docLinkHtml;\n",
              "        element.appendChild(docLink);\n",
              "      }\n",
              "    </script>\n",
              "  </div>\n",
              "\n",
              "\n",
              "<div id=\"df-1da1c78f-abec-4b5b-9134-43a093c58a49\">\n",
              "  <button class=\"colab-df-quickchart\" onclick=\"quickchart('df-1da1c78f-abec-4b5b-9134-43a093c58a49')\"\n",
              "            title=\"Suggest charts\"\n",
              "            style=\"display:none;\">\n",
              "\n",
              "<svg xmlns=\"http://www.w3.org/2000/svg\" height=\"24px\"viewBox=\"0 0 24 24\"\n",
              "     width=\"24px\">\n",
              "    <g>\n",
              "        <path d=\"M19 3H5c-1.1 0-2 .9-2 2v14c0 1.1.9 2 2 2h14c1.1 0 2-.9 2-2V5c0-1.1-.9-2-2-2zM9 17H7v-7h2v7zm4 0h-2V7h2v10zm4 0h-2v-4h2v4z\"/>\n",
              "    </g>\n",
              "</svg>\n",
              "  </button>\n",
              "\n",
              "<style>\n",
              "  .colab-df-quickchart {\n",
              "      --bg-color: #E8F0FE;\n",
              "      --fill-color: #1967D2;\n",
              "      --hover-bg-color: #E2EBFA;\n",
              "      --hover-fill-color: #174EA6;\n",
              "      --disabled-fill-color: #AAA;\n",
              "      --disabled-bg-color: #DDD;\n",
              "  }\n",
              "\n",
              "  [theme=dark] .colab-df-quickchart {\n",
              "      --bg-color: #3B4455;\n",
              "      --fill-color: #D2E3FC;\n",
              "      --hover-bg-color: #434B5C;\n",
              "      --hover-fill-color: #FFFFFF;\n",
              "      --disabled-bg-color: #3B4455;\n",
              "      --disabled-fill-color: #666;\n",
              "  }\n",
              "\n",
              "  .colab-df-quickchart {\n",
              "    background-color: var(--bg-color);\n",
              "    border: none;\n",
              "    border-radius: 50%;\n",
              "    cursor: pointer;\n",
              "    display: none;\n",
              "    fill: var(--fill-color);\n",
              "    height: 32px;\n",
              "    padding: 0;\n",
              "    width: 32px;\n",
              "  }\n",
              "\n",
              "  .colab-df-quickchart:hover {\n",
              "    background-color: var(--hover-bg-color);\n",
              "    box-shadow: 0 1px 2px rgba(60, 64, 67, 0.3), 0 1px 3px 1px rgba(60, 64, 67, 0.15);\n",
              "    fill: var(--button-hover-fill-color);\n",
              "  }\n",
              "\n",
              "  .colab-df-quickchart-complete:disabled,\n",
              "  .colab-df-quickchart-complete:disabled:hover {\n",
              "    background-color: var(--disabled-bg-color);\n",
              "    fill: var(--disabled-fill-color);\n",
              "    box-shadow: none;\n",
              "  }\n",
              "\n",
              "  .colab-df-spinner {\n",
              "    border: 2px solid var(--fill-color);\n",
              "    border-color: transparent;\n",
              "    border-bottom-color: var(--fill-color);\n",
              "    animation:\n",
              "      spin 1s steps(1) infinite;\n",
              "  }\n",
              "\n",
              "  @keyframes spin {\n",
              "    0% {\n",
              "      border-color: transparent;\n",
              "      border-bottom-color: var(--fill-color);\n",
              "      border-left-color: var(--fill-color);\n",
              "    }\n",
              "    20% {\n",
              "      border-color: transparent;\n",
              "      border-left-color: var(--fill-color);\n",
              "      border-top-color: var(--fill-color);\n",
              "    }\n",
              "    30% {\n",
              "      border-color: transparent;\n",
              "      border-left-color: var(--fill-color);\n",
              "      border-top-color: var(--fill-color);\n",
              "      border-right-color: var(--fill-color);\n",
              "    }\n",
              "    40% {\n",
              "      border-color: transparent;\n",
              "      border-right-color: var(--fill-color);\n",
              "      border-top-color: var(--fill-color);\n",
              "    }\n",
              "    60% {\n",
              "      border-color: transparent;\n",
              "      border-right-color: var(--fill-color);\n",
              "    }\n",
              "    80% {\n",
              "      border-color: transparent;\n",
              "      border-right-color: var(--fill-color);\n",
              "      border-bottom-color: var(--fill-color);\n",
              "    }\n",
              "    90% {\n",
              "      border-color: transparent;\n",
              "      border-bottom-color: var(--fill-color);\n",
              "    }\n",
              "  }\n",
              "</style>\n",
              "\n",
              "  <script>\n",
              "    async function quickchart(key) {\n",
              "      const quickchartButtonEl =\n",
              "        document.querySelector('#' + key + ' button');\n",
              "      quickchartButtonEl.disabled = true;  // To prevent multiple clicks.\n",
              "      quickchartButtonEl.classList.add('colab-df-spinner');\n",
              "      try {\n",
              "        const charts = await google.colab.kernel.invokeFunction(\n",
              "            'suggestCharts', [key], {});\n",
              "      } catch (error) {\n",
              "        console.error('Error during call to suggestCharts:', error);\n",
              "      }\n",
              "      quickchartButtonEl.classList.remove('colab-df-spinner');\n",
              "      quickchartButtonEl.classList.add('colab-df-quickchart-complete');\n",
              "    }\n",
              "    (() => {\n",
              "      let quickchartButtonEl =\n",
              "        document.querySelector('#df-1da1c78f-abec-4b5b-9134-43a093c58a49 button');\n",
              "      quickchartButtonEl.style.display =\n",
              "        google.colab.kernel.accessAllowed ? 'block' : 'none';\n",
              "    })();\n",
              "  </script>\n",
              "</div>\n",
              "\n",
              "    </div>\n",
              "  </div>\n"
            ],
            "application/vnd.google.colaboratory.intrinsic+json": {
              "type": "dataframe",
              "variable_name": "subset1",
              "summary": "{\n  \"name\": \"subset1\",\n  \"rows\": 6754,\n  \"fields\": [\n    {\n      \"column\": \"Q44\",\n      \"properties\": {\n        \"dtype\": \"number\",\n        \"std\": 2.3600690704201774,\n        \"min\": 1.0,\n        \"max\": 8.0,\n        \"num_unique_values\": 8,\n        \"samples\": [\n          6.0,\n          7.0,\n          1.0\n        ],\n        \"semantic_type\": \"\",\n        \"description\": \"\"\n      }\n    },\n    {\n      \"column\": \"Q66\",\n      \"properties\": {\n        \"dtype\": \"number\",\n        \"std\": 0.7893271466922492,\n        \"min\": 1.0,\n        \"max\": 4.0,\n        \"num_unique_values\": 4,\n        \"samples\": [\n          3.0,\n          2.0,\n          1.0\n        ],\n        \"semantic_type\": \"\",\n        \"description\": \"\"\n      }\n    },\n    {\n      \"column\": \"Q62\",\n      \"properties\": {\n        \"dtype\": \"number\",\n        \"std\": 0.9088311106920003,\n        \"min\": 1.0,\n        \"max\": 3.0,\n        \"num_unique_values\": 3,\n        \"samples\": [\n          1.0,\n          3.0,\n          2.0\n        ],\n        \"semantic_type\": \"\",\n        \"description\": \"\"\n      }\n    },\n    {\n      \"column\": \"Q41\",\n      \"properties\": {\n        \"dtype\": \"number\",\n        \"std\": 0.9624403666053147,\n        \"min\": 1.0,\n        \"max\": 7.0,\n        \"num_unique_values\": 7,\n        \"samples\": [\n          1.0,\n          2.0,\n          4.0\n        ],\n        \"semantic_type\": \"\",\n        \"description\": \"\"\n      }\n    },\n    {\n      \"column\": \"Q42\",\n      \"properties\": {\n        \"dtype\": \"number\",\n        \"std\": 0.9274695782755074,\n        \"min\": 1.0,\n        \"max\": 7.0,\n        \"num_unique_values\": 7,\n        \"samples\": [\n          1.0,\n          2.0,\n          6.0\n        ],\n        \"semantic_type\": \"\",\n        \"description\": \"\"\n      }\n    },\n    {\n      \"column\": \"Q38\",\n      \"properties\": {\n        \"dtype\": \"number\",\n        \"std\": 0.6035415956443986,\n        \"min\": 1.0,\n        \"max\": 7.0,\n        \"num_unique_values\": 7,\n        \"samples\": [\n          1.0,\n          2.0,\n          4.0\n        ],\n        \"semantic_type\": \"\",\n        \"description\": \"\"\n      }\n    },\n    {\n      \"column\": \"Q47\",\n      \"properties\": {\n        \"dtype\": \"number\",\n        \"std\": 1.1697950176582694,\n        \"min\": 1.0,\n        \"max\": 6.0,\n        \"num_unique_values\": 6,\n        \"samples\": [\n          1.0,\n          2.0,\n          4.0\n        ],\n        \"semantic_type\": \"\",\n        \"description\": \"\"\n      }\n    },\n    {\n      \"column\": \"Q48\",\n      \"properties\": {\n        \"dtype\": \"number\",\n        \"std\": 0.5496094344416189,\n        \"min\": 1.0,\n        \"max\": 6.0,\n        \"num_unique_values\": 6,\n        \"samples\": [\n          1.0,\n          4.0,\n          5.0\n        ],\n        \"semantic_type\": \"\",\n        \"description\": \"\"\n      }\n    },\n    {\n      \"column\": \"Q49\",\n      \"properties\": {\n        \"dtype\": \"number\",\n        \"std\": 0.8006659770953733,\n        \"min\": 1.0,\n        \"max\": 6.0,\n        \"num_unique_values\": 6,\n        \"samples\": [\n          1.0,\n          3.0,\n          5.0\n        ],\n        \"semantic_type\": \"\",\n        \"description\": \"\"\n      }\n    },\n    {\n      \"column\": \"Q50\",\n      \"properties\": {\n        \"dtype\": \"number\",\n        \"std\": 0.4072731788009709,\n        \"min\": 1.0,\n        \"max\": 6.0,\n        \"num_unique_values\": 6,\n        \"samples\": [\n          1.0,\n          2.0,\n          4.0\n        ],\n        \"semantic_type\": \"\",\n        \"description\": \"\"\n      }\n    },\n    {\n      \"column\": \"Q51\",\n      \"properties\": {\n        \"dtype\": \"number\",\n        \"std\": 0.47513998745912084,\n        \"min\": 1.0,\n        \"max\": 6.0,\n        \"num_unique_values\": 6,\n        \"samples\": [\n          1.0,\n          3.0,\n          5.0\n        ],\n        \"semantic_type\": \"\",\n        \"description\": \"\"\n      }\n    },\n    {\n      \"column\": \"Q52\",\n      \"properties\": {\n        \"dtype\": \"number\",\n        \"std\": 0.24920059781772763,\n        \"min\": 1.0,\n        \"max\": 6.0,\n        \"num_unique_values\": 6,\n        \"samples\": [\n          1.0,\n          3.0,\n          5.0\n        ],\n        \"semantic_type\": \"\",\n        \"description\": \"\"\n      }\n    },\n    {\n      \"column\": \"Q53\",\n      \"properties\": {\n        \"dtype\": \"number\",\n        \"std\": 0.2766271235763935,\n        \"min\": 1.0,\n        \"max\": 6.0,\n        \"num_unique_values\": 6,\n        \"samples\": [\n          1.0,\n          2.0,\n          5.0\n        ],\n        \"semantic_type\": \"\",\n        \"description\": \"\"\n      }\n    },\n    {\n      \"column\": \"Q54\",\n      \"properties\": {\n        \"dtype\": \"number\",\n        \"std\": 0.36974568721888584,\n        \"min\": 1.0,\n        \"max\": 6.0,\n        \"num_unique_values\": 6,\n        \"samples\": [\n          1.0,\n          3.0,\n          6.0\n        ],\n        \"semantic_type\": \"\",\n        \"description\": \"\"\n      }\n    },\n    {\n      \"column\": \"Q55\",\n      \"properties\": {\n        \"dtype\": \"number\",\n        \"std\": 0.29684809100135934,\n        \"min\": 1.0,\n        \"max\": 6.0,\n        \"num_unique_values\": 6,\n        \"samples\": [\n          1.0,\n          2.0,\n          5.0\n        ],\n        \"semantic_type\": \"\",\n        \"description\": \"\"\n      }\n    },\n    {\n      \"column\": \"Q56\",\n      \"properties\": {\n        \"dtype\": \"number\",\n        \"std\": 0.131274519134999,\n        \"min\": 1.0,\n        \"max\": 3.0,\n        \"num_unique_values\": 3,\n        \"samples\": [\n          1.0,\n          2.0,\n          3.0\n        ],\n        \"semantic_type\": \"\",\n        \"description\": \"\"\n      }\n    },\n    {\n      \"column\": \"Q57\",\n      \"properties\": {\n        \"dtype\": \"number\",\n        \"std\": 0.40301882806122674,\n        \"min\": 1.0,\n        \"max\": 2.0,\n        \"num_unique_values\": 2,\n        \"samples\": [\n          2.0,\n          1.0\n        ],\n        \"semantic_type\": \"\",\n        \"description\": \"\"\n      }\n    },\n    {\n      \"column\": \"year\",\n      \"properties\": {\n        \"dtype\": \"number\",\n        \"std\": 0,\n        \"min\": 2019,\n        \"max\": 2019,\n        \"num_unique_values\": 1,\n        \"samples\": [\n          2019\n        ],\n        \"semantic_type\": \"\",\n        \"description\": \"\"\n      }\n    },\n    {\n      \"column\": \"Q47_binary\",\n      \"properties\": {\n        \"dtype\": \"number\",\n        \"std\": 0,\n        \"min\": 0,\n        \"max\": 1,\n        \"num_unique_values\": 2,\n        \"samples\": [\n          1\n        ],\n        \"semantic_type\": \"\",\n        \"description\": \"\"\n      }\n    }\n  ]\n}"
            }
          },
          "metadata": {},
          "execution_count": 199
        }
      ]
    },
    {
      "cell_type": "code",
      "source": [
        "import statsmodels.api as sm\n",
        "import statsmodels.formula.api as smf"
      ],
      "metadata": {
        "id": "guuPWWnk8B9j"
      },
      "execution_count": 200,
      "outputs": []
    },
    {
      "cell_type": "code",
      "source": [
        "formula = 'Q47_binary ~ Q66 * Q41' #main effects contained\n",
        "\n",
        "model = smf.logit(formula=formula, data=subset1)\n",
        "result = model.fit()\n",
        "\n",
        "print(result.summary().as_text())"
      ],
      "metadata": {
        "colab": {
          "base_uri": "https://localhost:8080/"
        },
        "id": "nEgbj2AOiPUH",
        "outputId": "eaac2750-fe02-4bdc-a843-faad9d3cc3f2"
      },
      "execution_count": 201,
      "outputs": [
        {
          "output_type": "stream",
          "name": "stdout",
          "text": [
            "Optimization terminated successfully.\n",
            "         Current function value: 0.422291\n",
            "         Iterations 6\n",
            "                           Logit Regression Results                           \n",
            "==============================================================================\n",
            "Dep. Variable:             Q47_binary   No. Observations:                 6754\n",
            "Model:                          Logit   Df Residuals:                     6750\n",
            "Method:                           MLE   Df Model:                            3\n",
            "Date:                Tue, 25 Jun 2024   Pseudo R-squ.:                  0.1415\n",
            "Time:                        09:47:09   Log-Likelihood:                -2852.2\n",
            "converged:                       True   LL-Null:                       -3322.4\n",
            "Covariance Type:            nonrobust   LLR p-value:                1.485e-203\n",
            "==============================================================================\n",
            "                 coef    std err          z      P>|z|      [0.025      0.975]\n",
            "------------------------------------------------------------------------------\n",
            "Intercept     -2.9071      0.129    -22.558      0.000      -3.160      -2.655\n",
            "Q66           -0.0034      0.085     -0.040      0.968      -0.170       0.163\n",
            "Q41            0.7664      0.069     11.110      0.000       0.631       0.902\n",
            "Q66:Q41        0.1118      0.048      2.309      0.021       0.017       0.207\n",
            "==============================================================================\n"
          ]
        }
      ]
    },
    {
      "cell_type": "code",
      "source": [
        "subset2=data2021[['Q44','Q65','Q61','Q41','Q42','Q38','Q47','Q48','Q49','Q50','Q51','Q52','Q53', 'Q54','Q55','Q56']]\n",
        "subset2['year'] = 2021"
      ],
      "metadata": {
        "colab": {
          "base_uri": "https://localhost:8080/"
        },
        "id": "urc_vYFGl76F",
        "outputId": "2fbae5f6-5ffb-4bdc-b67b-2874800d9726"
      },
      "execution_count": 202,
      "outputs": [
        {
          "output_type": "stream",
          "name": "stderr",
          "text": [
            "<ipython-input-202-6c1ad6c58d27>:2: SettingWithCopyWarning: \n",
            "A value is trying to be set on a copy of a slice from a DataFrame.\n",
            "Try using .loc[row_indexer,col_indexer] = value instead\n",
            "\n",
            "See the caveats in the documentation: https://pandas.pydata.org/pandas-docs/stable/user_guide/indexing.html#returning-a-view-versus-a-copy\n",
            "  subset2['year'] = 2021\n"
          ]
        }
      ]
    },
    {
      "cell_type": "code",
      "source": [
        "subset2= subset2.dropna()\n",
        "subset2['Q47_binary'] = subset2['Q47'].apply(lambda x: 0 if x == 1 else 1)"
      ],
      "metadata": {
        "id": "C3JuHv6Yoq8N"
      },
      "execution_count": 203,
      "outputs": []
    },
    {
      "cell_type": "code",
      "source": [
        "formula = 'Q47_binary ~ Q65 * Q41'\n",
        "\n",
        "model = smf.logit(formula=formula, data=subset2)\n",
        "result = model.fit()\n",
        "\n",
        "print(result.summary().as_text())"
      ],
      "metadata": {
        "colab": {
          "base_uri": "https://localhost:8080/"
        },
        "id": "DCuURxapofOb",
        "outputId": "8708a995-af2e-4cc4-b455-da81a98e2ac1"
      },
      "execution_count": 204,
      "outputs": [
        {
          "output_type": "stream",
          "name": "stdout",
          "text": [
            "Optimization terminated successfully.\n",
            "         Current function value: 0.366855\n",
            "         Iterations 6\n",
            "                           Logit Regression Results                           \n",
            "==============================================================================\n",
            "Dep. Variable:             Q47_binary   No. Observations:                 7518\n",
            "Model:                          Logit   Df Residuals:                     7514\n",
            "Method:                           MLE   Df Model:                            3\n",
            "Date:                Tue, 25 Jun 2024   Pseudo R-squ.:                  0.1484\n",
            "Time:                        09:47:09   Log-Likelihood:                -2758.0\n",
            "converged:                       True   LL-Null:                       -3238.5\n",
            "Covariance Type:            nonrobust   LLR p-value:                5.198e-208\n",
            "==============================================================================\n",
            "                 coef    std err          z      P>|z|      [0.025      0.975]\n",
            "------------------------------------------------------------------------------\n",
            "Intercept     -3.1654      0.110    -28.857      0.000      -3.380      -2.950\n",
            "Q65           -0.0099      0.054     -0.185      0.853      -0.115       0.095\n",
            "Q41            0.8058      0.059     13.721      0.000       0.691       0.921\n",
            "Q65:Q41        0.0865      0.031      2.755      0.006       0.025       0.148\n",
            "==============================================================================\n"
          ]
        }
      ]
    },
    {
      "cell_type": "code",
      "source": [
        "mapping2019 = {\n",
        "    'Q66': 'student_sexual_identity',\n",
        "    'Q44': 'source_of_alcohol',\n",
        "    'Q62': 'sex_with_alcohol_drug',\n",
        "    'Q47': 'current_marijuanna_use',\n",
        "    'Q41': 'current_alcohol_use',\n",
        "    'Q42': 'current_binge_drinking',\n",
        "    'Q38': 'current_cigar_use',\n",
        "    'Q48': 'ever_synthetic_marijuana_use',\n",
        "    'Q49': 'ever_pain_meds_misuse',\n",
        "    'Q50': 'ever_cocaine_use',\n",
        "    'Q51': 'ever_inhalant_use',\n",
        "    'Q52': 'ever_heroin_use',\n",
        "    'Q53': 'ever_meth_use',\n",
        "    'Q54': 'ever_ecstasy_use',\n",
        "    'Q55': 'ever_steroid_use',\n",
        "    'Q56': 'ever_injected_illegal_drug',\n",
        "    'Q57': 'ever_illegal_drug_at_school',\n",
        "    'Q47_binary' : 'current_marijuanna_use_binary'\n",
        "}\n",
        "\n",
        "\n",
        "mapping2021 = {\n",
        "    'Q65': 'student_sexual_identity',\n",
        "    'Q44': 'source_of_alcohol',\n",
        "    'Q61': 'sex_with_alcohol_drug',\n",
        "    'Q47': 'current_marijuanna_use',\n",
        "    'Q41': 'current_alcohol_use',\n",
        "    'Q42': 'current_binge_drinking',\n",
        "    'Q38': 'current_cigar_use',\n",
        "    'Q48': 'ever_synthetic_marijuana_use',\n",
        "    'Q49': 'ever_pain_meds_misuse',\n",
        "    'Q50': 'ever_cocaine_use',\n",
        "    'Q51': 'ever_inhalant_use',\n",
        "    'Q52': 'ever_heroin_use',\n",
        "    'Q53': 'ever_meth_use',\n",
        "    'Q54': 'ever_ecstasy_use',\n",
        "    'Q55': 'ever_injected_illegal_drug',\n",
        "    'Q56': 'ever_illegal_drug_at_school',\n",
        "    'Q47_binary' : 'current_marijuanna_use_binary'\n",
        "}"
      ],
      "metadata": {
        "id": "LTHhKGI8qeSs"
      },
      "execution_count": 205,
      "outputs": []
    },
    {
      "cell_type": "code",
      "source": [
        "subset1.rename(columns=mapping2019, inplace=True)\n",
        "subset2.rename(columns=mapping2021, inplace=True)"
      ],
      "metadata": {
        "id": "DbI9a21etAgN"
      },
      "execution_count": 206,
      "outputs": []
    },
    {
      "cell_type": "code",
      "source": [
        "subset1.head()"
      ],
      "metadata": {
        "colab": {
          "base_uri": "https://localhost:8080/",
          "height": 224
        },
        "id": "AusSDrAeblIp",
        "outputId": "986e20f9-ff41-40e9-f2cb-66259f529060"
      },
      "execution_count": 207,
      "outputs": [
        {
          "output_type": "execute_result",
          "data": {
            "text/plain": [
              "   source_of_alcohol  student_sexual_identity  sex_with_alcohol_drug  \\\n",
              "0                1.0                      1.0                    1.0   \n",
              "1                1.0                      1.0                    1.0   \n",
              "2                1.0                      1.0                    1.0   \n",
              "4                1.0                      1.0                    1.0   \n",
              "5                6.0                      3.0                    1.0   \n",
              "\n",
              "   current_alcohol_use  current_binge_drinking  current_cigar_use  \\\n",
              "0                  1.0                     1.0                1.0   \n",
              "1                  1.0                     1.0                1.0   \n",
              "2                  1.0                     1.0                1.0   \n",
              "4                  1.0                     1.0                1.0   \n",
              "5                  2.0                     1.0                1.0   \n",
              "\n",
              "   current_marijuanna_use  ever_synthetic_marijuana_use  \\\n",
              "0                     1.0                           1.0   \n",
              "1                     1.0                           1.0   \n",
              "2                     1.0                           1.0   \n",
              "4                     1.0                           1.0   \n",
              "5                     1.0                           1.0   \n",
              "\n",
              "   ever_pain_meds_misuse  ever_cocaine_use  ever_inhalant_use  \\\n",
              "0                    1.0               1.0                1.0   \n",
              "1                    1.0               1.0                1.0   \n",
              "2                    1.0               1.0                1.0   \n",
              "4                    1.0               1.0                1.0   \n",
              "5                    3.0               1.0                3.0   \n",
              "\n",
              "   ever_heroin_use  ever_meth_use  ever_ecstasy_use  ever_steroid_use  \\\n",
              "0              1.0            1.0               1.0               1.0   \n",
              "1              1.0            1.0               1.0               1.0   \n",
              "2              1.0            1.0               1.0               1.0   \n",
              "4              1.0            1.0               1.0               1.0   \n",
              "5              1.0            1.0               1.0               1.0   \n",
              "\n",
              "   ever_injected_illegal_drug  ever_illegal_drug_at_school  year  \\\n",
              "0                         1.0                          1.0  2019   \n",
              "1                         1.0                          2.0  2019   \n",
              "2                         1.0                          2.0  2019   \n",
              "4                         1.0                          2.0  2019   \n",
              "5                         1.0                          1.0  2019   \n",
              "\n",
              "   current_marijuanna_use_binary  \n",
              "0                              0  \n",
              "1                              0  \n",
              "2                              0  \n",
              "4                              0  \n",
              "5                              0  "
            ],
            "text/html": [
              "\n",
              "  <div id=\"df-31ee0e0b-dcea-4139-9c56-9d02f0c3ddc6\" class=\"colab-df-container\">\n",
              "    <div>\n",
              "<style scoped>\n",
              "    .dataframe tbody tr th:only-of-type {\n",
              "        vertical-align: middle;\n",
              "    }\n",
              "\n",
              "    .dataframe tbody tr th {\n",
              "        vertical-align: top;\n",
              "    }\n",
              "\n",
              "    .dataframe thead th {\n",
              "        text-align: right;\n",
              "    }\n",
              "</style>\n",
              "<table border=\"1\" class=\"dataframe\">\n",
              "  <thead>\n",
              "    <tr style=\"text-align: right;\">\n",
              "      <th></th>\n",
              "      <th>source_of_alcohol</th>\n",
              "      <th>student_sexual_identity</th>\n",
              "      <th>sex_with_alcohol_drug</th>\n",
              "      <th>current_alcohol_use</th>\n",
              "      <th>current_binge_drinking</th>\n",
              "      <th>current_cigar_use</th>\n",
              "      <th>current_marijuanna_use</th>\n",
              "      <th>ever_synthetic_marijuana_use</th>\n",
              "      <th>ever_pain_meds_misuse</th>\n",
              "      <th>ever_cocaine_use</th>\n",
              "      <th>ever_inhalant_use</th>\n",
              "      <th>ever_heroin_use</th>\n",
              "      <th>ever_meth_use</th>\n",
              "      <th>ever_ecstasy_use</th>\n",
              "      <th>ever_steroid_use</th>\n",
              "      <th>ever_injected_illegal_drug</th>\n",
              "      <th>ever_illegal_drug_at_school</th>\n",
              "      <th>year</th>\n",
              "      <th>current_marijuanna_use_binary</th>\n",
              "    </tr>\n",
              "  </thead>\n",
              "  <tbody>\n",
              "    <tr>\n",
              "      <th>0</th>\n",
              "      <td>1.0</td>\n",
              "      <td>1.0</td>\n",
              "      <td>1.0</td>\n",
              "      <td>1.0</td>\n",
              "      <td>1.0</td>\n",
              "      <td>1.0</td>\n",
              "      <td>1.0</td>\n",
              "      <td>1.0</td>\n",
              "      <td>1.0</td>\n",
              "      <td>1.0</td>\n",
              "      <td>1.0</td>\n",
              "      <td>1.0</td>\n",
              "      <td>1.0</td>\n",
              "      <td>1.0</td>\n",
              "      <td>1.0</td>\n",
              "      <td>1.0</td>\n",
              "      <td>1.0</td>\n",
              "      <td>2019</td>\n",
              "      <td>0</td>\n",
              "    </tr>\n",
              "    <tr>\n",
              "      <th>1</th>\n",
              "      <td>1.0</td>\n",
              "      <td>1.0</td>\n",
              "      <td>1.0</td>\n",
              "      <td>1.0</td>\n",
              "      <td>1.0</td>\n",
              "      <td>1.0</td>\n",
              "      <td>1.0</td>\n",
              "      <td>1.0</td>\n",
              "      <td>1.0</td>\n",
              "      <td>1.0</td>\n",
              "      <td>1.0</td>\n",
              "      <td>1.0</td>\n",
              "      <td>1.0</td>\n",
              "      <td>1.0</td>\n",
              "      <td>1.0</td>\n",
              "      <td>1.0</td>\n",
              "      <td>2.0</td>\n",
              "      <td>2019</td>\n",
              "      <td>0</td>\n",
              "    </tr>\n",
              "    <tr>\n",
              "      <th>2</th>\n",
              "      <td>1.0</td>\n",
              "      <td>1.0</td>\n",
              "      <td>1.0</td>\n",
              "      <td>1.0</td>\n",
              "      <td>1.0</td>\n",
              "      <td>1.0</td>\n",
              "      <td>1.0</td>\n",
              "      <td>1.0</td>\n",
              "      <td>1.0</td>\n",
              "      <td>1.0</td>\n",
              "      <td>1.0</td>\n",
              "      <td>1.0</td>\n",
              "      <td>1.0</td>\n",
              "      <td>1.0</td>\n",
              "      <td>1.0</td>\n",
              "      <td>1.0</td>\n",
              "      <td>2.0</td>\n",
              "      <td>2019</td>\n",
              "      <td>0</td>\n",
              "    </tr>\n",
              "    <tr>\n",
              "      <th>4</th>\n",
              "      <td>1.0</td>\n",
              "      <td>1.0</td>\n",
              "      <td>1.0</td>\n",
              "      <td>1.0</td>\n",
              "      <td>1.0</td>\n",
              "      <td>1.0</td>\n",
              "      <td>1.0</td>\n",
              "      <td>1.0</td>\n",
              "      <td>1.0</td>\n",
              "      <td>1.0</td>\n",
              "      <td>1.0</td>\n",
              "      <td>1.0</td>\n",
              "      <td>1.0</td>\n",
              "      <td>1.0</td>\n",
              "      <td>1.0</td>\n",
              "      <td>1.0</td>\n",
              "      <td>2.0</td>\n",
              "      <td>2019</td>\n",
              "      <td>0</td>\n",
              "    </tr>\n",
              "    <tr>\n",
              "      <th>5</th>\n",
              "      <td>6.0</td>\n",
              "      <td>3.0</td>\n",
              "      <td>1.0</td>\n",
              "      <td>2.0</td>\n",
              "      <td>1.0</td>\n",
              "      <td>1.0</td>\n",
              "      <td>1.0</td>\n",
              "      <td>1.0</td>\n",
              "      <td>3.0</td>\n",
              "      <td>1.0</td>\n",
              "      <td>3.0</td>\n",
              "      <td>1.0</td>\n",
              "      <td>1.0</td>\n",
              "      <td>1.0</td>\n",
              "      <td>1.0</td>\n",
              "      <td>1.0</td>\n",
              "      <td>1.0</td>\n",
              "      <td>2019</td>\n",
              "      <td>0</td>\n",
              "    </tr>\n",
              "  </tbody>\n",
              "</table>\n",
              "</div>\n",
              "    <div class=\"colab-df-buttons\">\n",
              "\n",
              "  <div class=\"colab-df-container\">\n",
              "    <button class=\"colab-df-convert\" onclick=\"convertToInteractive('df-31ee0e0b-dcea-4139-9c56-9d02f0c3ddc6')\"\n",
              "            title=\"Convert this dataframe to an interactive table.\"\n",
              "            style=\"display:none;\">\n",
              "\n",
              "  <svg xmlns=\"http://www.w3.org/2000/svg\" height=\"24px\" viewBox=\"0 -960 960 960\">\n",
              "    <path d=\"M120-120v-720h720v720H120Zm60-500h600v-160H180v160Zm220 220h160v-160H400v160Zm0 220h160v-160H400v160ZM180-400h160v-160H180v160Zm440 0h160v-160H620v160ZM180-180h160v-160H180v160Zm440 0h160v-160H620v160Z\"/>\n",
              "  </svg>\n",
              "    </button>\n",
              "\n",
              "  <style>\n",
              "    .colab-df-container {\n",
              "      display:flex;\n",
              "      gap: 12px;\n",
              "    }\n",
              "\n",
              "    .colab-df-convert {\n",
              "      background-color: #E8F0FE;\n",
              "      border: none;\n",
              "      border-radius: 50%;\n",
              "      cursor: pointer;\n",
              "      display: none;\n",
              "      fill: #1967D2;\n",
              "      height: 32px;\n",
              "      padding: 0 0 0 0;\n",
              "      width: 32px;\n",
              "    }\n",
              "\n",
              "    .colab-df-convert:hover {\n",
              "      background-color: #E2EBFA;\n",
              "      box-shadow: 0px 1px 2px rgba(60, 64, 67, 0.3), 0px 1px 3px 1px rgba(60, 64, 67, 0.15);\n",
              "      fill: #174EA6;\n",
              "    }\n",
              "\n",
              "    .colab-df-buttons div {\n",
              "      margin-bottom: 4px;\n",
              "    }\n",
              "\n",
              "    [theme=dark] .colab-df-convert {\n",
              "      background-color: #3B4455;\n",
              "      fill: #D2E3FC;\n",
              "    }\n",
              "\n",
              "    [theme=dark] .colab-df-convert:hover {\n",
              "      background-color: #434B5C;\n",
              "      box-shadow: 0px 1px 3px 1px rgba(0, 0, 0, 0.15);\n",
              "      filter: drop-shadow(0px 1px 2px rgba(0, 0, 0, 0.3));\n",
              "      fill: #FFFFFF;\n",
              "    }\n",
              "  </style>\n",
              "\n",
              "    <script>\n",
              "      const buttonEl =\n",
              "        document.querySelector('#df-31ee0e0b-dcea-4139-9c56-9d02f0c3ddc6 button.colab-df-convert');\n",
              "      buttonEl.style.display =\n",
              "        google.colab.kernel.accessAllowed ? 'block' : 'none';\n",
              "\n",
              "      async function convertToInteractive(key) {\n",
              "        const element = document.querySelector('#df-31ee0e0b-dcea-4139-9c56-9d02f0c3ddc6');\n",
              "        const dataTable =\n",
              "          await google.colab.kernel.invokeFunction('convertToInteractive',\n",
              "                                                    [key], {});\n",
              "        if (!dataTable) return;\n",
              "\n",
              "        const docLinkHtml = 'Like what you see? Visit the ' +\n",
              "          '<a target=\"_blank\" href=https://colab.research.google.com/notebooks/data_table.ipynb>data table notebook</a>'\n",
              "          + ' to learn more about interactive tables.';\n",
              "        element.innerHTML = '';\n",
              "        dataTable['output_type'] = 'display_data';\n",
              "        await google.colab.output.renderOutput(dataTable, element);\n",
              "        const docLink = document.createElement('div');\n",
              "        docLink.innerHTML = docLinkHtml;\n",
              "        element.appendChild(docLink);\n",
              "      }\n",
              "    </script>\n",
              "  </div>\n",
              "\n",
              "\n",
              "<div id=\"df-59935928-d425-4cb2-9369-c5a10f1dd7c3\">\n",
              "  <button class=\"colab-df-quickchart\" onclick=\"quickchart('df-59935928-d425-4cb2-9369-c5a10f1dd7c3')\"\n",
              "            title=\"Suggest charts\"\n",
              "            style=\"display:none;\">\n",
              "\n",
              "<svg xmlns=\"http://www.w3.org/2000/svg\" height=\"24px\"viewBox=\"0 0 24 24\"\n",
              "     width=\"24px\">\n",
              "    <g>\n",
              "        <path d=\"M19 3H5c-1.1 0-2 .9-2 2v14c0 1.1.9 2 2 2h14c1.1 0 2-.9 2-2V5c0-1.1-.9-2-2-2zM9 17H7v-7h2v7zm4 0h-2V7h2v10zm4 0h-2v-4h2v4z\"/>\n",
              "    </g>\n",
              "</svg>\n",
              "  </button>\n",
              "\n",
              "<style>\n",
              "  .colab-df-quickchart {\n",
              "      --bg-color: #E8F0FE;\n",
              "      --fill-color: #1967D2;\n",
              "      --hover-bg-color: #E2EBFA;\n",
              "      --hover-fill-color: #174EA6;\n",
              "      --disabled-fill-color: #AAA;\n",
              "      --disabled-bg-color: #DDD;\n",
              "  }\n",
              "\n",
              "  [theme=dark] .colab-df-quickchart {\n",
              "      --bg-color: #3B4455;\n",
              "      --fill-color: #D2E3FC;\n",
              "      --hover-bg-color: #434B5C;\n",
              "      --hover-fill-color: #FFFFFF;\n",
              "      --disabled-bg-color: #3B4455;\n",
              "      --disabled-fill-color: #666;\n",
              "  }\n",
              "\n",
              "  .colab-df-quickchart {\n",
              "    background-color: var(--bg-color);\n",
              "    border: none;\n",
              "    border-radius: 50%;\n",
              "    cursor: pointer;\n",
              "    display: none;\n",
              "    fill: var(--fill-color);\n",
              "    height: 32px;\n",
              "    padding: 0;\n",
              "    width: 32px;\n",
              "  }\n",
              "\n",
              "  .colab-df-quickchart:hover {\n",
              "    background-color: var(--hover-bg-color);\n",
              "    box-shadow: 0 1px 2px rgba(60, 64, 67, 0.3), 0 1px 3px 1px rgba(60, 64, 67, 0.15);\n",
              "    fill: var(--button-hover-fill-color);\n",
              "  }\n",
              "\n",
              "  .colab-df-quickchart-complete:disabled,\n",
              "  .colab-df-quickchart-complete:disabled:hover {\n",
              "    background-color: var(--disabled-bg-color);\n",
              "    fill: var(--disabled-fill-color);\n",
              "    box-shadow: none;\n",
              "  }\n",
              "\n",
              "  .colab-df-spinner {\n",
              "    border: 2px solid var(--fill-color);\n",
              "    border-color: transparent;\n",
              "    border-bottom-color: var(--fill-color);\n",
              "    animation:\n",
              "      spin 1s steps(1) infinite;\n",
              "  }\n",
              "\n",
              "  @keyframes spin {\n",
              "    0% {\n",
              "      border-color: transparent;\n",
              "      border-bottom-color: var(--fill-color);\n",
              "      border-left-color: var(--fill-color);\n",
              "    }\n",
              "    20% {\n",
              "      border-color: transparent;\n",
              "      border-left-color: var(--fill-color);\n",
              "      border-top-color: var(--fill-color);\n",
              "    }\n",
              "    30% {\n",
              "      border-color: transparent;\n",
              "      border-left-color: var(--fill-color);\n",
              "      border-top-color: var(--fill-color);\n",
              "      border-right-color: var(--fill-color);\n",
              "    }\n",
              "    40% {\n",
              "      border-color: transparent;\n",
              "      border-right-color: var(--fill-color);\n",
              "      border-top-color: var(--fill-color);\n",
              "    }\n",
              "    60% {\n",
              "      border-color: transparent;\n",
              "      border-right-color: var(--fill-color);\n",
              "    }\n",
              "    80% {\n",
              "      border-color: transparent;\n",
              "      border-right-color: var(--fill-color);\n",
              "      border-bottom-color: var(--fill-color);\n",
              "    }\n",
              "    90% {\n",
              "      border-color: transparent;\n",
              "      border-bottom-color: var(--fill-color);\n",
              "    }\n",
              "  }\n",
              "</style>\n",
              "\n",
              "  <script>\n",
              "    async function quickchart(key) {\n",
              "      const quickchartButtonEl =\n",
              "        document.querySelector('#' + key + ' button');\n",
              "      quickchartButtonEl.disabled = true;  // To prevent multiple clicks.\n",
              "      quickchartButtonEl.classList.add('colab-df-spinner');\n",
              "      try {\n",
              "        const charts = await google.colab.kernel.invokeFunction(\n",
              "            'suggestCharts', [key], {});\n",
              "      } catch (error) {\n",
              "        console.error('Error during call to suggestCharts:', error);\n",
              "      }\n",
              "      quickchartButtonEl.classList.remove('colab-df-spinner');\n",
              "      quickchartButtonEl.classList.add('colab-df-quickchart-complete');\n",
              "    }\n",
              "    (() => {\n",
              "      let quickchartButtonEl =\n",
              "        document.querySelector('#df-59935928-d425-4cb2-9369-c5a10f1dd7c3 button');\n",
              "      quickchartButtonEl.style.display =\n",
              "        google.colab.kernel.accessAllowed ? 'block' : 'none';\n",
              "    })();\n",
              "  </script>\n",
              "</div>\n",
              "\n",
              "    </div>\n",
              "  </div>\n"
            ],
            "application/vnd.google.colaboratory.intrinsic+json": {
              "type": "dataframe",
              "variable_name": "subset1",
              "summary": "{\n  \"name\": \"subset1\",\n  \"rows\": 6754,\n  \"fields\": [\n    {\n      \"column\": \"source_of_alcohol\",\n      \"properties\": {\n        \"dtype\": \"number\",\n        \"std\": 2.3600690704201774,\n        \"min\": 1.0,\n        \"max\": 8.0,\n        \"num_unique_values\": 8,\n        \"samples\": [\n          6.0,\n          7.0,\n          1.0\n        ],\n        \"semantic_type\": \"\",\n        \"description\": \"\"\n      }\n    },\n    {\n      \"column\": \"student_sexual_identity\",\n      \"properties\": {\n        \"dtype\": \"number\",\n        \"std\": 0.7893271466922492,\n        \"min\": 1.0,\n        \"max\": 4.0,\n        \"num_unique_values\": 4,\n        \"samples\": [\n          3.0,\n          2.0,\n          1.0\n        ],\n        \"semantic_type\": \"\",\n        \"description\": \"\"\n      }\n    },\n    {\n      \"column\": \"sex_with_alcohol_drug\",\n      \"properties\": {\n        \"dtype\": \"number\",\n        \"std\": 0.9088311106920003,\n        \"min\": 1.0,\n        \"max\": 3.0,\n        \"num_unique_values\": 3,\n        \"samples\": [\n          1.0,\n          3.0,\n          2.0\n        ],\n        \"semantic_type\": \"\",\n        \"description\": \"\"\n      }\n    },\n    {\n      \"column\": \"current_alcohol_use\",\n      \"properties\": {\n        \"dtype\": \"number\",\n        \"std\": 0.9624403666053147,\n        \"min\": 1.0,\n        \"max\": 7.0,\n        \"num_unique_values\": 7,\n        \"samples\": [\n          1.0,\n          2.0,\n          4.0\n        ],\n        \"semantic_type\": \"\",\n        \"description\": \"\"\n      }\n    },\n    {\n      \"column\": \"current_binge_drinking\",\n      \"properties\": {\n        \"dtype\": \"number\",\n        \"std\": 0.9274695782755074,\n        \"min\": 1.0,\n        \"max\": 7.0,\n        \"num_unique_values\": 7,\n        \"samples\": [\n          1.0,\n          2.0,\n          6.0\n        ],\n        \"semantic_type\": \"\",\n        \"description\": \"\"\n      }\n    },\n    {\n      \"column\": \"current_cigar_use\",\n      \"properties\": {\n        \"dtype\": \"number\",\n        \"std\": 0.6035415956443986,\n        \"min\": 1.0,\n        \"max\": 7.0,\n        \"num_unique_values\": 7,\n        \"samples\": [\n          1.0,\n          2.0,\n          4.0\n        ],\n        \"semantic_type\": \"\",\n        \"description\": \"\"\n      }\n    },\n    {\n      \"column\": \"current_marijuanna_use\",\n      \"properties\": {\n        \"dtype\": \"number\",\n        \"std\": 1.1697950176582694,\n        \"min\": 1.0,\n        \"max\": 6.0,\n        \"num_unique_values\": 6,\n        \"samples\": [\n          1.0,\n          2.0,\n          4.0\n        ],\n        \"semantic_type\": \"\",\n        \"description\": \"\"\n      }\n    },\n    {\n      \"column\": \"ever_synthetic_marijuana_use\",\n      \"properties\": {\n        \"dtype\": \"number\",\n        \"std\": 0.5496094344416189,\n        \"min\": 1.0,\n        \"max\": 6.0,\n        \"num_unique_values\": 6,\n        \"samples\": [\n          1.0,\n          4.0,\n          5.0\n        ],\n        \"semantic_type\": \"\",\n        \"description\": \"\"\n      }\n    },\n    {\n      \"column\": \"ever_pain_meds_misuse\",\n      \"properties\": {\n        \"dtype\": \"number\",\n        \"std\": 0.8006659770953733,\n        \"min\": 1.0,\n        \"max\": 6.0,\n        \"num_unique_values\": 6,\n        \"samples\": [\n          1.0,\n          3.0,\n          5.0\n        ],\n        \"semantic_type\": \"\",\n        \"description\": \"\"\n      }\n    },\n    {\n      \"column\": \"ever_cocaine_use\",\n      \"properties\": {\n        \"dtype\": \"number\",\n        \"std\": 0.4072731788009709,\n        \"min\": 1.0,\n        \"max\": 6.0,\n        \"num_unique_values\": 6,\n        \"samples\": [\n          1.0,\n          2.0,\n          4.0\n        ],\n        \"semantic_type\": \"\",\n        \"description\": \"\"\n      }\n    },\n    {\n      \"column\": \"ever_inhalant_use\",\n      \"properties\": {\n        \"dtype\": \"number\",\n        \"std\": 0.47513998745912084,\n        \"min\": 1.0,\n        \"max\": 6.0,\n        \"num_unique_values\": 6,\n        \"samples\": [\n          1.0,\n          3.0,\n          5.0\n        ],\n        \"semantic_type\": \"\",\n        \"description\": \"\"\n      }\n    },\n    {\n      \"column\": \"ever_heroin_use\",\n      \"properties\": {\n        \"dtype\": \"number\",\n        \"std\": 0.24920059781772763,\n        \"min\": 1.0,\n        \"max\": 6.0,\n        \"num_unique_values\": 6,\n        \"samples\": [\n          1.0,\n          3.0,\n          5.0\n        ],\n        \"semantic_type\": \"\",\n        \"description\": \"\"\n      }\n    },\n    {\n      \"column\": \"ever_meth_use\",\n      \"properties\": {\n        \"dtype\": \"number\",\n        \"std\": 0.2766271235763935,\n        \"min\": 1.0,\n        \"max\": 6.0,\n        \"num_unique_values\": 6,\n        \"samples\": [\n          1.0,\n          2.0,\n          5.0\n        ],\n        \"semantic_type\": \"\",\n        \"description\": \"\"\n      }\n    },\n    {\n      \"column\": \"ever_ecstasy_use\",\n      \"properties\": {\n        \"dtype\": \"number\",\n        \"std\": 0.36974568721888584,\n        \"min\": 1.0,\n        \"max\": 6.0,\n        \"num_unique_values\": 6,\n        \"samples\": [\n          1.0,\n          3.0,\n          6.0\n        ],\n        \"semantic_type\": \"\",\n        \"description\": \"\"\n      }\n    },\n    {\n      \"column\": \"ever_steroid_use\",\n      \"properties\": {\n        \"dtype\": \"number\",\n        \"std\": 0.29684809100135934,\n        \"min\": 1.0,\n        \"max\": 6.0,\n        \"num_unique_values\": 6,\n        \"samples\": [\n          1.0,\n          2.0,\n          5.0\n        ],\n        \"semantic_type\": \"\",\n        \"description\": \"\"\n      }\n    },\n    {\n      \"column\": \"ever_injected_illegal_drug\",\n      \"properties\": {\n        \"dtype\": \"number\",\n        \"std\": 0.131274519134999,\n        \"min\": 1.0,\n        \"max\": 3.0,\n        \"num_unique_values\": 3,\n        \"samples\": [\n          1.0,\n          2.0,\n          3.0\n        ],\n        \"semantic_type\": \"\",\n        \"description\": \"\"\n      }\n    },\n    {\n      \"column\": \"ever_illegal_drug_at_school\",\n      \"properties\": {\n        \"dtype\": \"number\",\n        \"std\": 0.40301882806122674,\n        \"min\": 1.0,\n        \"max\": 2.0,\n        \"num_unique_values\": 2,\n        \"samples\": [\n          2.0,\n          1.0\n        ],\n        \"semantic_type\": \"\",\n        \"description\": \"\"\n      }\n    },\n    {\n      \"column\": \"year\",\n      \"properties\": {\n        \"dtype\": \"number\",\n        \"std\": 0,\n        \"min\": 2019,\n        \"max\": 2019,\n        \"num_unique_values\": 1,\n        \"samples\": [\n          2019\n        ],\n        \"semantic_type\": \"\",\n        \"description\": \"\"\n      }\n    },\n    {\n      \"column\": \"current_marijuanna_use_binary\",\n      \"properties\": {\n        \"dtype\": \"number\",\n        \"std\": 0,\n        \"min\": 0,\n        \"max\": 1,\n        \"num_unique_values\": 2,\n        \"samples\": [\n          1\n        ],\n        \"semantic_type\": \"\",\n        \"description\": \"\"\n      }\n    }\n  ]\n}"
            }
          },
          "metadata": {},
          "execution_count": 207
        }
      ]
    },
    {
      "cell_type": "code",
      "source": [
        "combined_subsets= pd.concat([subset1, subset2], ignore_index=True)\n",
        "combined_subsets['year'] = combined_subsets['year'].astype('category')\n",
        "\n",
        "combined_subsets.head()"
      ],
      "metadata": {
        "colab": {
          "base_uri": "https://localhost:8080/",
          "height": 224
        },
        "id": "9t4coYgybkss",
        "outputId": "1c162f24-22d0-4c2e-8a17-06bf4a88c820"
      },
      "execution_count": 208,
      "outputs": [
        {
          "output_type": "execute_result",
          "data": {
            "text/plain": [
              "   source_of_alcohol  student_sexual_identity  sex_with_alcohol_drug  \\\n",
              "0                1.0                      1.0                    1.0   \n",
              "1                1.0                      1.0                    1.0   \n",
              "2                1.0                      1.0                    1.0   \n",
              "3                1.0                      1.0                    1.0   \n",
              "4                6.0                      3.0                    1.0   \n",
              "\n",
              "   current_alcohol_use  current_binge_drinking  current_cigar_use  \\\n",
              "0                  1.0                     1.0                1.0   \n",
              "1                  1.0                     1.0                1.0   \n",
              "2                  1.0                     1.0                1.0   \n",
              "3                  1.0                     1.0                1.0   \n",
              "4                  2.0                     1.0                1.0   \n",
              "\n",
              "   current_marijuanna_use  ever_synthetic_marijuana_use  \\\n",
              "0                     1.0                           1.0   \n",
              "1                     1.0                           1.0   \n",
              "2                     1.0                           1.0   \n",
              "3                     1.0                           1.0   \n",
              "4                     1.0                           1.0   \n",
              "\n",
              "   ever_pain_meds_misuse  ever_cocaine_use  ever_inhalant_use  \\\n",
              "0                    1.0               1.0                1.0   \n",
              "1                    1.0               1.0                1.0   \n",
              "2                    1.0               1.0                1.0   \n",
              "3                    1.0               1.0                1.0   \n",
              "4                    3.0               1.0                3.0   \n",
              "\n",
              "   ever_heroin_use  ever_meth_use  ever_ecstasy_use  ever_steroid_use  \\\n",
              "0              1.0            1.0               1.0               1.0   \n",
              "1              1.0            1.0               1.0               1.0   \n",
              "2              1.0            1.0               1.0               1.0   \n",
              "3              1.0            1.0               1.0               1.0   \n",
              "4              1.0            1.0               1.0               1.0   \n",
              "\n",
              "   ever_injected_illegal_drug  ever_illegal_drug_at_school  year  \\\n",
              "0                         1.0                          1.0  2019   \n",
              "1                         1.0                          2.0  2019   \n",
              "2                         1.0                          2.0  2019   \n",
              "3                         1.0                          2.0  2019   \n",
              "4                         1.0                          1.0  2019   \n",
              "\n",
              "   current_marijuanna_use_binary  \n",
              "0                              0  \n",
              "1                              0  \n",
              "2                              0  \n",
              "3                              0  \n",
              "4                              0  "
            ],
            "text/html": [
              "\n",
              "  <div id=\"df-72a55a2c-c2f3-4e97-bbe3-ab7f533270ab\" class=\"colab-df-container\">\n",
              "    <div>\n",
              "<style scoped>\n",
              "    .dataframe tbody tr th:only-of-type {\n",
              "        vertical-align: middle;\n",
              "    }\n",
              "\n",
              "    .dataframe tbody tr th {\n",
              "        vertical-align: top;\n",
              "    }\n",
              "\n",
              "    .dataframe thead th {\n",
              "        text-align: right;\n",
              "    }\n",
              "</style>\n",
              "<table border=\"1\" class=\"dataframe\">\n",
              "  <thead>\n",
              "    <tr style=\"text-align: right;\">\n",
              "      <th></th>\n",
              "      <th>source_of_alcohol</th>\n",
              "      <th>student_sexual_identity</th>\n",
              "      <th>sex_with_alcohol_drug</th>\n",
              "      <th>current_alcohol_use</th>\n",
              "      <th>current_binge_drinking</th>\n",
              "      <th>current_cigar_use</th>\n",
              "      <th>current_marijuanna_use</th>\n",
              "      <th>ever_synthetic_marijuana_use</th>\n",
              "      <th>ever_pain_meds_misuse</th>\n",
              "      <th>ever_cocaine_use</th>\n",
              "      <th>ever_inhalant_use</th>\n",
              "      <th>ever_heroin_use</th>\n",
              "      <th>ever_meth_use</th>\n",
              "      <th>ever_ecstasy_use</th>\n",
              "      <th>ever_steroid_use</th>\n",
              "      <th>ever_injected_illegal_drug</th>\n",
              "      <th>ever_illegal_drug_at_school</th>\n",
              "      <th>year</th>\n",
              "      <th>current_marijuanna_use_binary</th>\n",
              "    </tr>\n",
              "  </thead>\n",
              "  <tbody>\n",
              "    <tr>\n",
              "      <th>0</th>\n",
              "      <td>1.0</td>\n",
              "      <td>1.0</td>\n",
              "      <td>1.0</td>\n",
              "      <td>1.0</td>\n",
              "      <td>1.0</td>\n",
              "      <td>1.0</td>\n",
              "      <td>1.0</td>\n",
              "      <td>1.0</td>\n",
              "      <td>1.0</td>\n",
              "      <td>1.0</td>\n",
              "      <td>1.0</td>\n",
              "      <td>1.0</td>\n",
              "      <td>1.0</td>\n",
              "      <td>1.0</td>\n",
              "      <td>1.0</td>\n",
              "      <td>1.0</td>\n",
              "      <td>1.0</td>\n",
              "      <td>2019</td>\n",
              "      <td>0</td>\n",
              "    </tr>\n",
              "    <tr>\n",
              "      <th>1</th>\n",
              "      <td>1.0</td>\n",
              "      <td>1.0</td>\n",
              "      <td>1.0</td>\n",
              "      <td>1.0</td>\n",
              "      <td>1.0</td>\n",
              "      <td>1.0</td>\n",
              "      <td>1.0</td>\n",
              "      <td>1.0</td>\n",
              "      <td>1.0</td>\n",
              "      <td>1.0</td>\n",
              "      <td>1.0</td>\n",
              "      <td>1.0</td>\n",
              "      <td>1.0</td>\n",
              "      <td>1.0</td>\n",
              "      <td>1.0</td>\n",
              "      <td>1.0</td>\n",
              "      <td>2.0</td>\n",
              "      <td>2019</td>\n",
              "      <td>0</td>\n",
              "    </tr>\n",
              "    <tr>\n",
              "      <th>2</th>\n",
              "      <td>1.0</td>\n",
              "      <td>1.0</td>\n",
              "      <td>1.0</td>\n",
              "      <td>1.0</td>\n",
              "      <td>1.0</td>\n",
              "      <td>1.0</td>\n",
              "      <td>1.0</td>\n",
              "      <td>1.0</td>\n",
              "      <td>1.0</td>\n",
              "      <td>1.0</td>\n",
              "      <td>1.0</td>\n",
              "      <td>1.0</td>\n",
              "      <td>1.0</td>\n",
              "      <td>1.0</td>\n",
              "      <td>1.0</td>\n",
              "      <td>1.0</td>\n",
              "      <td>2.0</td>\n",
              "      <td>2019</td>\n",
              "      <td>0</td>\n",
              "    </tr>\n",
              "    <tr>\n",
              "      <th>3</th>\n",
              "      <td>1.0</td>\n",
              "      <td>1.0</td>\n",
              "      <td>1.0</td>\n",
              "      <td>1.0</td>\n",
              "      <td>1.0</td>\n",
              "      <td>1.0</td>\n",
              "      <td>1.0</td>\n",
              "      <td>1.0</td>\n",
              "      <td>1.0</td>\n",
              "      <td>1.0</td>\n",
              "      <td>1.0</td>\n",
              "      <td>1.0</td>\n",
              "      <td>1.0</td>\n",
              "      <td>1.0</td>\n",
              "      <td>1.0</td>\n",
              "      <td>1.0</td>\n",
              "      <td>2.0</td>\n",
              "      <td>2019</td>\n",
              "      <td>0</td>\n",
              "    </tr>\n",
              "    <tr>\n",
              "      <th>4</th>\n",
              "      <td>6.0</td>\n",
              "      <td>3.0</td>\n",
              "      <td>1.0</td>\n",
              "      <td>2.0</td>\n",
              "      <td>1.0</td>\n",
              "      <td>1.0</td>\n",
              "      <td>1.0</td>\n",
              "      <td>1.0</td>\n",
              "      <td>3.0</td>\n",
              "      <td>1.0</td>\n",
              "      <td>3.0</td>\n",
              "      <td>1.0</td>\n",
              "      <td>1.0</td>\n",
              "      <td>1.0</td>\n",
              "      <td>1.0</td>\n",
              "      <td>1.0</td>\n",
              "      <td>1.0</td>\n",
              "      <td>2019</td>\n",
              "      <td>0</td>\n",
              "    </tr>\n",
              "  </tbody>\n",
              "</table>\n",
              "</div>\n",
              "    <div class=\"colab-df-buttons\">\n",
              "\n",
              "  <div class=\"colab-df-container\">\n",
              "    <button class=\"colab-df-convert\" onclick=\"convertToInteractive('df-72a55a2c-c2f3-4e97-bbe3-ab7f533270ab')\"\n",
              "            title=\"Convert this dataframe to an interactive table.\"\n",
              "            style=\"display:none;\">\n",
              "\n",
              "  <svg xmlns=\"http://www.w3.org/2000/svg\" height=\"24px\" viewBox=\"0 -960 960 960\">\n",
              "    <path d=\"M120-120v-720h720v720H120Zm60-500h600v-160H180v160Zm220 220h160v-160H400v160Zm0 220h160v-160H400v160ZM180-400h160v-160H180v160Zm440 0h160v-160H620v160ZM180-180h160v-160H180v160Zm440 0h160v-160H620v160Z\"/>\n",
              "  </svg>\n",
              "    </button>\n",
              "\n",
              "  <style>\n",
              "    .colab-df-container {\n",
              "      display:flex;\n",
              "      gap: 12px;\n",
              "    }\n",
              "\n",
              "    .colab-df-convert {\n",
              "      background-color: #E8F0FE;\n",
              "      border: none;\n",
              "      border-radius: 50%;\n",
              "      cursor: pointer;\n",
              "      display: none;\n",
              "      fill: #1967D2;\n",
              "      height: 32px;\n",
              "      padding: 0 0 0 0;\n",
              "      width: 32px;\n",
              "    }\n",
              "\n",
              "    .colab-df-convert:hover {\n",
              "      background-color: #E2EBFA;\n",
              "      box-shadow: 0px 1px 2px rgba(60, 64, 67, 0.3), 0px 1px 3px 1px rgba(60, 64, 67, 0.15);\n",
              "      fill: #174EA6;\n",
              "    }\n",
              "\n",
              "    .colab-df-buttons div {\n",
              "      margin-bottom: 4px;\n",
              "    }\n",
              "\n",
              "    [theme=dark] .colab-df-convert {\n",
              "      background-color: #3B4455;\n",
              "      fill: #D2E3FC;\n",
              "    }\n",
              "\n",
              "    [theme=dark] .colab-df-convert:hover {\n",
              "      background-color: #434B5C;\n",
              "      box-shadow: 0px 1px 3px 1px rgba(0, 0, 0, 0.15);\n",
              "      filter: drop-shadow(0px 1px 2px rgba(0, 0, 0, 0.3));\n",
              "      fill: #FFFFFF;\n",
              "    }\n",
              "  </style>\n",
              "\n",
              "    <script>\n",
              "      const buttonEl =\n",
              "        document.querySelector('#df-72a55a2c-c2f3-4e97-bbe3-ab7f533270ab button.colab-df-convert');\n",
              "      buttonEl.style.display =\n",
              "        google.colab.kernel.accessAllowed ? 'block' : 'none';\n",
              "\n",
              "      async function convertToInteractive(key) {\n",
              "        const element = document.querySelector('#df-72a55a2c-c2f3-4e97-bbe3-ab7f533270ab');\n",
              "        const dataTable =\n",
              "          await google.colab.kernel.invokeFunction('convertToInteractive',\n",
              "                                                    [key], {});\n",
              "        if (!dataTable) return;\n",
              "\n",
              "        const docLinkHtml = 'Like what you see? Visit the ' +\n",
              "          '<a target=\"_blank\" href=https://colab.research.google.com/notebooks/data_table.ipynb>data table notebook</a>'\n",
              "          + ' to learn more about interactive tables.';\n",
              "        element.innerHTML = '';\n",
              "        dataTable['output_type'] = 'display_data';\n",
              "        await google.colab.output.renderOutput(dataTable, element);\n",
              "        const docLink = document.createElement('div');\n",
              "        docLink.innerHTML = docLinkHtml;\n",
              "        element.appendChild(docLink);\n",
              "      }\n",
              "    </script>\n",
              "  </div>\n",
              "\n",
              "\n",
              "<div id=\"df-ed9e12d6-69a8-4aa1-9998-58622ae3dfcd\">\n",
              "  <button class=\"colab-df-quickchart\" onclick=\"quickchart('df-ed9e12d6-69a8-4aa1-9998-58622ae3dfcd')\"\n",
              "            title=\"Suggest charts\"\n",
              "            style=\"display:none;\">\n",
              "\n",
              "<svg xmlns=\"http://www.w3.org/2000/svg\" height=\"24px\"viewBox=\"0 0 24 24\"\n",
              "     width=\"24px\">\n",
              "    <g>\n",
              "        <path d=\"M19 3H5c-1.1 0-2 .9-2 2v14c0 1.1.9 2 2 2h14c1.1 0 2-.9 2-2V5c0-1.1-.9-2-2-2zM9 17H7v-7h2v7zm4 0h-2V7h2v10zm4 0h-2v-4h2v4z\"/>\n",
              "    </g>\n",
              "</svg>\n",
              "  </button>\n",
              "\n",
              "<style>\n",
              "  .colab-df-quickchart {\n",
              "      --bg-color: #E8F0FE;\n",
              "      --fill-color: #1967D2;\n",
              "      --hover-bg-color: #E2EBFA;\n",
              "      --hover-fill-color: #174EA6;\n",
              "      --disabled-fill-color: #AAA;\n",
              "      --disabled-bg-color: #DDD;\n",
              "  }\n",
              "\n",
              "  [theme=dark] .colab-df-quickchart {\n",
              "      --bg-color: #3B4455;\n",
              "      --fill-color: #D2E3FC;\n",
              "      --hover-bg-color: #434B5C;\n",
              "      --hover-fill-color: #FFFFFF;\n",
              "      --disabled-bg-color: #3B4455;\n",
              "      --disabled-fill-color: #666;\n",
              "  }\n",
              "\n",
              "  .colab-df-quickchart {\n",
              "    background-color: var(--bg-color);\n",
              "    border: none;\n",
              "    border-radius: 50%;\n",
              "    cursor: pointer;\n",
              "    display: none;\n",
              "    fill: var(--fill-color);\n",
              "    height: 32px;\n",
              "    padding: 0;\n",
              "    width: 32px;\n",
              "  }\n",
              "\n",
              "  .colab-df-quickchart:hover {\n",
              "    background-color: var(--hover-bg-color);\n",
              "    box-shadow: 0 1px 2px rgba(60, 64, 67, 0.3), 0 1px 3px 1px rgba(60, 64, 67, 0.15);\n",
              "    fill: var(--button-hover-fill-color);\n",
              "  }\n",
              "\n",
              "  .colab-df-quickchart-complete:disabled,\n",
              "  .colab-df-quickchart-complete:disabled:hover {\n",
              "    background-color: var(--disabled-bg-color);\n",
              "    fill: var(--disabled-fill-color);\n",
              "    box-shadow: none;\n",
              "  }\n",
              "\n",
              "  .colab-df-spinner {\n",
              "    border: 2px solid var(--fill-color);\n",
              "    border-color: transparent;\n",
              "    border-bottom-color: var(--fill-color);\n",
              "    animation:\n",
              "      spin 1s steps(1) infinite;\n",
              "  }\n",
              "\n",
              "  @keyframes spin {\n",
              "    0% {\n",
              "      border-color: transparent;\n",
              "      border-bottom-color: var(--fill-color);\n",
              "      border-left-color: var(--fill-color);\n",
              "    }\n",
              "    20% {\n",
              "      border-color: transparent;\n",
              "      border-left-color: var(--fill-color);\n",
              "      border-top-color: var(--fill-color);\n",
              "    }\n",
              "    30% {\n",
              "      border-color: transparent;\n",
              "      border-left-color: var(--fill-color);\n",
              "      border-top-color: var(--fill-color);\n",
              "      border-right-color: var(--fill-color);\n",
              "    }\n",
              "    40% {\n",
              "      border-color: transparent;\n",
              "      border-right-color: var(--fill-color);\n",
              "      border-top-color: var(--fill-color);\n",
              "    }\n",
              "    60% {\n",
              "      border-color: transparent;\n",
              "      border-right-color: var(--fill-color);\n",
              "    }\n",
              "    80% {\n",
              "      border-color: transparent;\n",
              "      border-right-color: var(--fill-color);\n",
              "      border-bottom-color: var(--fill-color);\n",
              "    }\n",
              "    90% {\n",
              "      border-color: transparent;\n",
              "      border-bottom-color: var(--fill-color);\n",
              "    }\n",
              "  }\n",
              "</style>\n",
              "\n",
              "  <script>\n",
              "    async function quickchart(key) {\n",
              "      const quickchartButtonEl =\n",
              "        document.querySelector('#' + key + ' button');\n",
              "      quickchartButtonEl.disabled = true;  // To prevent multiple clicks.\n",
              "      quickchartButtonEl.classList.add('colab-df-spinner');\n",
              "      try {\n",
              "        const charts = await google.colab.kernel.invokeFunction(\n",
              "            'suggestCharts', [key], {});\n",
              "      } catch (error) {\n",
              "        console.error('Error during call to suggestCharts:', error);\n",
              "      }\n",
              "      quickchartButtonEl.classList.remove('colab-df-spinner');\n",
              "      quickchartButtonEl.classList.add('colab-df-quickchart-complete');\n",
              "    }\n",
              "    (() => {\n",
              "      let quickchartButtonEl =\n",
              "        document.querySelector('#df-ed9e12d6-69a8-4aa1-9998-58622ae3dfcd button');\n",
              "      quickchartButtonEl.style.display =\n",
              "        google.colab.kernel.accessAllowed ? 'block' : 'none';\n",
              "    })();\n",
              "  </script>\n",
              "</div>\n",
              "\n",
              "    </div>\n",
              "  </div>\n"
            ],
            "application/vnd.google.colaboratory.intrinsic+json": {
              "type": "dataframe",
              "variable_name": "combined_subsets",
              "summary": "{\n  \"name\": \"combined_subsets\",\n  \"rows\": 14272,\n  \"fields\": [\n    {\n      \"column\": \"source_of_alcohol\",\n      \"properties\": {\n        \"dtype\": \"number\",\n        \"std\": 2.280502051956977,\n        \"min\": 1.0,\n        \"max\": 8.0,\n        \"num_unique_values\": 8,\n        \"samples\": [\n          6.0,\n          7.0,\n          1.0\n        ],\n        \"semantic_type\": \"\",\n        \"description\": \"\"\n      }\n    },\n    {\n      \"column\": \"student_sexual_identity\",\n      \"properties\": {\n        \"dtype\": \"number\",\n        \"std\": 1.0718998250661413,\n        \"min\": 1.0,\n        \"max\": 6.0,\n        \"num_unique_values\": 6,\n        \"samples\": [\n          1.0,\n          3.0,\n          6.0\n        ],\n        \"semantic_type\": \"\",\n        \"description\": \"\"\n      }\n    },\n    {\n      \"column\": \"sex_with_alcohol_drug\",\n      \"properties\": {\n        \"dtype\": \"number\",\n        \"std\": 0.8915711959268944,\n        \"min\": 1.0,\n        \"max\": 3.0,\n        \"num_unique_values\": 3,\n        \"samples\": [\n          1.0,\n          3.0,\n          2.0\n        ],\n        \"semantic_type\": \"\",\n        \"description\": \"\"\n      }\n    },\n    {\n      \"column\": \"current_alcohol_use\",\n      \"properties\": {\n        \"dtype\": \"number\",\n        \"std\": 0.9335640924058013,\n        \"min\": 1.0,\n        \"max\": 7.0,\n        \"num_unique_values\": 7,\n        \"samples\": [\n          1.0,\n          2.0,\n          4.0\n        ],\n        \"semantic_type\": \"\",\n        \"description\": \"\"\n      }\n    },\n    {\n      \"column\": \"current_binge_drinking\",\n      \"properties\": {\n        \"dtype\": \"number\",\n        \"std\": 0.8946160968637621,\n        \"min\": 1.0,\n        \"max\": 7.0,\n        \"num_unique_values\": 7,\n        \"samples\": [\n          1.0,\n          2.0,\n          6.0\n        ],\n        \"semantic_type\": \"\",\n        \"description\": \"\"\n      }\n    },\n    {\n      \"column\": \"current_cigar_use\",\n      \"properties\": {\n        \"dtype\": \"number\",\n        \"std\": 0.555100348355369,\n        \"min\": 1.0,\n        \"max\": 7.0,\n        \"num_unique_values\": 7,\n        \"samples\": [\n          1.0,\n          2.0,\n          4.0\n        ],\n        \"semantic_type\": \"\",\n        \"description\": \"\"\n      }\n    },\n    {\n      \"column\": \"current_marijuanna_use\",\n      \"properties\": {\n        \"dtype\": \"number\",\n        \"std\": 1.1672660294540091,\n        \"min\": 1.0,\n        \"max\": 6.0,\n        \"num_unique_values\": 6,\n        \"samples\": [\n          1.0,\n          2.0,\n          4.0\n        ],\n        \"semantic_type\": \"\",\n        \"description\": \"\"\n      }\n    },\n    {\n      \"column\": \"ever_synthetic_marijuana_use\",\n      \"properties\": {\n        \"dtype\": \"number\",\n        \"std\": 0.6122331659368773,\n        \"min\": 1.0,\n        \"max\": 6.0,\n        \"num_unique_values\": 6,\n        \"samples\": [\n          1.0,\n          4.0,\n          5.0\n        ],\n        \"semantic_type\": \"\",\n        \"description\": \"\"\n      }\n    },\n    {\n      \"column\": \"ever_pain_meds_misuse\",\n      \"properties\": {\n        \"dtype\": \"number\",\n        \"std\": 0.8101209692782988,\n        \"min\": 1.0,\n        \"max\": 6.0,\n        \"num_unique_values\": 6,\n        \"samples\": [\n          1.0,\n          3.0,\n          5.0\n        ],\n        \"semantic_type\": \"\",\n        \"description\": \"\"\n      }\n    },\n    {\n      \"column\": \"ever_cocaine_use\",\n      \"properties\": {\n        \"dtype\": \"number\",\n        \"std\": 0.3933252214648146,\n        \"min\": 1.0,\n        \"max\": 6.0,\n        \"num_unique_values\": 6,\n        \"samples\": [\n          1.0,\n          2.0,\n          4.0\n        ],\n        \"semantic_type\": \"\",\n        \"description\": \"\"\n      }\n    },\n    {\n      \"column\": \"ever_inhalant_use\",\n      \"properties\": {\n        \"dtype\": \"number\",\n        \"std\": 0.5445707834313703,\n        \"min\": 1.0,\n        \"max\": 6.0,\n        \"num_unique_values\": 6,\n        \"samples\": [\n          1.0,\n          3.0,\n          5.0\n        ],\n        \"semantic_type\": \"\",\n        \"description\": \"\"\n      }\n    },\n    {\n      \"column\": \"ever_heroin_use\",\n      \"properties\": {\n        \"dtype\": \"number\",\n        \"std\": 0.2748703451970868,\n        \"min\": 1.0,\n        \"max\": 6.0,\n        \"num_unique_values\": 6,\n        \"samples\": [\n          1.0,\n          3.0,\n          5.0\n        ],\n        \"semantic_type\": \"\",\n        \"description\": \"\"\n      }\n    },\n    {\n      \"column\": \"ever_meth_use\",\n      \"properties\": {\n        \"dtype\": \"number\",\n        \"std\": 0.31053707550718307,\n        \"min\": 1.0,\n        \"max\": 6.0,\n        \"num_unique_values\": 6,\n        \"samples\": [\n          1.0,\n          2.0,\n          5.0\n        ],\n        \"semantic_type\": \"\",\n        \"description\": \"\"\n      }\n    },\n    {\n      \"column\": \"ever_ecstasy_use\",\n      \"properties\": {\n        \"dtype\": \"number\",\n        \"std\": 0.3579023814235531,\n        \"min\": 1.0,\n        \"max\": 6.0,\n        \"num_unique_values\": 6,\n        \"samples\": [\n          1.0,\n          3.0,\n          6.0\n        ],\n        \"semantic_type\": \"\",\n        \"description\": \"\"\n      }\n    },\n    {\n      \"column\": \"ever_steroid_use\",\n      \"properties\": {\n        \"dtype\": \"number\",\n        \"std\": 0.29684809100135934,\n        \"min\": 1.0,\n        \"max\": 6.0,\n        \"num_unique_values\": 6,\n        \"samples\": [\n          1.0,\n          2.0,\n          5.0\n        ],\n        \"semantic_type\": \"\",\n        \"description\": \"\"\n      }\n    },\n    {\n      \"column\": \"ever_injected_illegal_drug\",\n      \"properties\": {\n        \"dtype\": \"number\",\n        \"std\": 0.13458866506958167,\n        \"min\": 1.0,\n        \"max\": 3.0,\n        \"num_unique_values\": 3,\n        \"samples\": [\n          1.0,\n          2.0,\n          3.0\n        ],\n        \"semantic_type\": \"\",\n        \"description\": \"\"\n      }\n    },\n    {\n      \"column\": \"ever_illegal_drug_at_school\",\n      \"properties\": {\n        \"dtype\": \"number\",\n        \"std\": 0.36845960578527276,\n        \"min\": 1.0,\n        \"max\": 2.0,\n        \"num_unique_values\": 2,\n        \"samples\": [\n          2.0,\n          1.0\n        ],\n        \"semantic_type\": \"\",\n        \"description\": \"\"\n      }\n    },\n    {\n      \"column\": \"year\",\n      \"properties\": {\n        \"dtype\": \"category\",\n        \"num_unique_values\": 2,\n        \"samples\": [\n          2021,\n          2019\n        ],\n        \"semantic_type\": \"\",\n        \"description\": \"\"\n      }\n    },\n    {\n      \"column\": \"current_marijuanna_use_binary\",\n      \"properties\": {\n        \"dtype\": \"number\",\n        \"std\": 0,\n        \"min\": 0,\n        \"max\": 1,\n        \"num_unique_values\": 2,\n        \"samples\": [\n          1,\n          0\n        ],\n        \"semantic_type\": \"\",\n        \"description\": \"\"\n      }\n    }\n  ]\n}"
            }
          },
          "metadata": {},
          "execution_count": 208
        }
      ]
    },
    {
      "cell_type": "code",
      "source": [
        "combined_subsets.columns"
      ],
      "metadata": {
        "colab": {
          "base_uri": "https://localhost:8080/"
        },
        "id": "3OaXHWdHZkTk",
        "outputId": "0c34c0a6-50b1-4d03-b2a0-117cf93d5eea"
      },
      "execution_count": 209,
      "outputs": [
        {
          "output_type": "execute_result",
          "data": {
            "text/plain": [
              "Index(['source_of_alcohol', 'student_sexual_identity', 'sex_with_alcohol_drug',\n",
              "       'current_alcohol_use', 'current_binge_drinking', 'current_cigar_use',\n",
              "       'current_marijuanna_use', 'ever_synthetic_marijuana_use',\n",
              "       'ever_pain_meds_misuse', 'ever_cocaine_use', 'ever_inhalant_use',\n",
              "       'ever_heroin_use', 'ever_meth_use', 'ever_ecstasy_use',\n",
              "       'ever_steroid_use', 'ever_injected_illegal_drug',\n",
              "       'ever_illegal_drug_at_school', 'year', 'current_marijuanna_use_binary'],\n",
              "      dtype='object')"
            ]
          },
          "metadata": {},
          "execution_count": 209
        }
      ]
    },
    {
      "cell_type": "code",
      "source": [
        "print([col for col in combined_subsets.columns])"
      ],
      "metadata": {
        "colab": {
          "base_uri": "https://localhost:8080/"
        },
        "id": "8-tUvpWYahwP",
        "outputId": "15fac6e3-6904-4cfd-8506-9c2e945fe168"
      },
      "execution_count": 210,
      "outputs": [
        {
          "output_type": "stream",
          "name": "stdout",
          "text": [
            "['source_of_alcohol', 'student_sexual_identity', 'sex_with_alcohol_drug', 'current_alcohol_use', 'current_binge_drinking', 'current_cigar_use', 'current_marijuanna_use', 'ever_synthetic_marijuana_use', 'ever_pain_meds_misuse', 'ever_cocaine_use', 'ever_inhalant_use', 'ever_heroin_use', 'ever_meth_use', 'ever_ecstasy_use', 'ever_steroid_use', 'ever_injected_illegal_drug', 'ever_illegal_drug_at_school', 'year', 'current_marijuanna_use_binary']\n"
          ]
        }
      ]
    },
    {
      "cell_type": "code",
      "source": [
        "#combined_subsets['sexual identity_current alcohol use'] = combined_subsets['sexual identity'] * combined_subsets['current alcohol use']\n",
        "#X = combined_subsets[['sexual identity', 'current alcohol use','sexual identity_current alcohol use']]\n",
        "#y = combined_subsets['current marijuanna use']\n",
        "#X = sm.add_constant(X)\n",
        "\n",
        "#to avoid adding columns for interaction terms to this already big df... use smf.logit formula instead?"
      ],
      "metadata": {
        "id": "mxypEq2w3_w7"
      },
      "execution_count": 211,
      "outputs": []
    },
    {
      "cell_type": "markdown",
      "source": [
        "## marijuanna (binary or ordinal) and alcohol use co-ocurrence, with sexual identity and 19/21 year effect"
      ],
      "metadata": {
        "id": "rHThTTspgIqU"
      }
    },
    {
      "cell_type": "code",
      "source": [
        "simple_formula = 'current_marijuanna_use_binary ~ current_alcohol_use + student_sexual_identity + C(year)'\n",
        "simple_model = smf.logit(formula=simple_formula, data=combined_subsets)\n",
        "simple_result = simple_model.fit()\n",
        "print(simple_result.summary())"
      ],
      "metadata": {
        "colab": {
          "base_uri": "https://localhost:8080/"
        },
        "id": "xqnEFEiKbBzT",
        "outputId": "3474ee80-350a-47e8-9981-66e6da3ce910"
      },
      "execution_count": 212,
      "outputs": [
        {
          "output_type": "stream",
          "name": "stdout",
          "text": [
            "Optimization terminated successfully.\n",
            "         Current function value: 0.393636\n",
            "         Iterations 6\n",
            "                                 Logit Regression Results                                \n",
            "=========================================================================================\n",
            "Dep. Variable:     current_marijuanna_use_binary   No. Observations:                14272\n",
            "Model:                                     Logit   Df Residuals:                    14268\n",
            "Method:                                      MLE   Df Model:                            3\n",
            "Date:                           Tue, 25 Jun 2024   Pseudo R-squ.:                  0.1462\n",
            "Time:                                   09:47:10   Log-Likelihood:                -5618.0\n",
            "converged:                                  True   LL-Null:                       -6580.0\n",
            "Covariance Type:                       nonrobust   LLR p-value:                     0.000\n",
            "===========================================================================================\n",
            "                              coef    std err          z      P>|z|      [0.025      0.975]\n",
            "-------------------------------------------------------------------------------------------\n",
            "Intercept                  -3.1085      0.062    -50.513      0.000      -3.229      -2.988\n",
            "C(year)[T.2021]            -0.2630      0.050     -5.309      0.000      -0.360      -0.166\n",
            "current_alcohol_use         0.9248      0.024     38.406      0.000       0.878       0.972\n",
            "student_sexual_identity     0.1337      0.022      6.137      0.000       0.091       0.176\n",
            "===========================================================================================\n"
          ]
        }
      ]
    },
    {
      "cell_type": "code",
      "source": [
        "formula = 'current_marijuanna_use_binary ~ current_alcohol_use * student_sexual_identity + C(year)'\n",
        "\n",
        "model = smf.logit(formula=formula, data=combined_subsets)\n",
        "result = model.fit()\n",
        "\n",
        "print(result.summary())"
      ],
      "metadata": {
        "id": "ZJuUUiUX4B1h",
        "colab": {
          "base_uri": "https://localhost:8080/"
        },
        "outputId": "a1e15fe3-19a7-4117-e99f-0f21699a9274"
      },
      "execution_count": 213,
      "outputs": [
        {
          "output_type": "stream",
          "name": "stdout",
          "text": [
            "Optimization terminated successfully.\n",
            "         Current function value: 0.393126\n",
            "         Iterations 6\n",
            "                                 Logit Regression Results                                \n",
            "=========================================================================================\n",
            "Dep. Variable:     current_marijuanna_use_binary   No. Observations:                14272\n",
            "Model:                                     Logit   Df Residuals:                    14267\n",
            "Method:                                      MLE   Df Model:                            4\n",
            "Date:                           Tue, 25 Jun 2024   Pseudo R-squ.:                  0.1473\n",
            "Time:                                   09:47:10   Log-Likelihood:                -5610.7\n",
            "converged:                                  True   LL-Null:                       -6580.0\n",
            "Covariance Type:                       nonrobust   LLR p-value:                     0.000\n",
            "===============================================================================================================\n",
            "                                                  coef    std err          z      P>|z|      [0.025      0.975]\n",
            "---------------------------------------------------------------------------------------------------------------\n",
            "Intercept                                      -2.9002      0.083    -35.128      0.000      -3.062      -2.738\n",
            "C(year)[T.2021]                                -0.2625      0.050     -5.303      0.000      -0.360      -0.166\n",
            "current_alcohol_use                             0.7889      0.043     18.234      0.000       0.704       0.874\n",
            "student_sexual_identity                        -0.0103      0.045     -0.228      0.820      -0.098       0.078\n",
            "current_alcohol_use:student_sexual_identity     0.0959      0.026      3.662      0.000       0.045       0.147\n",
            "===============================================================================================================\n"
          ]
        }
      ]
    },
    {
      "cell_type": "code",
      "source": [
        "formula2 = formula = 'current_marijuanna_use_binary ~ current_alcohol_use * student_sexual_identity + C(year) * student_sexual_identity'\n",
        "\n",
        "model = smf.logit(formula=formula2, data=combined_subsets)\n",
        "result = model.fit()\n",
        "\n",
        "print(result.summary())"
      ],
      "metadata": {
        "colab": {
          "base_uri": "https://localhost:8080/"
        },
        "id": "UMAiEAYXc0-j",
        "outputId": "a2c573ce-977a-45d4-836c-99da7a6f59da"
      },
      "execution_count": 214,
      "outputs": [
        {
          "output_type": "stream",
          "name": "stdout",
          "text": [
            "Optimization terminated successfully.\n",
            "         Current function value: 0.393096\n",
            "         Iterations 6\n",
            "                                 Logit Regression Results                                \n",
            "=========================================================================================\n",
            "Dep. Variable:     current_marijuanna_use_binary   No. Observations:                14272\n",
            "Model:                                     Logit   Df Residuals:                    14266\n",
            "Method:                                      MLE   Df Model:                            5\n",
            "Date:                           Tue, 25 Jun 2024   Pseudo R-squ.:                  0.1474\n",
            "Time:                                   09:47:10   Log-Likelihood:                -5610.3\n",
            "converged:                                  True   LL-Null:                       -6580.0\n",
            "Covariance Type:                       nonrobust   LLR p-value:                     0.000\n",
            "===============================================================================================================\n",
            "                                                  coef    std err          z      P>|z|      [0.025      0.975]\n",
            "---------------------------------------------------------------------------------------------------------------\n",
            "Intercept                                      -2.9456      0.096    -30.632      0.000      -3.134      -2.757\n",
            "C(year)[T.2021]                                -0.1964      0.087     -2.253      0.024      -0.367      -0.026\n",
            "current_alcohol_use                             0.7907      0.043     18.273      0.000       0.706       0.876\n",
            "student_sexual_identity                         0.0233      0.058      0.405      0.686      -0.090       0.136\n",
            "C(year)[T.2021]:student_sexual_identity        -0.0452      0.049     -0.924      0.356      -0.141       0.051\n",
            "current_alcohol_use:student_sexual_identity     0.0946      0.026      3.615      0.000       0.043       0.146\n",
            "===============================================================================================================\n"
          ]
        }
      ]
    },
    {
      "cell_type": "code",
      "source": [
        "formula3= 'current_marijuanna_use_binary ~ current_alcohol_use * student_sexual_identity + C(year) * student_sexual_identity + C(year) * current_alcohol_use'\n",
        "\n",
        "model = smf.logit(formula=formula3, data=combined_subsets)\n",
        "result = model.fit()\n",
        "\n",
        "print(result.summary())"
      ],
      "metadata": {
        "colab": {
          "base_uri": "https://localhost:8080/"
        },
        "id": "C1COIKHndgEh",
        "outputId": "6403f1d3-14a4-4e84-f905-6e934db43bb9"
      },
      "execution_count": 215,
      "outputs": [
        {
          "output_type": "stream",
          "name": "stdout",
          "text": [
            "Optimization terminated successfully.\n",
            "         Current function value: 0.393096\n",
            "         Iterations 6\n",
            "                                 Logit Regression Results                                \n",
            "=========================================================================================\n",
            "Dep. Variable:     current_marijuanna_use_binary   No. Observations:                14272\n",
            "Model:                                     Logit   Df Residuals:                    14265\n",
            "Method:                                      MLE   Df Model:                            6\n",
            "Date:                           Tue, 25 Jun 2024   Pseudo R-squ.:                  0.1474\n",
            "Time:                                   09:47:10   Log-Likelihood:                -5610.3\n",
            "converged:                                  True   LL-Null:                       -6580.0\n",
            "Covariance Type:                       nonrobust   LLR p-value:                     0.000\n",
            "===============================================================================================================\n",
            "                                                  coef    std err          z      P>|z|      [0.025      0.975]\n",
            "---------------------------------------------------------------------------------------------------------------\n",
            "Intercept                                      -2.9416      0.102    -28.844      0.000      -3.141      -2.742\n",
            "C(year)[T.2021]                                -0.2065      0.121     -1.704      0.088      -0.444       0.031\n",
            "current_alcohol_use                             0.7884      0.047     16.712      0.000       0.696       0.881\n",
            "C(year)[T.2021]:current_alcohol_use             0.0059      0.049      0.120      0.904      -0.090       0.101\n",
            "student_sexual_identity                         0.0238      0.058      0.412      0.680      -0.089       0.137\n",
            "C(year)[T.2021]:student_sexual_identity        -0.0449      0.049     -0.917      0.359      -0.141       0.051\n",
            "current_alcohol_use:student_sexual_identity     0.0942      0.026      3.566      0.000       0.042       0.146\n",
            "===============================================================================================================\n"
          ]
        }
      ]
    },
    {
      "cell_type": "code",
      "source": [
        "# poisson regression\n",
        "formula = 'current_marijuanna_use ~ current_alcohol_use * student_sexual_identity + C(year) * student_sexual_identity'\n",
        "\n",
        "model = smf.poisson(formula=formula, data=combined_subsets)\n",
        "result = model.fit()\n",
        "\n",
        "print(result.summary())"
      ],
      "metadata": {
        "colab": {
          "base_uri": "https://localhost:8080/"
        },
        "id": "_QtjAYhMePrg",
        "outputId": "ac2a48fc-5cd7-444f-83d7-dca517c33f58"
      },
      "execution_count": 216,
      "outputs": [
        {
          "output_type": "stream",
          "name": "stdout",
          "text": [
            "Optimization terminated successfully.\n",
            "         Current function value: 1.341670\n",
            "         Iterations 7\n",
            "                            Poisson Regression Results                            \n",
            "==================================================================================\n",
            "Dep. Variable:     current_marijuanna_use   No. Observations:                14272\n",
            "Model:                            Poisson   Df Residuals:                    14266\n",
            "Method:                               MLE   Df Model:                            5\n",
            "Date:                    Tue, 25 Jun 2024   Pseudo R-squ.:                 0.04658\n",
            "Time:                            09:47:11   Log-Likelihood:                -19148.\n",
            "converged:                           True   LL-Null:                       -20084.\n",
            "Covariance Type:                nonrobust   LLR p-value:                     0.000\n",
            "===============================================================================================================\n",
            "                                                  coef    std err          z      P>|z|      [0.025      0.975]\n",
            "---------------------------------------------------------------------------------------------------------------\n",
            "Intercept                                      -0.0241      0.025     -0.961      0.336      -0.073       0.025\n",
            "C(year)[T.2021]                                -0.0097      0.025     -0.388      0.698      -0.059       0.039\n",
            "current_alcohol_use                             0.2329      0.009     26.146      0.000       0.215       0.250\n",
            "student_sexual_identity                         0.0110      0.015      0.738      0.461      -0.018       0.040\n",
            "C(year)[T.2021]:student_sexual_identity        -0.0063      0.014     -0.440      0.660      -0.035       0.022\n",
            "current_alcohol_use:student_sexual_identity     0.0116      0.004      2.624      0.009       0.003       0.020\n",
            "===============================================================================================================\n"
          ]
        }
      ]
    },
    {
      "cell_type": "code",
      "source": [
        "#check for overdispersion\n",
        "mean = combined_subsets['current_marijuanna_use'].mean()\n",
        "variance = combined_subsets['current_marijuanna_use'].var()\n",
        "print(f\"Mean: {mean}, Variance: {variance}\")\n",
        "\n",
        "if variance > mean:\n",
        "    print(\"Consider Negative Binomial Regression.\")\n",
        "else:\n",
        "    print(\"Poisson Regression should be fine.\")"
      ],
      "metadata": {
        "colab": {
          "base_uri": "https://localhost:8080/"
        },
        "id": "S43vUCOjfoDG",
        "outputId": "fdb667b5-f9b6-4167-c5fd-4b523e4bcf51"
      },
      "execution_count": 217,
      "outputs": [
        {
          "output_type": "stream",
          "name": "stdout",
          "text": [
            "Mean: 1.4500420403587444, Variance: 1.362509983517328\n",
            "Poisson Regression should be fine.\n"
          ]
        }
      ]
    },
    {
      "cell_type": "markdown",
      "source": [
        "## alcohol use and access, with year effect"
      ],
      "metadata": {
        "id": "Z2XBQc9Dg7-T"
      }
    },
    {
      "cell_type": "code",
      "source": [
        "import numpy as np\n",
        "# create a new column for alcohol access of those who drank\n",
        "combined_subsets['source_of_alcohol_for_drinkers'] = combined_subsets['source_of_alcohol'].apply(lambda x: np.nan if x == 1 else x)\n",
        "\n",
        "# create a alcohol use binary var. all values other than 1 are recoded to 1, and 1 is recoded to 0\n",
        "combined_subsets['drinking_frequency'] = combined_subsets['current_alcohol_use'].apply(lambda x: np.nan if x == 1 else x)"
      ],
      "metadata": {
        "id": "2zJs1BfYn6N4"
      },
      "execution_count": 218,
      "outputs": []
    },
    {
      "cell_type": "code",
      "source": [
        "missing_values = combined_subsets.isna().sum()\n",
        "print(missing_values)"
      ],
      "metadata": {
        "colab": {
          "base_uri": "https://localhost:8080/"
        },
        "id": "m6eL8ytTv0zO",
        "outputId": "b2218588-328b-41a0-9006-5b6867a6c086"
      },
      "execution_count": 219,
      "outputs": [
        {
          "output_type": "stream",
          "name": "stdout",
          "text": [
            "source_of_alcohol                     0\n",
            "student_sexual_identity               0\n",
            "sex_with_alcohol_drug                 0\n",
            "current_alcohol_use                   0\n",
            "current_binge_drinking                0\n",
            "current_cigar_use                     0\n",
            "current_marijuanna_use                0\n",
            "ever_synthetic_marijuana_use          0\n",
            "ever_pain_meds_misuse                 0\n",
            "ever_cocaine_use                      0\n",
            "ever_inhalant_use                     0\n",
            "ever_heroin_use                       0\n",
            "ever_meth_use                         0\n",
            "ever_ecstasy_use                      0\n",
            "ever_steroid_use                   7518\n",
            "ever_injected_illegal_drug            0\n",
            "ever_illegal_drug_at_school           0\n",
            "year                                  0\n",
            "current_marijuanna_use_binary         0\n",
            "source_of_alcohol_for_drinkers    10952\n",
            "drinking_frequency                10952\n",
            "dtype: int64\n"
          ]
        }
      ]
    },
    {
      "cell_type": "code",
      "source": [
        "combined_subsets = combined_subsets.drop(columns=['ever_steroid_use'])"
      ],
      "metadata": {
        "id": "QzG2Db8wwHz3"
      },
      "execution_count": 220,
      "outputs": []
    },
    {
      "cell_type": "code",
      "source": [
        "combined_subsets_drinking = combined_subsets.dropna()"
      ],
      "metadata": {
        "id": "9_QDEEWLwbbB"
      },
      "execution_count": 221,
      "outputs": []
    },
    {
      "cell_type": "code",
      "source": [
        "print(combined_subsets_drinking['source_of_alcohol_for_drinkers'].value_counts())"
      ],
      "metadata": {
        "colab": {
          "base_uri": "https://localhost:8080/"
        },
        "id": "oKpYY-1MrZgK",
        "outputId": "280bfbc5-f683-42cf-94ec-e3261763ecfd"
      },
      "execution_count": 222,
      "outputs": [
        {
          "output_type": "stream",
          "name": "stdout",
          "text": [
            "source_of_alcohol_for_drinkers\n",
            "6.0    1393\n",
            "8.0     690\n",
            "5.0     509\n",
            "7.0     480\n",
            "2.0     204\n",
            "3.0      30\n",
            "4.0      14\n",
            "Name: count, dtype: int64\n"
          ]
        }
      ]
    },
    {
      "cell_type": "code",
      "source": [
        "print(combined_subsets_drinking['year'].value_counts())"
      ],
      "metadata": {
        "colab": {
          "base_uri": "https://localhost:8080/"
        },
        "id": "VZyGH-aQuFxj",
        "outputId": "8fdeb5c3-d0d2-49f6-fefa-64743eb6942b"
      },
      "execution_count": 223,
      "outputs": [
        {
          "output_type": "stream",
          "name": "stdout",
          "text": [
            "year\n",
            "2019    1764\n",
            "2021    1556\n",
            "Name: count, dtype: int64\n"
          ]
        }
      ]
    },
    {
      "cell_type": "code",
      "source": [
        "combined_subsets_drinking['source_of_alcohol_for_drinkers'] = combined_subsets_drinking['source_of_alcohol_for_drinkers'].astype('category')"
      ],
      "metadata": {
        "colab": {
          "base_uri": "https://localhost:8080/"
        },
        "id": "RDFCTWcqrkpy",
        "outputId": "3a97395d-b117-4bb9-9fa3-782745717f69"
      },
      "execution_count": 224,
      "outputs": [
        {
          "output_type": "stream",
          "name": "stderr",
          "text": [
            "<ipython-input-224-535fe720c3d2>:1: SettingWithCopyWarning: \n",
            "A value is trying to be set on a copy of a slice from a DataFrame.\n",
            "Try using .loc[row_indexer,col_indexer] = value instead\n",
            "\n",
            "See the caveats in the documentation: https://pandas.pydata.org/pandas-docs/stable/user_guide/indexing.html#returning-a-view-versus-a-copy\n",
            "  combined_subsets_drinking['source_of_alcohol_for_drinkers'] = combined_subsets_drinking['source_of_alcohol_for_drinkers'].astype('category')\n"
          ]
        }
      ]
    },
    {
      "cell_type": "code",
      "source": [
        "formula_simple = 'drinking_frequency ~ source_of_alcohol_for_drinkers'\n",
        "model_simple = smf.poisson(formula=formula_simple, data=combined_subsets_drinking)\n",
        "result_simple = model_simple.fit()\n",
        "print(result_simple.summary())"
      ],
      "metadata": {
        "colab": {
          "base_uri": "https://localhost:8080/"
        },
        "id": "-MUeWuBcrqur",
        "outputId": "95710c4b-a666-4842-93cb-f3d98bdca650"
      },
      "execution_count": 225,
      "outputs": [
        {
          "output_type": "stream",
          "name": "stdout",
          "text": [
            "Optimization terminated successfully.\n",
            "         Current function value: 1.615866\n",
            "         Iterations 5\n",
            "                          Poisson Regression Results                          \n",
            "==============================================================================\n",
            "Dep. Variable:     drinking_frequency   No. Observations:                 3320\n",
            "Model:                        Poisson   Df Residuals:                     3313\n",
            "Method:                           MLE   Df Model:                            6\n",
            "Date:                Tue, 25 Jun 2024   Pseudo R-squ.:                 0.01043\n",
            "Time:                        09:47:11   Log-Likelihood:                -5364.7\n",
            "converged:                       True   LL-Null:                       -5421.2\n",
            "Covariance Type:            nonrobust   LLR p-value:                 4.610e-22\n",
            "=========================================================================================================\n",
            "                                            coef    std err          z      P>|z|      [0.025      0.975]\n",
            "---------------------------------------------------------------------------------------------------------\n",
            "Intercept                                 1.2912      0.037     35.173      0.000       1.219       1.363\n",
            "source_of_alcohol_for_drinkers[T.3.0]    -0.1281      0.108     -1.181      0.238      -0.341       0.085\n",
            "source_of_alcohol_for_drinkers[T.4.0]    -0.3468      0.171     -2.032      0.042      -0.681      -0.012\n",
            "source_of_alcohol_for_drinkers[T.5.0]    -0.1409      0.044     -3.176      0.001      -0.228      -0.054\n",
            "source_of_alcohol_for_drinkers[T.6.0]    -0.3682      0.040     -9.112      0.000      -0.447      -0.289\n",
            "source_of_alcohol_for_drinkers[T.7.0]    -0.2827      0.046     -6.157      0.000      -0.373      -0.193\n",
            "source_of_alcohol_for_drinkers[T.8.0]    -0.2493      0.043     -5.781      0.000      -0.334      -0.165\n",
            "=========================================================================================================\n"
          ]
        }
      ]
    },
    {
      "cell_type": "code",
      "source": [
        "print(combined_subsets_drinking['year'].unique())"
      ],
      "metadata": {
        "colab": {
          "base_uri": "https://localhost:8080/"
        },
        "id": "6rzMij6lt4dL",
        "outputId": "998f998f-028c-40c3-b4ec-1dfa5945f444"
      },
      "execution_count": 226,
      "outputs": [
        {
          "output_type": "stream",
          "name": "stdout",
          "text": [
            "[2019, 2021]\n",
            "Categories (2, int64): [2019, 2021]\n"
          ]
        }
      ]
    },
    {
      "cell_type": "code",
      "source": [
        "#singularity issue resolved. it was because 2021 had NA for steroid for all records in combined_subsets, and all 2021 got dropped\n",
        "#when I generated the _drinking subset with dropna\n",
        "combined_subsets_drinking['year'] = combined_subsets_drinking['year'].astype('category')"
      ],
      "metadata": {
        "colab": {
          "base_uri": "https://localhost:8080/"
        },
        "collapsed": true,
        "id": "BbTyt-H7ti0v",
        "outputId": "c071269f-3ceb-46d3-f25c-1314fefec51d"
      },
      "execution_count": 227,
      "outputs": [
        {
          "output_type": "stream",
          "name": "stderr",
          "text": [
            "<ipython-input-227-4cc2e4c26083>:3: SettingWithCopyWarning: \n",
            "A value is trying to be set on a copy of a slice from a DataFrame.\n",
            "Try using .loc[row_indexer,col_indexer] = value instead\n",
            "\n",
            "See the caveats in the documentation: https://pandas.pydata.org/pandas-docs/stable/user_guide/indexing.html#returning-a-view-versus-a-copy\n",
            "  combined_subsets_drinking['year'] = combined_subsets_drinking['year'].astype('category')\n"
          ]
        }
      ]
    },
    {
      "cell_type": "code",
      "source": [
        "combined_subsets_drinking['year'].unique()"
      ],
      "metadata": {
        "colab": {
          "base_uri": "https://localhost:8080/"
        },
        "id": "qPfhKJR3xi5E",
        "outputId": "960718c7-b746-4dbf-8eb4-70de3f1b3cc2"
      },
      "execution_count": 231,
      "outputs": [
        {
          "output_type": "execute_result",
          "data": {
            "text/plain": [
              "[2019, 2021]\n",
              "Categories (2, int64): [2019, 2021]"
            ]
          },
          "metadata": {},
          "execution_count": 231
        }
      ]
    },
    {
      "cell_type": "code",
      "source": [
        "combined_subsets_drinking['year'] = combined_subsets_drinking['year'].astype(str)\n",
        "\n",
        "#convert 'year' to a categorical variable and set categories\n",
        "combined_subsets_drinking['year'] = combined_subsets_drinking['year'].astype('category')\n",
        "combined_subsets_drinking['year'] = combined_subsets_drinking['year'].cat.set_categories(['2019', '2021'])\n",
        "\n",
        "#reorder and set the reference level\n",
        "combined_subsets_drinking['year'] = combined_subsets_drinking['year'].cat.reorder_categories(['2019', '2021'], ordered=True)\n",
        "\n",
        "print(combined_subsets_drinking['year'].unique())"
      ],
      "metadata": {
        "colab": {
          "base_uri": "https://localhost:8080/"
        },
        "id": "ClGnSY5-zCj0",
        "outputId": "35b36349-1c8e-4206-ecab-09795fd3a03c"
      },
      "execution_count": 232,
      "outputs": [
        {
          "output_type": "stream",
          "name": "stdout",
          "text": [
            "['2019', '2021']\n",
            "Categories (2, object): ['2019' < '2021']\n"
          ]
        },
        {
          "output_type": "stream",
          "name": "stderr",
          "text": [
            "<ipython-input-232-05419b2230f7>:1: SettingWithCopyWarning: \n",
            "A value is trying to be set on a copy of a slice from a DataFrame.\n",
            "Try using .loc[row_indexer,col_indexer] = value instead\n",
            "\n",
            "See the caveats in the documentation: https://pandas.pydata.org/pandas-docs/stable/user_guide/indexing.html#returning-a-view-versus-a-copy\n",
            "  combined_subsets_drinking['year'] = combined_subsets_drinking['year'].astype(str)\n",
            "<ipython-input-232-05419b2230f7>:4: SettingWithCopyWarning: \n",
            "A value is trying to be set on a copy of a slice from a DataFrame.\n",
            "Try using .loc[row_indexer,col_indexer] = value instead\n",
            "\n",
            "See the caveats in the documentation: https://pandas.pydata.org/pandas-docs/stable/user_guide/indexing.html#returning-a-view-versus-a-copy\n",
            "  combined_subsets_drinking['year'] = combined_subsets_drinking['year'].astype('category')\n",
            "<ipython-input-232-05419b2230f7>:5: SettingWithCopyWarning: \n",
            "A value is trying to be set on a copy of a slice from a DataFrame.\n",
            "Try using .loc[row_indexer,col_indexer] = value instead\n",
            "\n",
            "See the caveats in the documentation: https://pandas.pydata.org/pandas-docs/stable/user_guide/indexing.html#returning-a-view-versus-a-copy\n",
            "  combined_subsets_drinking['year'] = combined_subsets_drinking['year'].cat.set_categories(['2019', '2021'])\n",
            "<ipython-input-232-05419b2230f7>:8: SettingWithCopyWarning: \n",
            "A value is trying to be set on a copy of a slice from a DataFrame.\n",
            "Try using .loc[row_indexer,col_indexer] = value instead\n",
            "\n",
            "See the caveats in the documentation: https://pandas.pydata.org/pandas-docs/stable/user_guide/indexing.html#returning-a-view-versus-a-copy\n",
            "  combined_subsets_drinking['year'] = combined_subsets_drinking['year'].cat.reorder_categories(['2019', '2021'], ordered=True)\n"
          ]
        }
      ]
    },
    {
      "cell_type": "code",
      "source": [
        "formula = 'drinking_frequency ~ source_of_alcohol_for_drinkers * C(year, Treatment(reference=\"2019\"))'\n",
        "model= smf.poisson(formula=formula, data=combined_subsets_drinking)\n",
        "result= model.fit()\n",
        "print(result.summary())"
      ],
      "metadata": {
        "colab": {
          "base_uri": "https://localhost:8080/"
        },
        "id": "rDODn151f5Xk",
        "outputId": "0fa46f31-16f1-4571-d808-814a35a75d3e"
      },
      "execution_count": 233,
      "outputs": [
        {
          "output_type": "stream",
          "name": "stdout",
          "text": [
            "Optimization terminated successfully.\n",
            "         Current function value: 1.615482\n",
            "         Iterations 5\n",
            "                          Poisson Regression Results                          \n",
            "==============================================================================\n",
            "Dep. Variable:     drinking_frequency   No. Observations:                 3320\n",
            "Model:                        Poisson   Df Residuals:                     3306\n",
            "Method:                           MLE   Df Model:                           13\n",
            "Date:                Tue, 25 Jun 2024   Pseudo R-squ.:                 0.01066\n",
            "Time:                        09:49:19   Log-Likelihood:                -5363.4\n",
            "converged:                       True   LL-Null:                       -5421.2\n",
            "Covariance Type:            nonrobust   LLR p-value:                 1.465e-18\n",
            "======================================================================================================================================================\n",
            "                                                                                         coef    std err          z      P>|z|      [0.025      0.975]\n",
            "------------------------------------------------------------------------------------------------------------------------------------------------------\n",
            "Intercept                                                                              1.3243      0.051     26.187      0.000       1.225       1.423\n",
            "source_of_alcohol_for_drinkers[T.3.0]                                                 -0.1737      0.123     -1.409      0.159      -0.416       0.068\n",
            "source_of_alcohol_for_drinkers[T.4.0]                                                 -0.2829      0.248     -1.142      0.254      -0.768       0.203\n",
            "source_of_alcohol_for_drinkers[T.5.0]                                                 -0.1811      0.061     -2.976      0.003      -0.300      -0.062\n",
            "source_of_alcohol_for_drinkers[T.6.0]                                                 -0.4064      0.056     -7.311      0.000      -0.515      -0.297\n",
            "source_of_alcohol_for_drinkers[T.7.0]                                                 -0.3195      0.063     -5.062      0.000      -0.443      -0.196\n",
            "source_of_alcohol_for_drinkers[T.8.0]                                                 -0.3064      0.060     -5.101      0.000      -0.424      -0.189\n",
            "C(year, Treatment(reference=\"2019\"))[T.2021]                                          -0.0687      0.074     -0.934      0.350      -0.213       0.075\n",
            "source_of_alcohol_for_drinkers[T.3.0]:C(year, Treatment(reference=\"2019\"))[T.2021]     0.1419      0.277      0.512      0.609      -0.402       0.685\n",
            "source_of_alcohol_for_drinkers[T.4.0]:C(year, Treatment(reference=\"2019\"))[T.2021]    -0.1078      0.342     -0.315      0.753      -0.778       0.562\n",
            "source_of_alcohol_for_drinkers[T.5.0]:C(year, Treatment(reference=\"2019\"))[T.2021]     0.0843      0.089      0.948      0.343      -0.090       0.259\n",
            "source_of_alcohol_for_drinkers[T.6.0]:C(year, Treatment(reference=\"2019\"))[T.2021]     0.0798      0.081      0.985      0.324      -0.079       0.238\n",
            "source_of_alcohol_for_drinkers[T.7.0]:C(year, Treatment(reference=\"2019\"))[T.2021]     0.0767      0.092      0.834      0.405      -0.104       0.257\n",
            "source_of_alcohol_for_drinkers[T.8.0]:C(year, Treatment(reference=\"2019\"))[T.2021]     0.1161      0.086      1.345      0.179      -0.053       0.285\n",
            "======================================================================================================================================================\n"
          ]
        }
      ]
    },
    {
      "cell_type": "code",
      "source": [
        "combined_subsets_drinking['source_of_alcohol_for_drinkers'].unique()"
      ],
      "metadata": {
        "colab": {
          "base_uri": "https://localhost:8080/"
        },
        "id": "ryoikAz10erq",
        "outputId": "e29855fe-de16-481a-9f22-128604e35c93"
      },
      "execution_count": 237,
      "outputs": [
        {
          "output_type": "execute_result",
          "data": {
            "text/plain": [
              "[6.0, 8.0, 5.0, 2.0, 7.0, 3.0, 4.0]\n",
              "Categories (7, float64): [2.0, 3.0, 4.0, 5.0, 6.0, 7.0, 8.0]"
            ]
          },
          "metadata": {},
          "execution_count": 237
        }
      ]
    },
    {
      "cell_type": "code",
      "source": [
        "combined_subsets_drinking['student_sexual_identity'] = combined_subsets_drinking['student_sexual_identity'].astype(str)\n",
        "\n",
        "#convert 'year' to a categorical variable and set categories\n",
        "combined_subsets_drinking['student_sexual_identity'] = combined_subsets_drinking['student_sexual_identity'].astype('category')"
      ],
      "metadata": {
        "collapsed": true,
        "colab": {
          "base_uri": "https://localhost:8080/"
        },
        "id": "UFQmDc3MztuB",
        "outputId": "35ef961f-6d92-4727-dec6-d2575bf8338c"
      },
      "execution_count": 235,
      "outputs": [
        {
          "output_type": "stream",
          "name": "stderr",
          "text": [
            "<ipython-input-235-82b5db069d4d>:1: SettingWithCopyWarning: \n",
            "A value is trying to be set on a copy of a slice from a DataFrame.\n",
            "Try using .loc[row_indexer,col_indexer] = value instead\n",
            "\n",
            "See the caveats in the documentation: https://pandas.pydata.org/pandas-docs/stable/user_guide/indexing.html#returning-a-view-versus-a-copy\n",
            "  combined_subsets_drinking['student_sexual_identity'] = combined_subsets_drinking['student_sexual_identity'].astype(str)\n",
            "<ipython-input-235-82b5db069d4d>:4: SettingWithCopyWarning: \n",
            "A value is trying to be set on a copy of a slice from a DataFrame.\n",
            "Try using .loc[row_indexer,col_indexer] = value instead\n",
            "\n",
            "See the caveats in the documentation: https://pandas.pydata.org/pandas-docs/stable/user_guide/indexing.html#returning-a-view-versus-a-copy\n",
            "  combined_subsets_drinking['student_sexual_identity'] = combined_subsets_drinking['student_sexual_identity'].astype('category')\n"
          ]
        }
      ]
    },
    {
      "cell_type": "code",
      "source": [
        "formula2 = 'drinking_frequency ~ source_of_alcohol_for_drinkers * C(year) + C(student_sexual_identity)'\n",
        "model= smf.poisson(formula=formula2, data=combined_subsets_drinking)\n",
        "result= model.fit()\n",
        "print(result.summary())"
      ],
      "metadata": {
        "colab": {
          "base_uri": "https://localhost:8080/"
        },
        "id": "-RkYGLH5zZ9g",
        "outputId": "d7533aba-4b31-4e87-d6ef-5eea4ecb140a"
      },
      "execution_count": 241,
      "outputs": [
        {
          "output_type": "stream",
          "name": "stdout",
          "text": [
            "Optimization terminated successfully.\n",
            "         Current function value: 1.614898\n",
            "         Iterations 5\n",
            "                          Poisson Regression Results                          \n",
            "==============================================================================\n",
            "Dep. Variable:     drinking_frequency   No. Observations:                 3320\n",
            "Model:                        Poisson   Df Residuals:                     3301\n",
            "Method:                           MLE   Df Model:                           18\n",
            "Date:                Tue, 25 Jun 2024   Pseudo R-squ.:                 0.01102\n",
            "Time:                        10:01:14   Log-Likelihood:                -5361.5\n",
            "converged:                       True   LL-Null:                       -5421.2\n",
            "Covariance Type:            nonrobust   LLR p-value:                 5.201e-17\n",
            "=========================================================================================================================\n",
            "                                                            coef    std err          z      P>|z|      [0.025      0.975]\n",
            "-------------------------------------------------------------------------------------------------------------------------\n",
            "Intercept                                                 1.3233      0.051     26.151      0.000       1.224       1.422\n",
            "source_of_alcohol_for_drinkers[T.3.0]                    -0.1809      0.123     -1.465      0.143      -0.423       0.061\n",
            "source_of_alcohol_for_drinkers[T.4.0]                    -0.2880      0.248     -1.161      0.245      -0.774       0.198\n",
            "source_of_alcohol_for_drinkers[T.5.0]                    -0.1821      0.061     -2.990      0.003      -0.302      -0.063\n",
            "source_of_alcohol_for_drinkers[T.6.0]                    -0.4065      0.056     -7.297      0.000      -0.516      -0.297\n",
            "source_of_alcohol_for_drinkers[T.7.0]                    -0.3210      0.063     -5.075      0.000      -0.445      -0.197\n",
            "source_of_alcohol_for_drinkers[T.8.0]                    -0.3059      0.060     -5.091      0.000      -0.424      -0.188\n",
            "C(year)[T.2021]                                          -0.0713      0.074     -0.968      0.333      -0.216       0.073\n",
            "C(student_sexual_identity)[T.2.0]                         0.0495      0.060      0.824      0.410      -0.068       0.167\n",
            "C(student_sexual_identity)[T.3.0]                        -0.0149      0.033     -0.458      0.647      -0.079       0.049\n",
            "C(student_sexual_identity)[T.4.0]                         0.0506      0.057      0.893      0.372      -0.061       0.162\n",
            "C(student_sexual_identity)[T.5.0]                         0.0309      0.071      0.434      0.665      -0.109       0.171\n",
            "C(student_sexual_identity)[T.6.0]                         0.2511      0.170      1.474      0.140      -0.083       0.585\n",
            "source_of_alcohol_for_drinkers[T.3.0]:C(year)[T.2021]     0.1527      0.277      0.550      0.582      -0.391       0.696\n",
            "source_of_alcohol_for_drinkers[T.4.0]:C(year)[T.2021]    -0.0971      0.342     -0.284      0.776      -0.768       0.573\n",
            "source_of_alcohol_for_drinkers[T.5.0]:C(year)[T.2021]     0.0856      0.089      0.962      0.336      -0.089       0.260\n",
            "source_of_alcohol_for_drinkers[T.6.0]:C(year)[T.2021]     0.0794      0.081      0.981      0.327      -0.079       0.238\n",
            "source_of_alcohol_for_drinkers[T.7.0]:C(year)[T.2021]     0.0781      0.092      0.849      0.396      -0.102       0.258\n",
            "source_of_alcohol_for_drinkers[T.8.0]:C(year)[T.2021]     0.1117      0.086      1.293      0.196      -0.058       0.281\n",
            "=========================================================================================================================\n"
          ]
        }
      ]
    },
    {
      "cell_type": "code",
      "source": [
        "\n",
        "combined_subsets_drinking['year_num'] = combined_subsets_drinking['year'].cat.codes\n",
        "combined_subsets_drinking['student_sexual_identity_num'] = combined_subsets_drinking['student_sexual_identity'].cat.codes\n",
        "X = pd.get_dummies(combined_subsets_drinking[['year_num', 'student_sexual_identity_num']], drop_first=True)\n",
        "\n",
        "#add a constant term to the design matrix\n",
        "X = sm.add_constant(X)\n",
        "print(\"Dependent variable (y) data type:\", combined_subsets_drinking['source_of_alcohol_for_drinkers_code'].dtype)\n",
        "print(\"Independent variables (X) data types:\\n\", X.dtypes)"
      ],
      "metadata": {
        "colab": {
          "base_uri": "https://localhost:8080/"
        },
        "collapsed": true,
        "id": "trOpQS0b2F77",
        "outputId": "16869b22-f069-473d-cb76-107949c361ce"
      },
      "execution_count": 250,
      "outputs": [
        {
          "output_type": "stream",
          "name": "stdout",
          "text": [
            "Dependent variable (y) data type: int8\n",
            "Independent variables (X) data types:\n",
            " const                          float64\n",
            "year_num                          int8\n",
            "student_sexual_identity_num       int8\n",
            "dtype: object\n"
          ]
        },
        {
          "output_type": "stream",
          "name": "stderr",
          "text": [
            "<ipython-input-250-c68c3281f875>:1: SettingWithCopyWarning: \n",
            "A value is trying to be set on a copy of a slice from a DataFrame.\n",
            "Try using .loc[row_indexer,col_indexer] = value instead\n",
            "\n",
            "See the caveats in the documentation: https://pandas.pydata.org/pandas-docs/stable/user_guide/indexing.html#returning-a-view-versus-a-copy\n",
            "  combined_subsets_drinking['year_num'] = combined_subsets_drinking['year'].cat.codes\n",
            "<ipython-input-250-c68c3281f875>:2: SettingWithCopyWarning: \n",
            "A value is trying to be set on a copy of a slice from a DataFrame.\n",
            "Try using .loc[row_indexer,col_indexer] = value instead\n",
            "\n",
            "See the caveats in the documentation: https://pandas.pydata.org/pandas-docs/stable/user_guide/indexing.html#returning-a-view-versus-a-copy\n",
            "  combined_subsets_drinking['student_sexual_identity_num'] = combined_subsets_drinking['student_sexual_identity'].cat.codes\n"
          ]
        }
      ]
    },
    {
      "cell_type": "code",
      "source": [
        "model_mnlogit = sm.MNLogit(combined_subsets_drinking['source_of_alcohol_for_drinkers_code'], X)\n",
        "result_mnlogit = model_mnlogit.fit()\n",
        "print(result_mnlogit.summary())"
      ],
      "metadata": {
        "id": "wwOiJ3H24Z6K",
        "outputId": "71f456d0-fec3-43e0-dcaa-bf6c52bf9259",
        "colab": {
          "base_uri": "https://localhost:8080/"
        }
      },
      "execution_count": 251,
      "outputs": [
        {
          "output_type": "stream",
          "name": "stdout",
          "text": [
            "Optimization terminated successfully.\n",
            "         Current function value: 1.489020\n",
            "         Iterations 8\n",
            "                                   MNLogit Regression Results                                  \n",
            "===============================================================================================\n",
            "Dep. Variable:     source_of_alcohol_for_drinkers_code   No. Observations:                 3320\n",
            "Model:                                         MNLogit   Df Residuals:                     3302\n",
            "Method:                                            MLE   Df Model:                           12\n",
            "Date:                                 Tue, 25 Jun 2024   Pseudo R-squ.:                0.004015\n",
            "Time:                                         10:15:50   Log-Likelihood:                -4943.5\n",
            "converged:                                        True   LL-Null:                       -4963.5\n",
            "Covariance Type:                             nonrobust   LLR p-value:                 7.603e-05\n",
            "=========================================================================================================\n",
            "source_of_alcohol_for_drinkers_code=1       coef    std err          z      P>|z|      [0.025      0.975]\n",
            "---------------------------------------------------------------------------------------------------------\n",
            "const                                    -1.4418      0.231     -6.240      0.000      -1.895      -0.989\n",
            "year_num                                 -1.5841      0.512     -3.092      0.002      -2.588      -0.580\n",
            "student_sexual_identity_num               0.0748      0.267      0.280      0.780      -0.449       0.599\n",
            "---------------------------------------------------------------------------------------------------------\n",
            "source_of_alcohol_for_drinkers_code=2       coef    std err          z      P>|z|      [0.025      0.975]\n",
            "---------------------------------------------------------------------------------------------------------\n",
            "const                                    -2.9160      0.429     -6.803      0.000      -3.756      -2.076\n",
            "year_num                                  0.2696      0.564      0.478      0.633      -0.836       1.375\n",
            "student_sexual_identity_num               0.2460      0.277      0.888      0.374      -0.297       0.789\n",
            "---------------------------------------------------------------------------------------------------------\n",
            "source_of_alcohol_for_drinkers_code=3       coef    std err          z      P>|z|      [0.025      0.975]\n",
            "---------------------------------------------------------------------------------------------------------\n",
            "const                                     0.9218      0.117      7.856      0.000       0.692       1.152\n",
            "year_num                                 -0.2015      0.167     -1.204      0.229      -0.529       0.127\n",
            "student_sexual_identity_num               0.2402      0.102      2.358      0.018       0.041       0.440\n",
            "---------------------------------------------------------------------------------------------------------\n",
            "source_of_alcohol_for_drinkers_code=4       coef    std err          z      P>|z|      [0.025      0.975]\n",
            "---------------------------------------------------------------------------------------------------------\n",
            "const                                     1.9036      0.107     17.845      0.000       1.695       2.113\n",
            "year_num                                 -0.1805      0.151     -1.194      0.233      -0.477       0.116\n",
            "student_sexual_identity_num               0.2725      0.095      2.871      0.004       0.086       0.458\n",
            "---------------------------------------------------------------------------------------------------------\n",
            "source_of_alcohol_for_drinkers_code=5       coef    std err          z      P>|z|      [0.025      0.975]\n",
            "---------------------------------------------------------------------------------------------------------\n",
            "const                                     0.7863      0.119      6.605      0.000       0.553       1.020\n",
            "year_num                                 -0.2158      0.169     -1.274      0.203      -0.548       0.116\n",
            "student_sexual_identity_num               0.3945      0.100      3.951      0.000       0.199       0.590\n",
            "---------------------------------------------------------------------------------------------------------\n",
            "source_of_alcohol_for_drinkers_code=6       coef    std err          z      P>|z|      [0.025      0.975]\n",
            "---------------------------------------------------------------------------------------------------------\n",
            "const                                     1.1456      0.114     10.045      0.000       0.922       1.369\n",
            "year_num                                 -0.0001      0.161     -0.001      0.999      -0.315       0.315\n",
            "student_sexual_identity_num               0.2050      0.099      2.063      0.039       0.010       0.400\n",
            "=========================================================================================================\n"
          ]
        }
      ]
    },
    {
      "cell_type": "markdown",
      "source": [
        "##mental health problems and alcohol use co-ocurrence"
      ],
      "metadata": {
        "id": "4y8o79ObgzqH"
      }
    },
    {
      "cell_type": "code",
      "source": [],
      "metadata": {
        "id": "hifulqr12FlM"
      },
      "execution_count": null,
      "outputs": []
    }
  ]
}